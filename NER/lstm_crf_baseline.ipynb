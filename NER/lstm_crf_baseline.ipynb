{
  "nbformat": 4,
  "nbformat_minor": 0,
  "metadata": {
    "kernelspec": {
      "display_name": "Python 3",
      "language": "python",
      "name": "python3"
    },
    "language_info": {
      "codemirror_mode": {
        "name": "ipython",
        "version": 3
      },
      "file_extension": ".py",
      "mimetype": "text/x-python",
      "name": "python",
      "nbconvert_exporter": "python",
      "pygments_lexer": "ipython3",
      "version": "3.7.1"
    },
    "colab": {
      "name": "lstm_crf_baseline.ipynb",
      "provenance": []
    }
  },
  "cells": [
    {
      "cell_type": "code",
      "metadata": {
        "id": "I5GMUBhNfZFW",
        "colab_type": "code",
        "colab": {}
      },
      "source": [
        "import torch\n",
        "import torch.nn as nn\n",
        "import torch.nn.functional as F\n",
        "import torch.optim as optim\n",
        "\n",
        "import numpy as np\n",
        "import random\n",
        "import math"
      ],
      "execution_count": 0,
      "outputs": []
    },
    {
      "cell_type": "code",
      "metadata": {
        "id": "hHz1jzC00vrQ",
        "colab_type": "code",
        "colab": {
          "base_uri": "https://localhost:8080/",
          "height": 34
        },
        "outputId": "5cd99959-b46e-4683-f14e-0c73333708c1"
      },
      "source": [
        "!/opt/bin/nvidia-smi"
      ],
      "execution_count": 14,
      "outputs": [
        {
          "output_type": "stream",
          "text": [
            "/bin/bash: /opt/bin/nvidia-smi: No such file or directory\n"
          ],
          "name": "stdout"
        }
      ]
    },
    {
      "cell_type": "code",
      "metadata": {
        "id": "MDzTyqSDfsmu",
        "colab_type": "code",
        "colab": {
          "base_uri": "https://localhost:8080/",
          "height": 34
        },
        "outputId": "a722a563-e84c-4cfe-aa64-b0ff1808c61a"
      },
      "source": [
        "device = torch.device('cuda' if torch.cuda.is_available() else 'cpu')\n",
        "device"
      ],
      "execution_count": 15,
      "outputs": [
        {
          "output_type": "execute_result",
          "data": {
            "text/plain": [
              "device(type='cpu')"
            ]
          },
          "metadata": {
            "tags": []
          },
          "execution_count": 15
        }
      ]
    },
    {
      "cell_type": "code",
      "metadata": {
        "id": "r41554Laf4uj",
        "colab_type": "code",
        "colab": {
          "base_uri": "https://localhost:8080/",
          "height": 34
        },
        "outputId": "9366ad3a-6918-4de5-dd7d-65732b97aa19"
      },
      "source": [
        "# load data\n",
        "# from google.colab import drive\n",
        "# drive.mount('/content/drive')\n",
        "\n",
        "try:\n",
        "  print('running in colab!')\n",
        "  from google_drive_downloader import GoogleDriveDownloader as gdd\n",
        "\n",
        "  gdd.download_file_from_google_drive(\n",
        "          file_id='1RFZmH6cLFbivA0VeDc6s56bRTgc2NhL1',\n",
        "          dest_path='NER_Data/vocab.txt',\n",
        "      )\n",
        "\n",
        "  gdd.download_file_from_google_drive(\n",
        "          file_id='1JqV332A6ZWZEHv64vzCFmSNVpC1Mox8J',\n",
        "          dest_path='NER_Data/msra.zip',\n",
        "          unzip=True\n",
        "      )\n",
        "  MAIN_PATH = '/content/NER_Data/'\n",
        "except:\n",
        "  print('running in local environment!')\n",
        "  MAIN_PATH = './'"
      ],
      "execution_count": 3,
      "outputs": [
        {
          "output_type": "stream",
          "text": [
            "running in colab!\n"
          ],
          "name": "stdout"
        }
      ]
    },
    {
      "cell_type": "code",
      "metadata": {
        "id": "NtzaciW3fZFc",
        "colab_type": "code",
        "colab": {
          "base_uri": "https://localhost:8080/",
          "height": 68
        },
        "outputId": "b917ffd3-f694-4e8a-c406-9626ebc29b08"
      },
      "source": [
        "# params for model\n",
        "model_config = dict(\n",
        "        embedding_dim=32,\n",
        "        hidden_dim=64,\n",
        "        vocab_size=10000,\n",
        "        target_size=7\n",
        "    )\n",
        "\n",
        "# params for data processing\n",
        "data_config = dict(\n",
        "        seq_len=64,\n",
        "        batch_size=32,\n",
        "        padding_idx=0,\n",
        "        unknown_idx=1\n",
        "    )\n",
        "\n",
        "# params for model training\n",
        "train_config = dict(\n",
        "        epochs=10,\n",
        "        lr=1e-3,\n",
        "        loss_type='softmax'\n",
        "    )\n",
        "\n",
        "START_TAG = \"<START>\"\n",
        "STOP_TAG = \"<STOP>\"\n",
        "\n",
        "print('model params:', model_config)\n",
        "print('data params:', data_config)\n",
        "print('train parmas:', train_config)"
      ],
      "execution_count": 4,
      "outputs": [
        {
          "output_type": "stream",
          "text": [
            "model params: {'embedding_dim': 32, 'hidden_dim': 64, 'vocab_size': 10000, 'target_size': 7}\n",
            "data params: {'seq_len': 64, 'batch_size': 32, 'padding_idx': 0, 'unknown_idx': 1}\n",
            "train parmas: {'epochs': 10, 'lr': 0.001, 'loss_type': 'softmax'}\n"
          ],
          "name": "stdout"
        }
      ]
    },
    {
      "cell_type": "code",
      "metadata": {
        "id": "ZhB5fqjrfZFg",
        "colab_type": "code",
        "colab": {}
      },
      "source": [
        "def argmax(vec):\n",
        "    # return the argmax as a python int\n",
        "    _, idx = torch.max(vec, 1)\n",
        "    return idx.item()\n",
        "\n",
        "# Compute log sum exp in a numerically stable way for the forward algorithm\n",
        "def log_sum_exp(vec):\n",
        "    max_score = vec[0, argmax(vec)]\n",
        "    max_score_broadcast = max_score.view(1, -1).expand(1, vec.size()[1])\n",
        "    return max_score + \\\n",
        "        torch.log(torch.sum(torch.exp(vec - max_score_broadcast)))"
      ],
      "execution_count": 0,
      "outputs": []
    },
    {
      "cell_type": "code",
      "metadata": {
        "scrolled": false,
        "id": "bDWn8Xd9fZFj",
        "colab_type": "code",
        "colab": {}
      },
      "source": [
        "# lstm+crf: baseline model\n",
        "class lstm_crf_ner(nn.Module):\n",
        "\n",
        "    def __init__(self, vocab_size, tag_to_ix, embedding_dim, hidden_dim, batch_size):\n",
        "        super(lstm_crf_ner, self).__init__()\n",
        "        # params\n",
        "        self.embedding_dim = embedding_dim\n",
        "        self.hidden_dim = hidden_dim\n",
        "        self.vocab_size = vocab_size\n",
        "        self.tag_to_ix = tag_to_ix\n",
        "        self.tagset_size = len(tag_to_ix)\n",
        "        self.batch_size = batch_size\n",
        "\n",
        "        self.word_embeds = nn.Embedding(vocab_size, embedding_dim)\n",
        "        self.lstm = nn.LSTM(embedding_dim, hidden_dim // 2,\n",
        "                            num_layers=1, bidirectional=True, batch_first=True)\n",
        "\n",
        "        # Maps the output of the LSTM into tag space.\n",
        "        self.hidden2tag = nn.Linear(hidden_dim, self.tagset_size)\n",
        "\n",
        "        # Matrix of transition parameters.  Entry i,j is the score of\n",
        "        # transitioning *to* i *from* j.\n",
        "        self.transitions = nn.Parameter(\n",
        "            torch.randn(self.tagset_size, self.tagset_size))\n",
        "\n",
        "        # These two statements enforce the constraint that we never transfer\n",
        "        # to the start tag and we never transfer from the stop tag\n",
        "        self.transitions.data[tag_to_ix[START_TAG], :] = -10000\n",
        "        self.transitions.data[:, tag_to_ix[STOP_TAG]] = -10000\n",
        "\n",
        "        self.hidden = self.init_hidden()\n",
        "\n",
        "    def init_hidden(self):\n",
        "        return (torch.randn(2, self.batch_size, self.hidden_dim // 2),\n",
        "                torch.randn(2, self.batch_size, self.hidden_dim // 2))\n",
        "\n",
        "    def _forward_alg(self, feats):\n",
        "        # Do the forward algorithm to compute the partition function\n",
        "        init_alphas = torch.full((1, self.tagset_size), -10000.)\n",
        "        # START_TAG has all of the score.\n",
        "        init_alphas[0][self.tag_to_ix[START_TAG]] = 0.\n",
        "\n",
        "        # Wrap in a variable so that we will get automatic backprop\n",
        "        forward_var = init_alphas\n",
        "\n",
        "        # Iterate through the sentence\n",
        "        for feat in feats:\n",
        "            alphas_t = []  # The forward tensors at this timestep\n",
        "            for next_tag in range(self.tagset_size):\n",
        "                # broadcast the emission score: it is the same regardless of\n",
        "                # the previous tag\n",
        "                emit_score = feat[next_tag].view(\n",
        "                    1, -1).expand(1, self.tagset_size)\n",
        "                # the ith entry of trans_score is the score of transitioning to\n",
        "                # next_tag from i\n",
        "                trans_score = self.transitions[next_tag].view(1, -1)\n",
        "                # The ith entry of next_tag_var is the value for the\n",
        "                # edge (i -> next_tag) before we do log-sum-exp\n",
        "                next_tag_var = forward_var + trans_score + emit_score\n",
        "                # The forward variable for this tag is log-sum-exp of all the\n",
        "                # scores.\n",
        "                alphas_t.append(log_sum_exp(next_tag_var).view(1))\n",
        "            forward_var = torch.cat(alphas_t).view(1, -1)\n",
        "        terminal_var = forward_var + self.transitions[self.tag_to_ix[STOP_TAG]]\n",
        "        alpha = log_sum_exp(terminal_var)\n",
        "        return alpha\n",
        "\n",
        "    def _get_lstm_features(self, batch_sentence):\n",
        "        self.hidden = self.init_hidden()\n",
        "        embeds = self.word_embeds(batch_sentence) #(batch_size, seq_len, embedding_dim)\n",
        "        lstm_out, self.hidden = self.lstm(embeds, self.hidden) #(batch_size, seq_len, hidden_dim)\n",
        "        lstm_feats = self.hidden2tag(lstm_out) #(batch_size, seq_len, target_size)\n",
        "        return lstm_feats\n",
        "\n",
        "    def _score_sentence(self, feats, tags):\n",
        "        # Gives the score of a provided tag sequence\n",
        "        score = torch.zeros(1)\n",
        "        tags = torch.cat([torch.tensor([self.tag_to_ix[START_TAG]], dtype=torch.long), tags])\n",
        "        for i, feat in enumerate(feats):\n",
        "            score = score + \\\n",
        "                self.transitions[tags[i + 1], tags[i]] + feat[tags[i + 1]]\n",
        "        score = score + self.transitions[self.tag_to_ix[STOP_TAG], tags[-1]]\n",
        "        return score\n",
        "\n",
        "    def _viterbi_decode(self, feats):\n",
        "        backpointers = []\n",
        "\n",
        "        # Initialize the viterbi variables in log space\n",
        "        init_vvars = torch.full((1, self.tagset_size), -10000.)\n",
        "        init_vvars[0][self.tag_to_ix[START_TAG]] = 0\n",
        "\n",
        "        # forward_var at step i holds the viterbi variables for step i-1\n",
        "        forward_var = init_vvars\n",
        "        for feat in feats:\n",
        "            bptrs_t = []  # holds the backpointers for this step\n",
        "            viterbivars_t = []  # holds the viterbi variables for this step\n",
        "\n",
        "            for next_tag in range(self.tagset_size):\n",
        "                # next_tag_var[i] holds the viterbi variable for tag i at the\n",
        "                # previous step, plus the score of transitioning\n",
        "                # from tag i to next_tag.\n",
        "                # We don't include the emission scores here because the max\n",
        "                # does not depend on them (we add them in below)\n",
        "                next_tag_var = forward_var + self.transitions[next_tag]\n",
        "                best_tag_id = argmax(next_tag_var)\n",
        "                bptrs_t.append(best_tag_id)\n",
        "                viterbivars_t.append(next_tag_var[0][best_tag_id].view(1))\n",
        "            # Now add in the emission scores, and assign forward_var to the set\n",
        "            # of viterbi variables we just computed\n",
        "            forward_var = (torch.cat(viterbivars_t) + feat).view(1, -1)\n",
        "            backpointers.append(bptrs_t)\n",
        "\n",
        "        # Transition to STOP_TAG\n",
        "        terminal_var = forward_var + self.transitions[self.tag_to_ix[STOP_TAG]]\n",
        "        best_tag_id = argmax(terminal_var)\n",
        "        path_score = terminal_var[0][best_tag_id]\n",
        "\n",
        "        # Follow the back pointers to decode the best path.\n",
        "        best_path = [best_tag_id]\n",
        "        for bptrs_t in reversed(backpointers):\n",
        "            best_tag_id = bptrs_t[best_tag_id]\n",
        "            best_path.append(best_tag_id)\n",
        "        # Pop off the start tag (we dont want to return that to the caller)\n",
        "        start = best_path.pop()\n",
        "        assert start == self.tag_to_ix[START_TAG]  # Sanity check\n",
        "        best_path.reverse()\n",
        "        return path_score, best_path\n",
        "\n",
        "    def neg_log_likelihood(self, batch_sentence, batch_tags):\n",
        "        \n",
        "        # Avoid breaking if the last batch has a different size\n",
        "        if batch_sentence.size(0) != self.batch_size:\n",
        "            self.batch_size = batch_sentence.size(0)\n",
        "        \n",
        "        batch_feats = self._get_lstm_features(batch_sentence)\n",
        "        batch_score = 0\n",
        "        for i in range(self.batch_size):\n",
        "            feats, tags = batch_feats[i,:,:], batch_tags[i,:]\n",
        "            forward_score = self._forward_alg(feats)\n",
        "            gold_score = self._score_sentence(feats, tags)\n",
        "            batch_score += forward_score - gold_score\n",
        "        return batch_score / self.batch_size\n",
        "\n",
        "    def forward(self, batch_sentence):  # dont confuse this with _forward_alg above.\n",
        "        # Get the emission scores from the BiLSTM\n",
        "        batch_lstm_feats = self._get_lstm_features(batch_sentence)\n",
        "        \n",
        "        batch_tag_seq = []\n",
        "        # Find the best path, given the features.\n",
        "        for i in range(self.batch_size):\n",
        "            lstm_feats = batch_lstm_feats[i,:,:]\n",
        "            score, tag_seq = self._viterbi_decode(lstm_feats)\n",
        "            batch_tag_seq.append(tag_seq)\n",
        "        return np.array(batch_tag_seq)"
      ],
      "execution_count": 0,
      "outputs": []
    },
    {
      "cell_type": "code",
      "metadata": {
        "scrolled": true,
        "id": "CoZGwBDMfZFn",
        "colab_type": "code",
        "colab": {
          "base_uri": "https://localhost:8080/",
          "height": 309
        },
        "outputId": "77f80455-07fa-48ea-a379-1ed8c647774d"
      },
      "source": [
        "# get tokens from bert vocab\n",
        "token_idx = {}\n",
        "with open(MAIN_PATH+'vocab.txt','r') as f:\n",
        "    for line in f:\n",
        "        token_idx[line.strip()] = len(token_idx)+2\n",
        "#print(token_idx)\n",
        "\n",
        "# add special token\n",
        "token_idx['<PAD>'] = data_config['padding_idx']\n",
        "token_idx['<UNK>'] = data_config['unknown_idx']\n",
        "\n",
        "# tags map\n",
        "tag_idx = {'O':0, \n",
        "           'B-ORG':1, 'I-ORG':2, \n",
        "           'B-LOC':3, 'I-LOC':4, \n",
        "           'B-PER':5, 'I-PER':6,}\n",
        "tag_idx[START_TAG] = len(tag_idx)\n",
        "tag_idx[STOP_TAG] = len(tag_idx)\n",
        "\n",
        "def sentence_padding(x):\n",
        "    x = [[token_idx.get(token,data_config['unknown_idx']) for token in sent.split()] for sent in x]\n",
        "    x = [sent[:data_config['seq_len']]+[data_config['padding_idx']]*(max(0,data_config['seq_len']-len(sent))) for sent in x]\n",
        "    return x\n",
        "\n",
        "def target_padding(y):\n",
        "    y = [[tag_idx[target] for target in targets.split()] for targets in y]\n",
        "    y = [targets[:data_config['seq_len']]+[0]*(max(0,data_config['seq_len']-len(targets))) for targets in y] # 0 stands for 'O'\n",
        "    return y\n",
        "\n",
        "# prepare data \n",
        "def train_data_iter(path_x=MAIN_PATH+'msra/train/sentences.txt',path_y=MAIN_PATH+'msra/train/tags.txt',data_config=data_config,shuffle=True):\n",
        "    \n",
        "    # read x and y\n",
        "    x = open(path_x,'r').read().split('\\n')\n",
        "    y = open(path_y,'r').read().split('\\n')\n",
        "    assert len(x) == len(y),print('data error!')\n",
        "    n = len(x)\n",
        "    \n",
        "    # transform sentence to array\n",
        "    x = sentence_padding(x)\n",
        "    \n",
        "    # transform target to array\n",
        "    y = target_padding(y)\n",
        "    \n",
        "    # shuffle x and y\n",
        "    if shuffle:\n",
        "        x, y = np.array(x), np.array(y)\n",
        "        state = np.random.get_state()\n",
        "        np.random.shuffle(x)\n",
        "        np.random.set_state(state)\n",
        "        np.random.shuffle(y)\n",
        "    \n",
        "    # get batch data\n",
        "    for i in range(math.ceil(n/data_config['batch_size'])-1):\n",
        "        start = i*data_config['batch_size']\n",
        "        end = (i+1)*data_config['batch_size']\n",
        "        yield torch.tensor(x[start:end]), torch.tensor(y[start:end])\n",
        "\n",
        "model_config['vocab_size'] = len(token_idx)+2\n",
        "token_idx_r = {v:k for k,v in token_idx.items()}\n",
        "tag_idx_r = {v:k for k,v in tag_idx.items()}\n",
        "I = train_data_iter()\n",
        "for x,y in I:\n",
        "    print(x.size(), y.size())\n",
        "    for idx in range(5):\n",
        "      print([token_idx_r.get(i,'') for i in x[idx].numpy()])\n",
        "      print(y[idx].numpy())\n",
        "    break"
      ],
      "execution_count": 7,
      "outputs": [
        {
          "output_type": "stream",
          "text": [
            "torch.Size([32, 64]) torch.Size([32, 64])\n",
            "['广', '东', '省', '在', '加', '强', '中', '师', '建', '设', '中', '，', '注', '重', '学', '习', '现', '代', '教', '育', '理', '论', '，', '更', '新', '教', '育', '观', '念', '，', '了', '解', '和', '掌', '握', '现', '代', '教', '育', '技', '术', '。', '<PAD>', '<PAD>', '<PAD>', '<PAD>', '<PAD>', '<PAD>', '<PAD>', '<PAD>', '<PAD>', '<PAD>', '<PAD>', '<PAD>', '<PAD>', '<PAD>', '<PAD>', '<PAD>', '<PAD>', '<PAD>', '<PAD>', '<PAD>', '<PAD>', '<PAD>']\n",
            "[3 4 4 0 0 0 0 0 0 0 0 0 0 0 0 0 0 0 0 0 0 0 0 0 0 0 0 0 0 0 0 0 0 0 0 0 0\n",
            " 0 0 0 0 0 0 0 0 0 0 0 0 0 0 0 0 0 0 0 0 0 0 0 0 0 0 0]\n",
            "['韩', '肇', '康', '大', '使', '在', '会', '后', '对', '记', '者', '说', '，', '这', '次', '会', '晤', '是', '葡', '萄', '牙', '总', '理', '古', '特', '雷', '斯', '上', '月', '访', '华', '以', '来', '以', '及', '澳', '门', '特', '别', '行', '政', '区', '筹', '委', '会', '成', '立', '以', '来', '的', '首', '次', '组', '长', '会', '晤', '。', '<PAD>', '<PAD>', '<PAD>', '<PAD>', '<PAD>', '<PAD>', '<PAD>']\n",
            "[5 6 6 0 0 0 0 0 0 0 0 0 0 0 0 0 0 0 3 4 4 0 0 5 6 6 6 0 0 0 3 0 0 0 0 1 2\n",
            " 2 2 2 2 2 2 2 2 0 0 0 0 0 0 0 0 0 0 0 0 0 0 0 0 0 0 0]\n",
            "['我', '们', '一', '定', '要', '以', '这', '样', '的', '高', '度', '，', '充', '分', '认', '识', '贯', '彻', '落', '实', '<UNK>', '五', '句', '话', '<UNK>', '的', '极', '端', '重', '要', '性', '。', '<PAD>', '<PAD>', '<PAD>', '<PAD>', '<PAD>', '<PAD>', '<PAD>', '<PAD>', '<PAD>', '<PAD>', '<PAD>', '<PAD>', '<PAD>', '<PAD>', '<PAD>', '<PAD>', '<PAD>', '<PAD>', '<PAD>', '<PAD>', '<PAD>', '<PAD>', '<PAD>', '<PAD>', '<PAD>', '<PAD>', '<PAD>', '<PAD>', '<PAD>', '<PAD>', '<PAD>', '<PAD>']\n",
            "[0 0 0 0 0 0 0 0 0 0 0 0 0 0 0 0 0 0 0 0 0 0 0 0 0 0 0 0 0 0 0 0 0 0 0 0 0\n",
            " 0 0 0 0 0 0 0 0 0 0 0 0 0 0 0 0 0 0 0 0 0 0 0 0 0 0 0]\n",
            "['长', '江', '，', '又', '似', '一', '张', '世', '界', '最', '长', '的', '风', '景', '门', '票', '，', '门', '票', '上', '的', '景', '点', '可', '以', '装', '订', '成', '如', '神', '女', '峰', '高', '的', '画', '本', '。', '<PAD>', '<PAD>', '<PAD>', '<PAD>', '<PAD>', '<PAD>', '<PAD>', '<PAD>', '<PAD>', '<PAD>', '<PAD>', '<PAD>', '<PAD>', '<PAD>', '<PAD>', '<PAD>', '<PAD>', '<PAD>', '<PAD>', '<PAD>', '<PAD>', '<PAD>', '<PAD>', '<PAD>', '<PAD>', '<PAD>', '<PAD>']\n",
            "[3 4 0 0 0 0 0 0 0 0 0 0 0 0 0 0 0 0 0 0 0 0 0 0 0 0 0 0 0 3 4 4 0 0 0 0 0\n",
            " 0 0 0 0 0 0 0 0 0 0 0 0 0 0 0 0 0 0 0 0 0 0 0 0 0 0 0]\n",
            "['要', '适', '应', '瞬', '息', '万', '变', '的', '市', '场', '竞', '争', '，', '就', '要', '加', '强', '学', '习', '，', '拓', '展', '思', '路', '，', '紧', '紧', '跟', '上', '时', '代', '前', '进', '的', '步', '伐', '。', '<PAD>', '<PAD>', '<PAD>', '<PAD>', '<PAD>', '<PAD>', '<PAD>', '<PAD>', '<PAD>', '<PAD>', '<PAD>', '<PAD>', '<PAD>', '<PAD>', '<PAD>', '<PAD>', '<PAD>', '<PAD>', '<PAD>', '<PAD>', '<PAD>', '<PAD>', '<PAD>', '<PAD>', '<PAD>', '<PAD>', '<PAD>']\n",
            "[0 0 0 0 0 0 0 0 0 0 0 0 0 0 0 0 0 0 0 0 0 0 0 0 0 0 0 0 0 0 0 0 0 0 0 0 0\n",
            " 0 0 0 0 0 0 0 0 0 0 0 0 0 0 0 0 0 0 0 0 0 0 0 0 0 0 0]\n"
          ],
          "name": "stdout"
        }
      ]
    },
    {
      "cell_type": "code",
      "metadata": {
        "scrolled": true,
        "id": "-omtDVXMfZFq",
        "colab_type": "code",
        "colab": {
          "base_uri": "https://localhost:8080/",
          "height": 508
        },
        "outputId": "8c093dec-0883-4580-fcb0-39645e44d1bd"
      },
      "source": [
        "# evaluate trained model on some cases\n",
        "def evaluation_case(model, path_x=MAIN_PATH+'msra/val/sentences.txt', path_y=MAIN_PATH+'msra/val/tags.txt', n=1):\n",
        "    Iter_val = train_data_iter(path_x, path_y, data_config, shuffle=False)\n",
        "    x,y = next(Iter_val)\n",
        "    tag_pred = model(x)\n",
        "    for sent, tag in zip(x[:n].numpy(), tag_pred[:n]):\n",
        "        print('\\t',[token_idx_r.get(i,'')+':'+tag_idx_r[j] for i,j in zip(sent, tag)])\n",
        "\n",
        "# train model and evaluation\n",
        "def train(model_config, data_config, train_config):\n",
        "    \n",
        "    print('training start...')\n",
        "    print('[params]:')\n",
        "    print('\\tmodel params:', model_config)\n",
        "    print('\\tdata params:', data_config)\n",
        "    print('\\ttrain parmas:', train_config)\n",
        "    \n",
        "    # build model\n",
        "    model = lstm_crf_ner(embedding_dim=model_config['embedding_dim'],\n",
        "                     hidden_dim=model_config['hidden_dim'],\n",
        "                     vocab_size=model_config['vocab_size'], \n",
        "                     tag_to_ix=tag_idx,\n",
        "                     batch_size=data_config['batch_size'])\n",
        "    print('[build model]:')\n",
        "    print(model)\n",
        "    \n",
        "    # opt\n",
        "    optimizer = optim.Adam(model.parameters(), lr=train_config['lr'])\n",
        "    \n",
        "    # train\n",
        "    for i in range(train_config['epochs']):\n",
        "        \n",
        "        # record loss every epoch\n",
        "        loss_value = []\n",
        "        \n",
        "        # get data flow\n",
        "        Iter = train_data_iter(data_config=data_config)\n",
        "        \n",
        "        for x,y in Iter:\n",
        "            \n",
        "            # model init\n",
        "            model.zero_grad()\n",
        "            #model._init_lstm_state()\n",
        "            \n",
        "            \n",
        "            loss = model.neg_log_likelihood(x, y)\n",
        "            \n",
        "            # record\n",
        "            loss_value.append(loss.item())\n",
        "            \n",
        "            # weight update\n",
        "            loss.backward()\n",
        "            optimizer.step()\n",
        "            \n",
        "        print('[epoch %d]\\tloss=%s' % (i, np.mean(loss_value)))\n",
        "        #print('all loss:', loss_value)\n",
        "        print('[evaluation]:')\n",
        "        evaluation_case(model, n=2)\n",
        "            \n",
        "train(model_config, data_config, train_config)"
      ],
      "execution_count": 8,
      "outputs": [
        {
          "output_type": "stream",
          "text": [
            "training start...\n",
            "[params]:\n",
            "\tmodel params: {'embedding_dim': 32, 'hidden_dim': 64, 'vocab_size': 21132, 'target_size': 7}\n",
            "\tdata params: {'seq_len': 64, 'batch_size': 32, 'padding_idx': 0, 'unknown_idx': 1}\n",
            "\ttrain parmas: {'epochs': 10, 'lr': 0.001, 'loss_type': 'softmax'}\n",
            "[build model]:\n",
            "lstm_crf_ner(\n",
            "  (word_embeds): Embedding(21132, 32)\n",
            "  (lstm): LSTM(32, 32, batch_first=True, bidirectional=True)\n",
            "  (hidden2tag): Linear(in_features=64, out_features=9, bias=True)\n",
            ")\n"
          ],
          "name": "stdout"
        },
        {
          "output_type": "error",
          "ename": "KeyboardInterrupt",
          "evalue": "ignored",
          "traceback": [
            "\u001b[0;31m---------------------------------------------------------------------------\u001b[0m",
            "\u001b[0;31mKeyboardInterrupt\u001b[0m                         Traceback (most recent call last)",
            "\u001b[0;32m<ipython-input-8-409e1d2de6fa>\u001b[0m in \u001b[0;36m<module>\u001b[0;34m()\u001b[0m\n\u001b[1;32m     57\u001b[0m         \u001b[0mevaluation_case\u001b[0m\u001b[0;34m(\u001b[0m\u001b[0mmodel\u001b[0m\u001b[0;34m,\u001b[0m \u001b[0mn\u001b[0m\u001b[0;34m=\u001b[0m\u001b[0;36m2\u001b[0m\u001b[0;34m)\u001b[0m\u001b[0;34m\u001b[0m\u001b[0;34m\u001b[0m\u001b[0m\n\u001b[1;32m     58\u001b[0m \u001b[0;34m\u001b[0m\u001b[0m\n\u001b[0;32m---> 59\u001b[0;31m \u001b[0mtrain\u001b[0m\u001b[0;34m(\u001b[0m\u001b[0mmodel_config\u001b[0m\u001b[0;34m,\u001b[0m \u001b[0mdata_config\u001b[0m\u001b[0;34m,\u001b[0m \u001b[0mtrain_config\u001b[0m\u001b[0;34m)\u001b[0m\u001b[0;34m\u001b[0m\u001b[0;34m\u001b[0m\u001b[0m\n\u001b[0m",
            "\u001b[0;32m<ipython-input-8-409e1d2de6fa>\u001b[0m in \u001b[0;36mtrain\u001b[0;34m(model_config, data_config, train_config)\u001b[0m\n\u001b[1;32m     46\u001b[0m \u001b[0;34m\u001b[0m\u001b[0m\n\u001b[1;32m     47\u001b[0m             \u001b[0;31m# record\u001b[0m\u001b[0;34m\u001b[0m\u001b[0;34m\u001b[0m\u001b[0;34m\u001b[0m\u001b[0m\n\u001b[0;32m---> 48\u001b[0;31m             \u001b[0mloss_value\u001b[0m\u001b[0;34m.\u001b[0m\u001b[0mappend\u001b[0m\u001b[0;34m(\u001b[0m\u001b[0mloss\u001b[0m\u001b[0;34m.\u001b[0m\u001b[0mitem\u001b[0m\u001b[0;34m(\u001b[0m\u001b[0;34m)\u001b[0m\u001b[0;34m)\u001b[0m\u001b[0;34m\u001b[0m\u001b[0;34m\u001b[0m\u001b[0m\n\u001b[0m\u001b[1;32m     49\u001b[0m \u001b[0;34m\u001b[0m\u001b[0m\n\u001b[1;32m     50\u001b[0m             \u001b[0;31m# weight update\u001b[0m\u001b[0;34m\u001b[0m\u001b[0;34m\u001b[0m\u001b[0;34m\u001b[0m\u001b[0m\n",
            "\u001b[0;31mKeyboardInterrupt\u001b[0m: "
          ]
        }
      ]
    },
    {
      "cell_type": "code",
      "metadata": {
        "id": "fyXs5EiUfZFu",
        "colab_type": "code",
        "colab": {}
      },
      "source": [
        ""
      ],
      "execution_count": 0,
      "outputs": []
    }
  ]
}