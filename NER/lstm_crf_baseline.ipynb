{
  "nbformat": 4,
  "nbformat_minor": 0,
  "metadata": {
    "kernelspec": {
      "name": "python3",
      "display_name": "Python 3"
    },
    "language_info": {
      "codemirror_mode": {
        "name": "ipython",
        "version": 3
      },
      "file_extension": ".py",
      "mimetype": "text/x-python",
      "name": "python",
      "nbconvert_exporter": "python",
      "pygments_lexer": "ipython3",
      "version": "3.7.1"
    },
    "colab": {
      "name": "lstm_crf_baseline.ipynb",
      "provenance": []
    },
    "accelerator": "GPU"
  },
  "cells": [
    {
      "cell_type": "code",
      "metadata": {
        "id": "I5GMUBhNfZFW",
        "colab_type": "code",
        "colab": {}
      },
      "source": [
        "import torch\n",
        "import torch.nn as nn\n",
        "import torch.nn.functional as F\n",
        "import torch.optim as optim\n",
        "\n",
        "import numpy as np\n",
        "import random\n",
        "import math"
      ],
      "execution_count": 0,
      "outputs": []
    },
    {
      "cell_type": "code",
      "metadata": {
        "id": "hHz1jzC00vrQ",
        "colab_type": "code",
        "outputId": "653feb13-e810-4eca-de2e-95c07fd62592",
        "colab": {
          "base_uri": "https://localhost:8080/",
          "height": 306
        }
      },
      "source": [
        "!/opt/bin/nvidia-smi"
      ],
      "execution_count": 2,
      "outputs": [
        {
          "output_type": "stream",
          "text": [
            "Mon Mar  2 03:49:04 2020       \n",
            "+-----------------------------------------------------------------------------+\n",
            "| NVIDIA-SMI 418.67       Driver Version: 418.67       CUDA Version: 10.1     |\n",
            "|-------------------------------+----------------------+----------------------+\n",
            "| GPU  Name        Persistence-M| Bus-Id        Disp.A | Volatile Uncorr. ECC |\n",
            "| Fan  Temp  Perf  Pwr:Usage/Cap|         Memory-Usage | GPU-Util  Compute M. |\n",
            "|===============================+======================+======================|\n",
            "|   0  Tesla P4            Off  | 00000000:00:04.0 Off |                    0 |\n",
            "| N/A   41C    P8     7W /  75W |      0MiB /  7611MiB |      0%      Default |\n",
            "+-------------------------------+----------------------+----------------------+\n",
            "                                                                               \n",
            "+-----------------------------------------------------------------------------+\n",
            "| Processes:                                                       GPU Memory |\n",
            "|  GPU       PID   Type   Process name                             Usage      |\n",
            "|=============================================================================|\n",
            "|  No running processes found                                                 |\n",
            "+-----------------------------------------------------------------------------+\n"
          ],
          "name": "stdout"
        }
      ]
    },
    {
      "cell_type": "code",
      "metadata": {
        "id": "MDzTyqSDfsmu",
        "colab_type": "code",
        "outputId": "3c889342-aa1e-4e75-addc-f9d18507760e",
        "colab": {
          "base_uri": "https://localhost:8080/",
          "height": 34
        }
      },
      "source": [
        "device = torch.device('cuda' if torch.cuda.is_available() else 'cpu')\n",
        "device"
      ],
      "execution_count": 3,
      "outputs": [
        {
          "output_type": "execute_result",
          "data": {
            "text/plain": [
              "device(type='cuda')"
            ]
          },
          "metadata": {
            "tags": []
          },
          "execution_count": 3
        }
      ]
    },
    {
      "cell_type": "code",
      "metadata": {
        "id": "r41554Laf4uj",
        "colab_type": "code",
        "outputId": "318627e1-6633-451d-ce3a-3c812c0bb47f",
        "colab": {
          "base_uri": "https://localhost:8080/",
          "height": 85
        }
      },
      "source": [
        "# load data\n",
        "# from google.colab import drive\n",
        "# drive.mount('/content/drive')\n",
        "\n",
        "try:\n",
        "  print('running in colab!')\n",
        "  from google_drive_downloader import GoogleDriveDownloader as gdd\n",
        "\n",
        "  gdd.download_file_from_google_drive(\n",
        "          file_id='1RFZmH6cLFbivA0VeDc6s56bRTgc2NhL1',\n",
        "          dest_path='NER_Data/vocab.txt',\n",
        "      )\n",
        "\n",
        "  gdd.download_file_from_google_drive(\n",
        "          file_id='1JqV332A6ZWZEHv64vzCFmSNVpC1Mox8J',\n",
        "          dest_path='NER_Data/msra.zip',\n",
        "          unzip=True\n",
        "      )\n",
        "  MAIN_PATH = '/content/NER_Data/'\n",
        "except:\n",
        "  print('running in local environment!')\n",
        "  MAIN_PATH = './'"
      ],
      "execution_count": 4,
      "outputs": [
        {
          "output_type": "stream",
          "text": [
            "running in colab!\n",
            "Downloading 1RFZmH6cLFbivA0VeDc6s56bRTgc2NhL1 into NER_Data/vocab.txt... Done.\n",
            "Downloading 1JqV332A6ZWZEHv64vzCFmSNVpC1Mox8J into NER_Data/msra.zip... Done.\n",
            "Unzipping...Done.\n"
          ],
          "name": "stdout"
        }
      ]
    },
    {
      "cell_type": "code",
      "metadata": {
        "id": "NtzaciW3fZFc",
        "colab_type": "code",
        "outputId": "12f80a4b-d194-4629-ff3a-1da7e7699083",
        "colab": {
          "base_uri": "https://localhost:8080/",
          "height": 68
        }
      },
      "source": [
        "# params for model\n",
        "model_config = dict(\n",
        "        embedding_dim=32,\n",
        "        hidden_dim=64,\n",
        "        vocab_size=10000,\n",
        "        target_size=7\n",
        "    )\n",
        "\n",
        "# params for data processing\n",
        "data_config = dict(\n",
        "        seq_len=64,\n",
        "        batch_size=16,\n",
        "        padding_idx=0,\n",
        "        unknown_idx=1\n",
        "    )\n",
        "\n",
        "# params for model training\n",
        "train_config = dict(\n",
        "        epochs=10,\n",
        "        lr=1e-3,\n",
        "        loss_type='softmax'\n",
        "    )\n",
        "\n",
        "START_TAG = \"<START>\"\n",
        "STOP_TAG = \"<STOP>\"\n",
        "\n",
        "print('model params:', model_config)\n",
        "print('data params:', data_config)\n",
        "print('train parmas:', train_config)"
      ],
      "execution_count": 5,
      "outputs": [
        {
          "output_type": "stream",
          "text": [
            "model params: {'embedding_dim': 32, 'hidden_dim': 64, 'vocab_size': 10000, 'target_size': 7}\n",
            "data params: {'seq_len': 64, 'batch_size': 16, 'padding_idx': 0, 'unknown_idx': 1}\n",
            "train parmas: {'epochs': 10, 'lr': 0.001, 'loss_type': 'softmax'}\n"
          ],
          "name": "stdout"
        }
      ]
    },
    {
      "cell_type": "code",
      "metadata": {
        "id": "ZhB5fqjrfZFg",
        "colab_type": "code",
        "colab": {}
      },
      "source": [
        "def argmax(vec):\n",
        "    # return the argmax as a python int\n",
        "    _, idx = torch.max(vec, 1)\n",
        "    return idx.item()\n",
        "\n",
        "# Compute log sum exp in a numerically stable way for the forward algorithm\n",
        "def log_sum_exp(vec):\n",
        "    max_score = vec[0, argmax(vec)]\n",
        "    max_score_broadcast = max_score.view(1, -1).expand(1, vec.size()[1])\n",
        "    return max_score + \\\n",
        "        torch.log(torch.sum(torch.exp(vec - max_score_broadcast)))"
      ],
      "execution_count": 0,
      "outputs": []
    },
    {
      "cell_type": "code",
      "metadata": {
        "scrolled": false,
        "id": "bDWn8Xd9fZFj",
        "colab_type": "code",
        "colab": {}
      },
      "source": [
        "# lstm+crf: baseline model\n",
        "class lstm_crf_ner(nn.Module):\n",
        "\n",
        "    def __init__(self, vocab_size, tag_to_ix, embedding_dim, hidden_dim, batch_size):\n",
        "        super(lstm_crf_ner, self).__init__()\n",
        "        # params\n",
        "        self.embedding_dim = embedding_dim\n",
        "        self.hidden_dim = hidden_dim\n",
        "        self.vocab_size = vocab_size\n",
        "        self.tag_to_ix = tag_to_ix\n",
        "        self.tagset_size = len(tag_to_ix)\n",
        "        self.batch_size = batch_size\n",
        "\n",
        "        self.word_embeds = nn.Embedding(vocab_size, embedding_dim)\n",
        "        self.lstm = nn.LSTM(embedding_dim, hidden_dim // 2,\n",
        "                            num_layers=1, bidirectional=True, batch_first=True)\n",
        "\n",
        "        # Maps the output of the LSTM into tag space.\n",
        "        self.hidden2tag = nn.Linear(hidden_dim, self.tagset_size)\n",
        "\n",
        "        # Matrix of transition parameters.  Entry i,j is the score of\n",
        "        # transitioning *to* i *from* j.\n",
        "        self.transitions = nn.Parameter(\n",
        "            torch.randn(self.tagset_size, self.tagset_size))\n",
        "\n",
        "        # These two statements enforce the constraint that we never transfer\n",
        "        # to the start tag and we never transfer from the stop tag\n",
        "        self.transitions.data[tag_to_ix[START_TAG], :] = -10000\n",
        "        self.transitions.data[:, tag_to_ix[STOP_TAG]] = -10000\n",
        "\n",
        "        self.hidden = self.init_hidden()\n",
        "\n",
        "    def init_hidden(self):\n",
        "        return (torch.randn(2, self.batch_size, self.hidden_dim // 2),\n",
        "                torch.randn(2, self.batch_size, self.hidden_dim // 2))\n",
        "\n",
        "    def _forward_alg(self, feats):\n",
        "        # Do the forward algorithm to compute the partition function\n",
        "        init_alphas = torch.full((1, self.tagset_size), -10000.)\n",
        "        # START_TAG has all of the score.\n",
        "        init_alphas[0][self.tag_to_ix[START_TAG]] = 0.\n",
        "\n",
        "        # Wrap in a variable so that we will get automatic backprop\n",
        "        forward_var = init_alphas\n",
        "\n",
        "        # Iterate through the sentence\n",
        "        for feat in feats:\n",
        "            alphas_t = []  # The forward tensors at this timestep\n",
        "            for next_tag in range(self.tagset_size):\n",
        "                # broadcast the emission score: it is the same regardless of\n",
        "                # the previous tag\n",
        "                emit_score = feat[next_tag].view(\n",
        "                    1, -1).expand(1, self.tagset_size)\n",
        "                # the ith entry of trans_score is the score of transitioning to\n",
        "                # next_tag from i\n",
        "                trans_score = self.transitions[next_tag].view(1, -1)\n",
        "                # The ith entry of next_tag_var is the value for the\n",
        "                # edge (i -> next_tag) before we do log-sum-exp\n",
        "                next_tag_var = forward_var + trans_score + emit_score\n",
        "                # The forward variable for this tag is log-sum-exp of all the\n",
        "                # scores.\n",
        "                alphas_t.append(log_sum_exp(next_tag_var).view(1))\n",
        "            forward_var = torch.cat(alphas_t).view(1, -1)\n",
        "        terminal_var = forward_var + self.transitions[self.tag_to_ix[STOP_TAG]]\n",
        "        alpha = log_sum_exp(terminal_var)\n",
        "        return alpha\n",
        "\n",
        "    def _get_lstm_features(self, batch_sentence):\n",
        "        self.hidden = self.init_hidden()\n",
        "        embeds = self.word_embeds(batch_sentence) #(batch_size, seq_len, embedding_dim)\n",
        "        lstm_out, self.hidden = self.lstm(embeds, self.hidden) #(batch_size, seq_len, hidden_dim)\n",
        "        lstm_feats = self.hidden2tag(lstm_out) #(batch_size, seq_len, target_size)\n",
        "        return lstm_feats\n",
        "\n",
        "    def _score_sentence(self, feats, tags):\n",
        "        # Gives the score of a provided tag sequence\n",
        "        score = torch.zeros(1)\n",
        "        tags = torch.cat([torch.tensor([self.tag_to_ix[START_TAG]], dtype=torch.long), tags])\n",
        "        for i, feat in enumerate(feats):\n",
        "            score = score + \\\n",
        "                self.transitions[tags[i + 1], tags[i]] + feat[tags[i + 1]]\n",
        "        score = score + self.transitions[self.tag_to_ix[STOP_TAG], tags[-1]]\n",
        "        return score\n",
        "\n",
        "    def _viterbi_decode(self, feats):\n",
        "        backpointers = []\n",
        "\n",
        "        # Initialize the viterbi variables in log space\n",
        "        init_vvars = torch.full((1, self.tagset_size), -10000.)\n",
        "        init_vvars[0][self.tag_to_ix[START_TAG]] = 0\n",
        "\n",
        "        # forward_var at step i holds the viterbi variables for step i-1\n",
        "        forward_var = init_vvars\n",
        "        for feat in feats:\n",
        "            bptrs_t = []  # holds the backpointers for this step\n",
        "            viterbivars_t = []  # holds the viterbi variables for this step\n",
        "\n",
        "            for next_tag in range(self.tagset_size):\n",
        "                # next_tag_var[i] holds the viterbi variable for tag i at the\n",
        "                # previous step, plus the score of transitioning\n",
        "                # from tag i to next_tag.\n",
        "                # We don't include the emission scores here because the max\n",
        "                # does not depend on them (we add them in below)\n",
        "                next_tag_var = forward_var + self.transitions[next_tag]\n",
        "                best_tag_id = argmax(next_tag_var)\n",
        "                bptrs_t.append(best_tag_id)\n",
        "                viterbivars_t.append(next_tag_var[0][best_tag_id].view(1))\n",
        "            # Now add in the emission scores, and assign forward_var to the set\n",
        "            # of viterbi variables we just computed\n",
        "            forward_var = (torch.cat(viterbivars_t) + feat).view(1, -1)\n",
        "            backpointers.append(bptrs_t)\n",
        "\n",
        "        # Transition to STOP_TAG\n",
        "        terminal_var = forward_var + self.transitions[self.tag_to_ix[STOP_TAG]]\n",
        "        best_tag_id = argmax(terminal_var)\n",
        "        path_score = terminal_var[0][best_tag_id]\n",
        "\n",
        "        # Follow the back pointers to decode the best path.\n",
        "        best_path = [best_tag_id]\n",
        "        for bptrs_t in reversed(backpointers):\n",
        "            best_tag_id = bptrs_t[best_tag_id]\n",
        "            best_path.append(best_tag_id)\n",
        "        # Pop off the start tag (we dont want to return that to the caller)\n",
        "        start = best_path.pop()\n",
        "        assert start == self.tag_to_ix[START_TAG]  # Sanity check\n",
        "        best_path.reverse()\n",
        "        return path_score, best_path\n",
        "\n",
        "    def neg_log_likelihood(self, batch_sentence, batch_tags):\n",
        "        \n",
        "        # Avoid breaking if the last batch has a different size\n",
        "        if batch_sentence.size(0) != self.batch_size:\n",
        "            self.batch_size = batch_sentence.size(0)\n",
        "        \n",
        "        batch_feats = self._get_lstm_features(batch_sentence)\n",
        "        batch_score = 0\n",
        "        for i in range(self.batch_size):\n",
        "            feats, tags = batch_feats[i,:,:], batch_tags[i,:]\n",
        "            forward_score = self._forward_alg(feats)\n",
        "            gold_score = self._score_sentence(feats, tags)\n",
        "            batch_score += forward_score - gold_score\n",
        "        return batch_score / self.batch_size\n",
        "\n",
        "    def forward(self, batch_sentence):  # dont confuse this with _forward_alg above.\n",
        "        # Get the emission scores from the BiLSTM\n",
        "        batch_lstm_feats = self._get_lstm_features(batch_sentence)\n",
        "        \n",
        "        batch_tag_seq = []\n",
        "        # Find the best path, given the features.\n",
        "        for i in range(self.batch_size):\n",
        "            lstm_feats = batch_lstm_feats[i,:,:]\n",
        "            score, tag_seq = self._viterbi_decode(lstm_feats)\n",
        "            batch_tag_seq.append(tag_seq)\n",
        "        return np.array(batch_tag_seq)"
      ],
      "execution_count": 0,
      "outputs": []
    },
    {
      "cell_type": "code",
      "metadata": {
        "scrolled": true,
        "id": "CoZGwBDMfZFn",
        "colab_type": "code",
        "outputId": "b44aeae9-efe9-4c3f-f511-449e9699cfa2",
        "colab": {
          "base_uri": "https://localhost:8080/",
          "height": 309
        }
      },
      "source": [
        "# get tokens from bert vocab\n",
        "token_idx = {}\n",
        "with open(MAIN_PATH+'vocab.txt','r') as f:\n",
        "    for line in f:\n",
        "        token_idx[line.strip()] = len(token_idx)+2\n",
        "#print(token_idx)\n",
        "\n",
        "# add special token\n",
        "token_idx['<PAD>'] = data_config['padding_idx']\n",
        "token_idx['<UNK>'] = data_config['unknown_idx']\n",
        "\n",
        "# tags map\n",
        "tag_idx = {'O':0, \n",
        "           'B-ORG':1, 'I-ORG':2, \n",
        "           'B-LOC':3, 'I-LOC':4, \n",
        "           'B-PER':5, 'I-PER':6,}\n",
        "tag_idx[START_TAG] = len(tag_idx)\n",
        "tag_idx[STOP_TAG] = len(tag_idx)\n",
        "\n",
        "def sentence_padding(x):\n",
        "    x = [[token_idx.get(token,data_config['unknown_idx']) for token in sent.split()] for sent in x]\n",
        "    x = [sent[:data_config['seq_len']]+[data_config['padding_idx']]*(max(0,data_config['seq_len']-len(sent))) for sent in x]\n",
        "    return x\n",
        "\n",
        "def target_padding(y):\n",
        "    y = [[tag_idx[target] for target in targets.split()] for targets in y]\n",
        "    y = [targets[:data_config['seq_len']]+[0]*(max(0,data_config['seq_len']-len(targets))) for targets in y] # 0 stands for 'O'\n",
        "    return y\n",
        "\n",
        "# prepare data \n",
        "def train_data_iter(path_x=MAIN_PATH+'msra/train/sentences.txt',path_y=MAIN_PATH+'msra/train/tags.txt',data_config=data_config,shuffle=True):\n",
        "    \n",
        "    # read x and y\n",
        "    x = open(path_x,'r').read().split('\\n')\n",
        "    y = open(path_y,'r').read().split('\\n')\n",
        "    assert len(x) == len(y),print('data error!')\n",
        "    n = len(x)\n",
        "    \n",
        "    # transform sentence to array\n",
        "    x = sentence_padding(x)\n",
        "    \n",
        "    # transform target to array\n",
        "    y = target_padding(y)\n",
        "    \n",
        "    # shuffle x and y\n",
        "    if shuffle:\n",
        "        x, y = np.array(x), np.array(y)\n",
        "        state = np.random.get_state()\n",
        "        np.random.shuffle(x)\n",
        "        np.random.set_state(state)\n",
        "        np.random.shuffle(y)\n",
        "    \n",
        "    # get batch data\n",
        "    for i in range(math.ceil(n/data_config['batch_size'])-1):\n",
        "        start = i*data_config['batch_size']\n",
        "        end = (i+1)*data_config['batch_size']\n",
        "        yield torch.tensor(x[start:end]).to(device), torch.tensor(y[start:end]).to(device)\n",
        "\n",
        "model_config['vocab_size'] = len(token_idx)+2\n",
        "token_idx_r = {v:k for k,v in token_idx.items()}\n",
        "tag_idx_r = {v:k for k,v in tag_idx.items()}\n",
        "I = train_data_iter()\n",
        "for x,y in I:\n",
        "    x,y = x.cpu(),y.cpu()\n",
        "    print(x.size(), y.size())\n",
        "    for idx in range(5):\n",
        "      print([token_idx_r.get(i,'') for i in x[idx].numpy()])\n",
        "      print(y[idx].numpy())\n",
        "    break"
      ],
      "execution_count": 8,
      "outputs": [
        {
          "output_type": "stream",
          "text": [
            "torch.Size([16, 64]) torch.Size([16, 64])\n",
            "['陈', '宗', '兴', '十', '分', '重', '视', '教', '师', '队', '伍', '建', '设', '，', '大', '力', '抓', '重', '点', '学', '科', '建', '设', '，', '他', '认', '为', '这', '是', '学', '校', '建', '设', '的', '关', '键', '。', '<PAD>', '<PAD>', '<PAD>', '<PAD>', '<PAD>', '<PAD>', '<PAD>', '<PAD>', '<PAD>', '<PAD>', '<PAD>', '<PAD>', '<PAD>', '<PAD>', '<PAD>', '<PAD>', '<PAD>', '<PAD>', '<PAD>', '<PAD>', '<PAD>', '<PAD>', '<PAD>', '<PAD>', '<PAD>', '<PAD>', '<PAD>']\n",
            "[5 6 6 0 0 0 0 0 0 0 0 0 0 0 0 0 0 0 0 0 0 0 0 0 0 0 0 0 0 0 0 0 0 0 0 0 0\n",
            " 0 0 0 0 0 0 0 0 0 0 0 0 0 0 0 0 0 0 0 0 0 0 0 0 0 0 0]\n",
            "['１', '９', '９', '０', '年', '，', '南', '京', '紫', '金', '山', '天', '文', '台', '将', '其', '发', '现', '的', '一', '颗', '小', '行', '星', '命', '名', '为', '<UNK>', '吴', '健', '雄', '星', '<UNK>', '。', '<PAD>', '<PAD>', '<PAD>', '<PAD>', '<PAD>', '<PAD>', '<PAD>', '<PAD>', '<PAD>', '<PAD>', '<PAD>', '<PAD>', '<PAD>', '<PAD>', '<PAD>', '<PAD>', '<PAD>', '<PAD>', '<PAD>', '<PAD>', '<PAD>', '<PAD>', '<PAD>', '<PAD>', '<PAD>', '<PAD>', '<PAD>', '<PAD>', '<PAD>', '<PAD>']\n",
            "[0 0 0 0 0 0 3 4 3 4 4 4 4 4 0 0 0 0 0 0 0 0 0 0 0 0 0 0 3 4 4 4 0 0 0 0 0\n",
            " 0 0 0 0 0 0 0 0 0 0 0 0 0 0 0 0 0 0 0 0 0 0 0 0 0 0 0]\n",
            "['名', '列', '第', '八', '至', '第', '十', '位', '的', '是', '巴', '西', '、', '加', '拿', '大', '和', '西', '班', '牙', '，', '它', '们', '的', '国', '民', '生', '产', '总', '值', '分', '别', '为', '７', '０', '９', '６', '亿', '美', '元', '、', '５', '６', '９', '９', '亿', '美', '元', '和', '５', '６', '３', '２', '亿', '美', '元', '。', '<PAD>', '<PAD>', '<PAD>', '<PAD>', '<PAD>', '<PAD>', '<PAD>']\n",
            "[0 0 0 0 0 0 0 0 0 0 3 4 0 3 4 4 0 3 4 4 0 0 0 0 0 0 0 0 0 0 0 0 0 0 0 0 0\n",
            " 0 0 0 0 0 0 0 0 0 0 0 0 0 0 0 0 0 0 0 0 0 0 0 0 0 0 0]\n",
            "['１', '７', '日', '，', '美', '国', '国', '务', '卿', '奥', '尔', '布', '赖', '特', '在', '纽', '约', '发', '表', '一', '番', '非', '同', '寻', '常', '的', '讲', '话', '，', '说', '<UNK>', '不', '信', '任', '的', '围', '墙', '一', '旦', '被', '拆', '除', '，', '我', '们', '就', '可', '随', '时', '与', '伊', '朗', '拟', '定', '一', '份', '通', '往', '正', '常', '关', '系', '的', '建']\n",
            "[0 0 0 0 3 4 0 0 0 5 6 6 6 6 0 3 4 0 0 0 0 0 0 0 0 0 0 0 0 0 0 0 0 0 0 0 0\n",
            " 0 0 0 0 0 0 0 0 0 0 0 0 0 3 4 0 0 0 0 0 0 0 0 0 0 0 0]\n",
            "['到', '去', '年', '底', '，', '已', '清', '理', '取', '消', '上', '述', '不', '符', '合', '规', '定', '的', '两', '类', '企', '业', '１', '１', '０', '０', '多', '家', '，', '重', '新', '批', '准', '继', '续', '享', '受', '优', '惠', '政', '策', '的', '两', '类', '企', '业', '２', '９', '６', '家', '。', '<PAD>', '<PAD>', '<PAD>', '<PAD>', '<PAD>', '<PAD>', '<PAD>', '<PAD>', '<PAD>', '<PAD>', '<PAD>', '<PAD>', '<PAD>']\n",
            "[0 0 0 0 0 0 0 0 0 0 0 0 0 0 0 0 0 0 0 0 0 0 0 0 0 0 0 0 0 0 0 0 0 0 0 0 0\n",
            " 0 0 0 0 0 0 0 0 0 0 0 0 0 0 0 0 0 0 0 0 0 0 0 0 0 0 0]\n"
          ],
          "name": "stdout"
        }
      ]
    },
    {
      "cell_type": "code",
      "metadata": {
        "scrolled": true,
        "id": "-omtDVXMfZFq",
        "colab_type": "code",
        "outputId": "c5b30bd6-54f2-4d65-9a17-a0d2444777c4",
        "colab": {
          "base_uri": "https://localhost:8080/",
          "height": 204
        }
      },
      "source": [
        "# evaluate trained model on some cases\n",
        "def evaluation_case(model, path_x=MAIN_PATH+'msra/val/sentences.txt', path_y=MAIN_PATH+'msra/val/tags.txt', n=1):\n",
        "    Iter_val = train_data_iter(path_x, path_y, data_config, shuffle=False)\n",
        "    x,y = next(Iter_val)\n",
        "    tag_pred = model(x)\n",
        "    for sent, tag in zip(x[:n].numpy(), tag_pred[:n]):\n",
        "        print('\\t',[token_idx_r.get(i,'')+':'+tag_idx_r[j] for i,j in zip(sent, tag)])\n",
        "\n",
        "# train model and evaluation\n",
        "def train(model_config, data_config, train_config):\n",
        "    \n",
        "    print('training start...')\n",
        "    print('[params]:')\n",
        "    print('\\tmodel params:', model_config)\n",
        "    print('\\tdata params:', data_config)\n",
        "    print('\\ttrain parmas:', train_config)\n",
        "    \n",
        "    # build model\n",
        "    model = lstm_crf_ner(embedding_dim=model_config['embedding_dim'],\n",
        "                     hidden_dim=model_config['hidden_dim'],\n",
        "                     vocab_size=model_config['vocab_size'], \n",
        "                     tag_to_ix=tag_idx,\n",
        "                     batch_size=data_config['batch_size']).to(device)\n",
        "    print('[build model]:')\n",
        "    print(model)\n",
        "    \n",
        "    # opt\n",
        "    optimizer = optim.Adam(model.parameters(), lr=train_config['lr'])\n",
        "    \n",
        "    # train\n",
        "    for i in range(train_config['epochs']):\n",
        "        \n",
        "        # record loss every epoch\n",
        "        loss_value = []\n",
        "        \n",
        "        # get data flow\n",
        "        Iter = train_data_iter(data_config=data_config)\n",
        "        \n",
        "        for x,y in Iter:\n",
        "            \n",
        "            # model init\n",
        "            model.zero_grad()\n",
        "            #model._init_lstm_state()\n",
        "            \n",
        "            \n",
        "            loss = model.neg_log_likelihood(x, y)\n",
        "            \n",
        "            # record\n",
        "            loss_value.append(loss.item())\n",
        "            \n",
        "            # weight update\n",
        "            loss.backward()\n",
        "            optimizer.step()\n",
        "            \n",
        "        print('[epoch %d]\\tloss=%s' % (i, np.mean(loss_value)))\n",
        "        #print('all loss:', loss_value)\n",
        "        print('[evaluation]:')\n",
        "        evaluation_case(model, n=2)\n",
        "            \n",
        "train(model_config, data_config, train_config)"
      ],
      "execution_count": 0,
      "outputs": [
        {
          "output_type": "stream",
          "text": [
            "training start...\n",
            "[params]:\n",
            "\tmodel params: {'embedding_dim': 32, 'hidden_dim': 64, 'vocab_size': 21132, 'target_size': 7}\n",
            "\tdata params: {'seq_len': 64, 'batch_size': 16, 'padding_idx': 0, 'unknown_idx': 1}\n",
            "\ttrain parmas: {'epochs': 10, 'lr': 0.001, 'loss_type': 'softmax'}\n",
            "[build model]:\n",
            "lstm_crf_ner(\n",
            "  (word_embeds): Embedding(21132, 32)\n",
            "  (lstm): LSTM(32, 32, batch_first=True, bidirectional=True)\n",
            "  (hidden2tag): Linear(in_features=64, out_features=9, bias=True)\n",
            ")\n"
          ],
          "name": "stdout"
        }
      ]
    },
    {
      "cell_type": "code",
      "metadata": {
        "id": "fyXs5EiUfZFu",
        "colab_type": "code",
        "colab": {}
      },
      "source": [
        ""
      ],
      "execution_count": 0,
      "outputs": []
    }
  ]
}