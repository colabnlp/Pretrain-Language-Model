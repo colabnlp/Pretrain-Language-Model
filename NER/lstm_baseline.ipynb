{
 "cells": [
  {
   "cell_type": "code",
   "execution_count": 2,
   "metadata": {},
   "outputs": [],
   "source": [
    "import torch\n",
    "import torch.nn as nn\n",
    "import torch.nn.functional as F\n",
    "import torch.optim as optim\n",
    "\n",
    "import numpy as np\n",
    "import random\n",
    "import math\n",
    "from tqdm import tqdm_notebook"
   ]
  },
  {
   "cell_type": "code",
   "execution_count": 3,
   "metadata": {},
   "outputs": [
    {
     "name": "stdout",
     "output_type": "stream",
     "text": [
      "model params: {'embedding_dim': 32, 'hidden_dim': 128, 'vocab_size': 10000, 'target_size': 7}\n",
      "data params: {'seq_len': 64, 'batch_size': 32, 'padding_idx': 0, 'unknown_idx': 1}\n",
      "train parmas: {'epochs': 10, 'lr': 0.001, 'loss_type': 'softmax'}\n"
     ]
    }
   ],
   "source": [
    "# params for model\n",
    "model_config = dict(\n",
    "        embedding_dim=32,\n",
    "        hidden_dim=128,\n",
    "        vocab_size=10000,\n",
    "        target_size=7\n",
    "    )\n",
    "\n",
    "# params for data processing\n",
    "data_config = dict(\n",
    "        seq_len=64,\n",
    "        batch_size=32,\n",
    "        padding_idx=0,\n",
    "        unknown_idx=1\n",
    "    )\n",
    "\n",
    "# params for model training\n",
    "train_config = dict(\n",
    "        epochs=10,\n",
    "        lr=1e-3,\n",
    "        loss_type='softmax'\n",
    "    )\n",
    "\n",
    "print('model params:', model_config)\n",
    "print('data params:', data_config)\n",
    "print('train parmas:', train_config)"
   ]
  },
  {
   "cell_type": "code",
   "execution_count": 4,
   "metadata": {
    "scrolled": false
   },
   "outputs": [
    {
     "name": "stdout",
     "output_type": "stream",
     "text": [
      "lstm_ner(\n",
      "  (emb_layer): Embedding(10000, 32)\n",
      "  (lstm): GRU(32, 128, batch_first=True)\n",
      "  (out_layer): Linear(in_features=128, out_features=7, bias=True)\n",
      ")\n"
     ]
    }
   ],
   "source": [
    "# lstm: baseline model\n",
    "class lstm_ner(nn.Module):\n",
    "    \n",
    "    def __init__(self,embedding_dim=32, hidden_dim=32, vocab_size=10000, target_size=7, batch_size=32):\n",
    "        super(lstm_ner, self).__init__()\n",
    "        \n",
    "        # params\n",
    "        self.hidden_dim = hidden_dim\n",
    "        self.batch_size = batch_size\n",
    "        self.target_size = target_size\n",
    "        \n",
    "        # layers\n",
    "        self.emb_layer = nn.Embedding(vocab_size, embedding_dim)\n",
    "        self.lstm = nn.GRU(embedding_dim, hidden_dim, batch_first=True)\n",
    "        self.out_layer = nn.Linear(hidden_dim, target_size)\n",
    "    \n",
    "    def _init_state(self):\n",
    "        return torch.randn(1, self.batch_size, self.hidden_dim)\n",
    "    \n",
    "    def forward(self, x):\n",
    "        emb = self.emb_layer(x) #(batch_size, seq_len, embedding_dim)\n",
    "        lstm_out, _ = self.lstm(emb, self._init_state()) #(batch_size, seq_len, hidden_dim)\n",
    "        tag_score = self.out_layer(lstm_out).view(self.batch_size, self.target_size, -1) #(batch_size, target_size, seq_len)\n",
    "        return tag_score\n",
    "\n",
    "model = lstm_ner(embedding_dim=model_config['embedding_dim'],\n",
    "                 hidden_dim=model_config['hidden_dim'],\n",
    "                 vocab_size=model_config['vocab_size'], \n",
    "                 target_size=model_config['target_size'],\n",
    "                 batch_size=data_config['batch_size'])\n",
    "print(model)\n",
    "# x_test = torch.tensor([10,35,999,457])\n",
    "# print(x_test)\n",
    "# y = model(x_test)\n",
    "# print(y)"
   ]
  },
  {
   "cell_type": "code",
   "execution_count": 5,
   "metadata": {
    "scrolled": true
   },
   "outputs": [
    {
     "name": "stdout",
     "output_type": "stream",
     "text": [
      "torch.Size([32, 64]) torch.Size([32, 64])\n",
      "['全', '国', '人', '大', '常', '委', '会', '副', '委', '员', '长', '邹', '家', '华', '在', '听', '取', '了', '国', '家', '环', '保', '总', '局', '、', '水', '利', '部', '、', '建', '设', '部', '关', '于', '我', '国', '水', '污', '染', '防', '治', '法', '执', '法', '形', '势', '分', '析', '的', '汇', '报', '后', '指', '出', '，', '近', '几', '年', '各', '部', '门', '水', '污', '染']\n",
      "[1 2 2 2 2 2 2 0 0 0 0 5 6 6 0 0 0 0 1 2 2 2 2 2 0 1 2 2 0 1 2 2 0 0 0 0 0\n",
      " 0 0 0 0 0 0 0 0 0 0 0 0 0 0 0 0 0 0 0 0 0 0 0 0 0 0 0]\n"
     ]
    }
   ],
   "source": [
    "# get tokens from bert vocab\n",
    "token_idx = {}\n",
    "with open('vocab.txt','r') as f:\n",
    "    for line in f:\n",
    "        token_idx[line.strip()] = len(token_idx)+2\n",
    "\n",
    "# add special token\n",
    "token_idx['<PAD>'] = data_config['padding_idx']\n",
    "token_idx['<UNK>'] = data_config['unknown_idx']\n",
    "\n",
    "# tags map\n",
    "tag_idx = {'O':0, \n",
    "           'B-ORG':1, 'I-ORG':2, \n",
    "           'B-LOC':3, 'I-LOC':4, \n",
    "           'B-PER':5, 'I-PER':6}\n",
    "\n",
    "def sentence_padding(x):\n",
    "    x = [[token_idx.get(token,data_config['unknown_idx']) for token in sent.split()] for sent in x]\n",
    "    x = [sent[:data_config['seq_len']]+[data_config['padding_idx']]*(max(0,data_config['seq_len']-len(sent))) for sent in x]\n",
    "    return x\n",
    "\n",
    "def target_padding(y):\n",
    "    y = [[tag_idx[target] for target in targets.split()] for targets in y]\n",
    "    y = [targets[:data_config['seq_len']]+[0]*(max(0,data_config['seq_len']-len(targets))) for targets in y] # 0 stands for 'O'\n",
    "    return y\n",
    "\n",
    "# prepare data \n",
    "def train_data_iter(path_x='msra/train/sentences.txt',path_y='msra/train/tags.txt',data_config=data_config,shuffle=True):\n",
    "    \n",
    "    # read x and y\n",
    "    x = open(path_x,'r').read().split('\\n')\n",
    "    y = open(path_y,'r').read().split('\\n')\n",
    "    assert len(x) == len(y),print('data error!')\n",
    "    n = len(x)\n",
    "    \n",
    "    # transform sentence to array\n",
    "    x = sentence_padding(x)\n",
    "    \n",
    "    # transform target to array\n",
    "    y = target_padding(y)\n",
    "    \n",
    "    # shuffle x and y\n",
    "    if shuffle:\n",
    "        x, y = np.array(x), np.array(y)\n",
    "        state = np.random.get_state()\n",
    "        np.random.shuffle(x)\n",
    "        np.random.set_state(state)\n",
    "        np.random.shuffle(y)\n",
    "    \n",
    "    # get batch data\n",
    "    for i in range(math.ceil(n/data_config['batch_size'])-1):\n",
    "        start = i*data_config['batch_size']\n",
    "        end = (i+1)*data_config['batch_size']\n",
    "        yield torch.tensor(x[start:end]), torch.tensor(y[start:end])\n",
    "\n",
    "model_config['vocab_size'] = len(token_idx)+2\n",
    "token_idx_r = {v:k for k,v in token_idx.items()}\n",
    "tag_idx_r = {v:k for k,v in tag_idx.items()}\n",
    "I = train_data_iter()\n",
    "for x,y in I:\n",
    "    print(x.size(), y.size())\n",
    "    print([token_idx_r.get(i,'') for i in x[0].numpy()])\n",
    "    print(y[0].numpy())\n",
    "    break"
   ]
  },
  {
   "cell_type": "code",
   "execution_count": 7,
   "metadata": {
    "scrolled": true
   },
   "outputs": [
    {
     "name": "stdout",
     "output_type": "stream",
     "text": [
      "training start...\n",
      "[params]:\n",
      "\tmodel params: {'embedding_dim': 32, 'hidden_dim': 128, 'vocab_size': 21132, 'target_size': 7}\n",
      "\tdata params: {'seq_len': 64, 'batch_size': 32, 'padding_idx': 0, 'unknown_idx': 1}\n",
      "\ttrain parmas: {'epochs': 10, 'lr': 0.001, 'loss_type': 'softmax'}\n",
      "[build model]:\n",
      "lstm_ner(\n",
      "  (emb_layer): Embedding(21132, 32)\n",
      "  (lstm): GRU(32, 128, batch_first=True)\n",
      "  (out_layer): Linear(in_features=128, out_features=7, bias=True)\n",
      ")\n"
     ]
    },
    {
     "data": {
      "application/vnd.jupyter.widget-view+json": {
       "model_id": "538d9200bff74ce698a6055cdf3cc257",
       "version_major": 2,
       "version_minor": 0
      },
      "text/plain": [
       "HBox(children=(IntProgress(value=1, bar_style='info', max=1), HTML(value='')))"
      ]
     },
     "metadata": {},
     "output_type": "display_data"
    },
    {
     "name": "stdout",
     "output_type": "stream",
     "text": [
      "\r"
     ]
    },
    {
     "ename": "KeyboardInterrupt",
     "evalue": "",
     "output_type": "error",
     "traceback": [
      "\u001b[0;31m---------------------------------------------------------------------------\u001b[0m",
      "\u001b[0;31mKeyboardInterrupt\u001b[0m                         Traceback (most recent call last)",
      "\u001b[0;32m<ipython-input-7-188bc564202b>\u001b[0m in \u001b[0;36m<module>\u001b[0;34m\u001b[0m\n\u001b[1;32m     69\u001b[0m         \u001b[0mevaluation_case\u001b[0m\u001b[0;34m(\u001b[0m\u001b[0mmodel\u001b[0m\u001b[0;34m,\u001b[0m \u001b[0mn\u001b[0m\u001b[0;34m=\u001b[0m\u001b[0;36m2\u001b[0m\u001b[0;34m)\u001b[0m\u001b[0;34m\u001b[0m\u001b[0;34m\u001b[0m\u001b[0m\n\u001b[1;32m     70\u001b[0m \u001b[0;34m\u001b[0m\u001b[0m\n\u001b[0;32m---> 71\u001b[0;31m \u001b[0mtrain\u001b[0m\u001b[0;34m(\u001b[0m\u001b[0mmodel_config\u001b[0m\u001b[0;34m,\u001b[0m \u001b[0mdata_config\u001b[0m\u001b[0;34m,\u001b[0m \u001b[0mtrain_config\u001b[0m\u001b[0;34m)\u001b[0m\u001b[0;34m\u001b[0m\u001b[0;34m\u001b[0m\u001b[0m\n\u001b[0m",
      "\u001b[0;32m<ipython-input-7-188bc564202b>\u001b[0m in \u001b[0;36mtrain\u001b[0;34m(model_config, data_config, train_config)\u001b[0m\n\u001b[1;32m     53\u001b[0m             \u001b[0;31m#model._init_lstm_state()\u001b[0m\u001b[0;34m\u001b[0m\u001b[0;34m\u001b[0m\u001b[0;34m\u001b[0m\u001b[0m\n\u001b[1;32m     54\u001b[0m \u001b[0;34m\u001b[0m\u001b[0m\n\u001b[0;32m---> 55\u001b[0;31m             \u001b[0my_\u001b[0m \u001b[0;34m=\u001b[0m \u001b[0mmodel\u001b[0m\u001b[0;34m(\u001b[0m\u001b[0mx\u001b[0m\u001b[0;34m)\u001b[0m\u001b[0;34m\u001b[0m\u001b[0;34m\u001b[0m\u001b[0m\n\u001b[0m\u001b[1;32m     56\u001b[0m             \u001b[0;32mif\u001b[0m \u001b[0mtrain_config\u001b[0m\u001b[0;34m[\u001b[0m\u001b[0;34m'loss_type'\u001b[0m\u001b[0;34m]\u001b[0m \u001b[0;34m==\u001b[0m \u001b[0;34m'softmax'\u001b[0m\u001b[0;34m:\u001b[0m\u001b[0;34m\u001b[0m\u001b[0;34m\u001b[0m\u001b[0m\n\u001b[1;32m     57\u001b[0m                 \u001b[0mloss\u001b[0m \u001b[0;34m=\u001b[0m \u001b[0mcal_softmax_loss\u001b[0m\u001b[0;34m(\u001b[0m\u001b[0my_\u001b[0m\u001b[0;34m,\u001b[0m \u001b[0my\u001b[0m\u001b[0;34m)\u001b[0m\u001b[0;34m\u001b[0m\u001b[0;34m\u001b[0m\u001b[0m\n",
      "\u001b[0;32m~/anaconda3/lib/python3.7/site-packages/torch/nn/modules/module.py\u001b[0m in \u001b[0;36m__call__\u001b[0;34m(self, *input, **kwargs)\u001b[0m\n\u001b[1;32m    530\u001b[0m             \u001b[0mresult\u001b[0m \u001b[0;34m=\u001b[0m \u001b[0mself\u001b[0m\u001b[0;34m.\u001b[0m\u001b[0m_slow_forward\u001b[0m\u001b[0;34m(\u001b[0m\u001b[0;34m*\u001b[0m\u001b[0minput\u001b[0m\u001b[0;34m,\u001b[0m \u001b[0;34m**\u001b[0m\u001b[0mkwargs\u001b[0m\u001b[0;34m)\u001b[0m\u001b[0;34m\u001b[0m\u001b[0;34m\u001b[0m\u001b[0m\n\u001b[1;32m    531\u001b[0m         \u001b[0;32melse\u001b[0m\u001b[0;34m:\u001b[0m\u001b[0;34m\u001b[0m\u001b[0;34m\u001b[0m\u001b[0m\n\u001b[0;32m--> 532\u001b[0;31m             \u001b[0mresult\u001b[0m \u001b[0;34m=\u001b[0m \u001b[0mself\u001b[0m\u001b[0;34m.\u001b[0m\u001b[0mforward\u001b[0m\u001b[0;34m(\u001b[0m\u001b[0;34m*\u001b[0m\u001b[0minput\u001b[0m\u001b[0;34m,\u001b[0m \u001b[0;34m**\u001b[0m\u001b[0mkwargs\u001b[0m\u001b[0;34m)\u001b[0m\u001b[0;34m\u001b[0m\u001b[0;34m\u001b[0m\u001b[0m\n\u001b[0m\u001b[1;32m    533\u001b[0m         \u001b[0;32mfor\u001b[0m \u001b[0mhook\u001b[0m \u001b[0;32min\u001b[0m \u001b[0mself\u001b[0m\u001b[0;34m.\u001b[0m\u001b[0m_forward_hooks\u001b[0m\u001b[0;34m.\u001b[0m\u001b[0mvalues\u001b[0m\u001b[0;34m(\u001b[0m\u001b[0;34m)\u001b[0m\u001b[0;34m:\u001b[0m\u001b[0;34m\u001b[0m\u001b[0;34m\u001b[0m\u001b[0m\n\u001b[1;32m    534\u001b[0m             \u001b[0mhook_result\u001b[0m \u001b[0;34m=\u001b[0m \u001b[0mhook\u001b[0m\u001b[0;34m(\u001b[0m\u001b[0mself\u001b[0m\u001b[0;34m,\u001b[0m \u001b[0minput\u001b[0m\u001b[0;34m,\u001b[0m \u001b[0mresult\u001b[0m\u001b[0;34m)\u001b[0m\u001b[0;34m\u001b[0m\u001b[0;34m\u001b[0m\u001b[0m\n",
      "\u001b[0;32m<ipython-input-4-94816ec1dd15>\u001b[0m in \u001b[0;36mforward\u001b[0;34m(self, x)\u001b[0m\n\u001b[1;32m     20\u001b[0m     \u001b[0;32mdef\u001b[0m \u001b[0mforward\u001b[0m\u001b[0;34m(\u001b[0m\u001b[0mself\u001b[0m\u001b[0;34m,\u001b[0m \u001b[0mx\u001b[0m\u001b[0;34m)\u001b[0m\u001b[0;34m:\u001b[0m\u001b[0;34m\u001b[0m\u001b[0;34m\u001b[0m\u001b[0m\n\u001b[1;32m     21\u001b[0m         \u001b[0memb\u001b[0m \u001b[0;34m=\u001b[0m \u001b[0mself\u001b[0m\u001b[0;34m.\u001b[0m\u001b[0memb_layer\u001b[0m\u001b[0;34m(\u001b[0m\u001b[0mx\u001b[0m\u001b[0;34m)\u001b[0m \u001b[0;31m#(batch_size, seq_len, embedding_dim)\u001b[0m\u001b[0;34m\u001b[0m\u001b[0;34m\u001b[0m\u001b[0m\n\u001b[0;32m---> 22\u001b[0;31m         \u001b[0mlstm_out\u001b[0m\u001b[0;34m,\u001b[0m \u001b[0m_\u001b[0m \u001b[0;34m=\u001b[0m \u001b[0mself\u001b[0m\u001b[0;34m.\u001b[0m\u001b[0mlstm\u001b[0m\u001b[0;34m(\u001b[0m\u001b[0memb\u001b[0m\u001b[0;34m,\u001b[0m \u001b[0mself\u001b[0m\u001b[0;34m.\u001b[0m\u001b[0m_init_state\u001b[0m\u001b[0;34m(\u001b[0m\u001b[0;34m)\u001b[0m\u001b[0;34m)\u001b[0m \u001b[0;31m#(batch_size, seq_len, hidden_dim)\u001b[0m\u001b[0;34m\u001b[0m\u001b[0;34m\u001b[0m\u001b[0m\n\u001b[0m\u001b[1;32m     23\u001b[0m         \u001b[0mtag_score\u001b[0m \u001b[0;34m=\u001b[0m \u001b[0mself\u001b[0m\u001b[0;34m.\u001b[0m\u001b[0mout_layer\u001b[0m\u001b[0;34m(\u001b[0m\u001b[0mlstm_out\u001b[0m\u001b[0;34m)\u001b[0m\u001b[0;34m.\u001b[0m\u001b[0mview\u001b[0m\u001b[0;34m(\u001b[0m\u001b[0mself\u001b[0m\u001b[0;34m.\u001b[0m\u001b[0mbatch_size\u001b[0m\u001b[0;34m,\u001b[0m \u001b[0mself\u001b[0m\u001b[0;34m.\u001b[0m\u001b[0mtarget_size\u001b[0m\u001b[0;34m,\u001b[0m \u001b[0;34m-\u001b[0m\u001b[0;36m1\u001b[0m\u001b[0;34m)\u001b[0m \u001b[0;31m#(batch_size, target_size, seq_len)\u001b[0m\u001b[0;34m\u001b[0m\u001b[0;34m\u001b[0m\u001b[0m\n\u001b[1;32m     24\u001b[0m         \u001b[0;32mreturn\u001b[0m \u001b[0mtag_score\u001b[0m\u001b[0;34m\u001b[0m\u001b[0;34m\u001b[0m\u001b[0m\n",
      "\u001b[0;32m<ipython-input-4-94816ec1dd15>\u001b[0m in \u001b[0;36m_init_state\u001b[0;34m(self)\u001b[0m\n\u001b[1;32m     16\u001b[0m \u001b[0;34m\u001b[0m\u001b[0m\n\u001b[1;32m     17\u001b[0m     \u001b[0;32mdef\u001b[0m \u001b[0m_init_state\u001b[0m\u001b[0;34m(\u001b[0m\u001b[0mself\u001b[0m\u001b[0;34m)\u001b[0m\u001b[0;34m:\u001b[0m\u001b[0;34m\u001b[0m\u001b[0;34m\u001b[0m\u001b[0m\n\u001b[0;32m---> 18\u001b[0;31m         \u001b[0;32mreturn\u001b[0m \u001b[0mtorch\u001b[0m\u001b[0;34m.\u001b[0m\u001b[0mrandn\u001b[0m\u001b[0;34m(\u001b[0m\u001b[0;36m1\u001b[0m\u001b[0;34m,\u001b[0m \u001b[0mself\u001b[0m\u001b[0;34m.\u001b[0m\u001b[0mbatch_size\u001b[0m\u001b[0;34m,\u001b[0m \u001b[0mself\u001b[0m\u001b[0;34m.\u001b[0m\u001b[0mhidden_dim\u001b[0m\u001b[0;34m)\u001b[0m\u001b[0;34m\u001b[0m\u001b[0;34m\u001b[0m\u001b[0m\n\u001b[0m\u001b[1;32m     19\u001b[0m \u001b[0;34m\u001b[0m\u001b[0m\n\u001b[1;32m     20\u001b[0m     \u001b[0;32mdef\u001b[0m \u001b[0mforward\u001b[0m\u001b[0;34m(\u001b[0m\u001b[0mself\u001b[0m\u001b[0;34m,\u001b[0m \u001b[0mx\u001b[0m\u001b[0;34m)\u001b[0m\u001b[0;34m:\u001b[0m\u001b[0;34m\u001b[0m\u001b[0;34m\u001b[0m\u001b[0m\n",
      "\u001b[0;31mKeyboardInterrupt\u001b[0m: "
     ]
    }
   ],
   "source": [
    "# loss: softmax loss/crf loss\n",
    "def cal_softmax_loss(tag_score, target):\n",
    "    return nn.CrossEntropyLoss()(tag_score, target)\n",
    "\n",
    "def cal_crf_loss(tag_score, target):\n",
    "    pass\n",
    "\n",
    "# evaluate trained model on some cases\n",
    "def evaluation_case(model, path_x='msra/val/sentences.txt', path_y='msra/val/tags.txt', n=1):\n",
    "    Iter_val = train_data_iter(path_x, path_y, data_config, shuffle=False)\n",
    "    x,y = next(Iter_val)\n",
    "    tag_prob = model(x).detach().numpy()\n",
    "    \n",
    "    #print(tag_prob)\n",
    "    tag_pred = np.argmax(tag_prob, axis=1)\n",
    "    for sent, tag in zip(x[:n].numpy(), tag_pred[:n]):\n",
    "        print('\\t',[token_idx_r.get(i,'')+':'+tag_idx_r[j] for i,j in zip(sent, tag)])\n",
    "\n",
    "# train model and evaluation\n",
    "def train(model_config, data_config, train_config):\n",
    "    \n",
    "    print('training start...')\n",
    "    print('[params]:')\n",
    "    print('\\tmodel params:', model_config)\n",
    "    print('\\tdata params:', data_config)\n",
    "    print('\\ttrain parmas:', train_config)\n",
    "    \n",
    "    # build model\n",
    "    model = lstm_ner(embedding_dim=model_config['embedding_dim'],\n",
    "                     hidden_dim=model_config['hidden_dim'],\n",
    "                     vocab_size=model_config['vocab_size'], \n",
    "                     target_size=model_config['target_size'],\n",
    "                     batch_size=data_config['batch_size'])\n",
    "    print('[build model]:')\n",
    "    print(model)\n",
    "    \n",
    "    # opt\n",
    "    optimizer = optim.Adam(model.parameters(), lr=train_config['lr'])\n",
    "    \n",
    "    # train\n",
    "    for i in range(train_config['epochs']):\n",
    "        \n",
    "        # record loss every epoch\n",
    "        loss_value = []\n",
    "        \n",
    "        # get data flow\n",
    "        Iter = train_data_iter(data_config=data_config)\n",
    "        \n",
    "        for x,y in tqdm_notebook(Iter, leave=False):\n",
    "            \n",
    "            # model init\n",
    "            model.zero_grad()\n",
    "            #model._init_lstm_state()\n",
    "            \n",
    "            y_ = model(x)\n",
    "            if train_config['loss_type'] == 'softmax':\n",
    "                loss = cal_softmax_loss(y_, y)\n",
    "            \n",
    "            # record\n",
    "            loss_value.append(loss.item())\n",
    "            \n",
    "            # weight update\n",
    "            loss.backward()\n",
    "            optimizer.step()\n",
    "            \n",
    "        print('[epoch %d]\\tloss=%s' % (i, np.mean(loss_value)))\n",
    "        #print('all loss:', loss_value)\n",
    "        print('[evaluation]:')\n",
    "        evaluation_case(model, n=2)\n",
    "            \n",
    "train(model_config, data_config, train_config)"
   ]
  },
  {
   "cell_type": "code",
   "execution_count": null,
   "metadata": {},
   "outputs": [],
   "source": []
  }
 ],
 "metadata": {
  "kernelspec": {
   "display_name": "Python 3",
   "language": "python",
   "name": "python3"
  },
  "language_info": {
   "codemirror_mode": {
    "name": "ipython",
    "version": 3
   },
   "file_extension": ".py",
   "mimetype": "text/x-python",
   "name": "python",
   "nbconvert_exporter": "python",
   "pygments_lexer": "ipython3",
   "version": "3.7.1"
  }
 },
 "nbformat": 4,
 "nbformat_minor": 2
}
