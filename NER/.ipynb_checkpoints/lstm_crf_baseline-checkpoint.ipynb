{
 "cells": [
  {
   "cell_type": "code",
   "execution_count": 13,
   "metadata": {
    "colab": {},
    "colab_type": "code",
    "id": "I5GMUBhNfZFW"
   },
   "outputs": [],
   "source": [
    "import torch\n",
    "import torch.nn as nn\n",
    "import torch.nn.functional as F\n",
    "import torch.optim as optim\n",
    "\n",
    "import numpy as np\n",
    "import random\n",
    "import math\n",
    "from tqdm import tqdm_notebook"
   ]
  },
  {
   "cell_type": "code",
   "execution_count": 14,
   "metadata": {
    "colab": {
     "base_uri": "https://localhost:8080/",
     "height": 34
    },
    "colab_type": "code",
    "id": "hHz1jzC00vrQ",
    "outputId": "5c8f3a87-43dd-4156-b463-077f2c2f2909"
   },
   "outputs": [
    {
     "name": "stdout",
     "output_type": "stream",
     "text": [
      "/bin/sh: /opt/bin/nvidia-smi: No such file or directory\r\n"
     ]
    }
   ],
   "source": [
    "!/opt/bin/nvidia-smi"
   ]
  },
  {
   "cell_type": "code",
   "execution_count": 15,
   "metadata": {
    "colab": {
     "base_uri": "https://localhost:8080/",
     "height": 34
    },
    "colab_type": "code",
    "id": "MDzTyqSDfsmu",
    "outputId": "ebd66397-ca5d-47d1-9652-a3e2d9a3a7bb"
   },
   "outputs": [
    {
     "data": {
      "text/plain": [
       "device(type='cpu')"
      ]
     },
     "execution_count": 15,
     "metadata": {},
     "output_type": "execute_result"
    }
   ],
   "source": [
    "device = torch.device('cuda' if torch.cuda.is_available() else 'cpu')\n",
    "device"
   ]
  },
  {
   "cell_type": "code",
   "execution_count": 16,
   "metadata": {
    "colab": {
     "base_uri": "https://localhost:8080/",
     "height": 85
    },
    "colab_type": "code",
    "id": "r41554Laf4uj",
    "outputId": "63b16513-433f-4f94-b7c7-f879b04c3f44"
   },
   "outputs": [
    {
     "name": "stdout",
     "output_type": "stream",
     "text": [
      "running in local environment!\n"
     ]
    }
   ],
   "source": [
    "# load data\n",
    "# from google.colab import drive\n",
    "# drive.mount('/content/drive')\n",
    "\n",
    "try:\n",
    "  from google_drive_downloader import GoogleDriveDownloader as gdd\n",
    "\n",
    "  gdd.download_file_from_google_drive(\n",
    "          file_id='1RFZmH6cLFbivA0VeDc6s56bRTgc2NhL1',\n",
    "          dest_path='NER_Data/vocab.txt',\n",
    "      )\n",
    "\n",
    "  gdd.download_file_from_google_drive(\n",
    "          file_id='1JqV332A6ZWZEHv64vzCFmSNVpC1Mox8J',\n",
    "          dest_path='NER_Data/msra.zip',\n",
    "          unzip=True\n",
    "      )\n",
    "  print('running in colab!')\n",
    "  MAIN_PATH = '/content/NER_Data/'\n",
    "except:\n",
    "  print('running in local environment!')\n",
    "  MAIN_PATH = './'"
   ]
  },
  {
   "cell_type": "code",
   "execution_count": 17,
   "metadata": {
    "colab": {
     "base_uri": "https://localhost:8080/",
     "height": 68
    },
    "colab_type": "code",
    "id": "NtzaciW3fZFc",
    "outputId": "7cc17c21-7526-44e8-f993-b186e7c793e1"
   },
   "outputs": [
    {
     "name": "stdout",
     "output_type": "stream",
     "text": [
      "model params: {'embedding_dim': 32, 'hidden_dim': 64, 'vocab_size': 10000, 'target_size': 7}\n",
      "data params: {'seq_len': 200, 'batch_size': 64, 'padding_idx': 0, 'unknown_idx': 1}\n",
      "train parmas: {'epochs': 10, 'lr': 0.001, 'loss_type': 'softmax'}\n"
     ]
    }
   ],
   "source": [
    "# params for model\n",
    "model_config = dict(\n",
    "        embedding_dim=32,\n",
    "        hidden_dim=64,\n",
    "        vocab_size=10000,\n",
    "        target_size=7\n",
    "    )\n",
    "\n",
    "# params for data processing\n",
    "data_config = dict(\n",
    "        seq_len=200,\n",
    "        batch_size=64,\n",
    "        padding_idx=0,\n",
    "        unknown_idx=1\n",
    "    )\n",
    "\n",
    "# params for model training\n",
    "train_config = dict(\n",
    "        epochs=10,\n",
    "        lr=1e-3,\n",
    "        loss_type='softmax'\n",
    "    )\n",
    "\n",
    "START_TAG = \"<START>\"\n",
    "STOP_TAG = \"<STOP>\"\n",
    "\n",
    "print('model params:', model_config)\n",
    "print('data params:', data_config)\n",
    "print('train parmas:', train_config)"
   ]
  },
  {
   "cell_type": "code",
   "execution_count": 18,
   "metadata": {
    "colab": {},
    "colab_type": "code",
    "id": "ZhB5fqjrfZFg"
   },
   "outputs": [],
   "source": [
    "def argmax(vec):\n",
    "    # return the argmax as a python int\n",
    "    _, idx = torch.max(vec, 1)\n",
    "    return idx.item()\n",
    "\n",
    "# Compute log sum exp in a numerically stable way for the forward algorithm\n",
    "def log_sum_exp(vec):\n",
    "    max_score = vec[0, argmax(vec)]\n",
    "    max_score_broadcast = max_score.view(1, -1).expand(1, vec.size()[1])\n",
    "    return max_score + \\\n",
    "        torch.log(torch.sum(torch.exp(vec - max_score_broadcast)))\n",
    "\n",
    "def log_sum_exp_v2(tensor, dim):\n",
    "    # Find the max value along `dim`\n",
    "    offset, _ = tensor.max(dim)\n",
    "    # Make offset broadcastable\n",
    "    broadcast_offset = offset.unsqueeze(dim)\n",
    "    # Perform log-sum-exp safely\n",
    "    safe_log_sum_exp = torch.log(torch.sum(torch.exp(tensor - broadcast_offset), dim))\n",
    "    # Add offset back\n",
    "    return offset + safe_log_sum_exp"
   ]
  },
  {
   "cell_type": "code",
   "execution_count": 19,
   "metadata": {
    "colab": {},
    "colab_type": "code",
    "id": "bDWn8Xd9fZFj",
    "scrolled": false
   },
   "outputs": [],
   "source": [
    "# lstm+crf: baseline model\n",
    "class lstm_crf_ner(nn.Module):\n",
    "\n",
    "    def __init__(self, vocab_size, tag_to_ix, embedding_dim, hidden_dim, batch_size):\n",
    "        super(lstm_crf_ner, self).__init__()\n",
    "        # params\n",
    "        self.embedding_dim = embedding_dim\n",
    "        self.hidden_dim = hidden_dim\n",
    "        self.vocab_size = vocab_size\n",
    "        self.tag_to_ix = tag_to_ix\n",
    "        self.tagset_size = len(tag_to_ix)\n",
    "        self.batch_size = batch_size\n",
    "\n",
    "        self.word_embeds = nn.Embedding(vocab_size, embedding_dim)\n",
    "        self.lstm = nn.GRU(embedding_dim, hidden_dim // 2,\n",
    "                            num_layers=1, bidirectional=True, batch_first=True)\n",
    "\n",
    "        # Maps the output of the LSTM into tag space.\n",
    "        self.hidden2tag = nn.Linear(hidden_dim, self.tagset_size)\n",
    "\n",
    "        # Matrix of transition parameters.  Entry i,j is the score of\n",
    "        # transitioning *to* i *from* j.\n",
    "        self.transitions = nn.Parameter(\n",
    "            torch.randn(self.tagset_size, self.tagset_size)).to(device)\n",
    "\n",
    "        # These two statements enforce the constraint that we never transfer\n",
    "        # to the start tag and we never transfer from the stop tag\n",
    "        self.transitions.data[tag_to_ix[START_TAG], :] = -10000\n",
    "        self.transitions.data[:, tag_to_ix[STOP_TAG]] = -10000\n",
    "\n",
    "        self.hidden = self.init_hidden()\n",
    "\n",
    "    def init_hidden(self):\n",
    "        return torch.randn(2, self.batch_size, self.hidden_dim // 2).to(device)\n",
    "\n",
    "    def _forward_alg(self, feats):\n",
    "        # Do the forward algorithm to compute the partition function\n",
    "        init_alphas = torch.full((1, self.tagset_size), -10000.).to(device)\n",
    "        # START_TAG has all of the score.\n",
    "        init_alphas[0][self.tag_to_ix[START_TAG]] = 0.\n",
    "\n",
    "        # Wrap in a variable so that we will get automatic backprop\n",
    "        forward_var = init_alphas\n",
    "\n",
    "        # Iterate through the sentence\n",
    "        for feat in feats:\n",
    "            alphas_t = []  # The forward tensors at this timestep\n",
    "            for next_tag in range(self.tagset_size):\n",
    "                # broadcast the emission score: it is the same regardless of\n",
    "                # the previous tag\n",
    "                emit_score = feat[next_tag].view(\n",
    "                    1, -1).expand(1, self.tagset_size)\n",
    "                # the ith entry of trans_score is the score of transitioning to\n",
    "                # next_tag from i\n",
    "                trans_score = self.transitions[next_tag].view(1, -1)\n",
    "                # The ith entry of next_tag_var is the value for the\n",
    "                # edge (i -> next_tag) before we do log-sum-exp\n",
    "                next_tag_var = forward_var + trans_score + emit_score\n",
    "                # The forward variable for this tag is log-sum-exp of all the\n",
    "                # scores.\n",
    "                alphas_t.append(log_sum_exp(next_tag_var).view(1))\n",
    "            forward_var = torch.cat(alphas_t).view(1, -1)\n",
    "        terminal_var = forward_var + self.transitions[self.tag_to_ix[STOP_TAG]]\n",
    "        alpha = log_sum_exp(terminal_var)\n",
    "        return alpha\n",
    "    \n",
    "    def _forward_alg_batch(self, feats):\n",
    "        # batch version\n",
    "        '''\n",
    "            feats:(batch_size, seq_len, target_size)\n",
    "        '''\n",
    "        # Do the forward algorithm to compute the partition function\n",
    "        init_alphas = torch.full((self.batch_size, self.tagset_size), -10000.).to(device)\n",
    "        # START_TAG has all of the score.\n",
    "        init_alphas[:, self.tag_to_ix[START_TAG]] = 0.\n",
    "\n",
    "        # Wrap in a variable so that we will get automatic backprop\n",
    "        forward_var = init_alphas\n",
    "\n",
    "        # Iterate through the sentence\n",
    "        seq_len = feats.size(1)\n",
    "        for i in range(seq_len):\n",
    "            \n",
    "            forward_var = forward_var.unsqueeze(2) #(batch_size,target_size,1)\n",
    "            # broadcast the emission score: it is the same regardless of\n",
    "            # the previous tag\n",
    "            emit_score = feats[:,i,:].unsqueeze(1) #(batch_size,1,target_size)\n",
    "            # the ith entry of trans_score is the score of transitioning to\n",
    "            # next_tag from i\n",
    "            trans_score = self.transitions.unsqueeze(0).permute(0,2,1) #(1,target_size,target_size)\n",
    "            \n",
    "            forward_var = forward_var + trans_score + emit_score\n",
    "            forward_var = log_sum_exp_v2(forward_var, 1)\n",
    "            \n",
    "        terminal_var = forward_var + self.transitions[self.tag_to_ix[STOP_TAG]].view(1,-1)\n",
    "        alpha = log_sum_exp_v2(terminal_var, 1)\n",
    "        return alpha\n",
    "\n",
    "    def _get_lstm_features(self, batch_sentence):\n",
    "        self.hidden = self.init_hidden()\n",
    "        embeds = self.word_embeds(batch_sentence) #(batch_size, seq_len, embedding_dim)\n",
    "        lstm_out, self.hidden = self.lstm(embeds, self.hidden) #(batch_size, seq_len, hidden_dim)\n",
    "        lstm_feats = self.hidden2tag(lstm_out) #(batch_size, seq_len, target_size)\n",
    "        return lstm_feats\n",
    "\n",
    "    def _score_sentence(self, feats, tags):\n",
    "        # Gives the score of a provided tag sequence\n",
    "        score = torch.zeros(1).to(device)\n",
    "        tags = torch.cat([torch.tensor([self.tag_to_ix[START_TAG]], dtype=torch.long).to(device), tags])\n",
    "        for i, feat in enumerate(feats):\n",
    "            score = score + \\\n",
    "                self.transitions[tags[i + 1], tags[i]] + feat[tags[i + 1]]\n",
    "        score = score + self.transitions[self.tag_to_ix[STOP_TAG], tags[-1]]\n",
    "        return score\n",
    "    \n",
    "    def _score_sentence_batch(self, feats, tags):\n",
    "        # batch version\n",
    "        '''\n",
    "            feats:(batch_size, seq_len, target_size)\n",
    "            tags:(batch_size, seq_len)\n",
    "        '''\n",
    "        score = torch.zeros(self.batch_size).to(device) #(batch_size,)\n",
    "        tags = torch.cat([torch.tensor([self.tag_to_ix[START_TAG]], dtype=torch.long).view(1,1).expand(self.batch_size,1).to(device), tags], 1)\n",
    "        tags = tags.permute(1,0) #(seq_len, batch_size)\n",
    "        \n",
    "        seq_len = feats.size(1)\n",
    "        batch_idx = torch.tensor(np.arange(self.batch_size)).to(device)\n",
    "        for i in range(seq_len):\n",
    "            score = score + \\\n",
    "                self.transitions[tags[i + 1], tags[i]] + feats[batch_idx,i,tags[i + 1]]\n",
    "        score = score + self.transitions[self.tag_to_ix[STOP_TAG], tags[-1]]\n",
    "        return score\n",
    "\n",
    "    def _viterbi_decode(self, feats):\n",
    "        backpointers = []\n",
    "\n",
    "        # Initialize the viterbi variables in log space\n",
    "        init_vvars = torch.full((1, self.tagset_size), -10000.).to(device)\n",
    "        init_vvars[0][self.tag_to_ix[START_TAG]] = 0\n",
    "\n",
    "        # forward_var at step i holds the viterbi variables for step i-1\n",
    "        forward_var = init_vvars\n",
    "        for feat in feats:\n",
    "            bptrs_t = []  # holds the backpointers for this step\n",
    "            viterbivars_t = []  # holds the viterbi variables for this step\n",
    "\n",
    "            for next_tag in range(self.tagset_size):\n",
    "                # next_tag_var[i] holds the viterbi variable for tag i at the\n",
    "                # previous step, plus the score of transitioning\n",
    "                # from tag i to next_tag.\n",
    "                # We don't include the emission scores here because the max\n",
    "                # does not depend on them (we add them in below)\n",
    "                next_tag_var = forward_var + self.transitions[next_tag]\n",
    "                best_tag_id = argmax(next_tag_var)\n",
    "                bptrs_t.append(best_tag_id)\n",
    "                viterbivars_t.append(next_tag_var[0][best_tag_id].view(1))\n",
    "            # Now add in the emission scores, and assign forward_var to the set\n",
    "            # of viterbi variables we just computed\n",
    "            forward_var = (torch.cat(viterbivars_t) + feat).view(1, -1)\n",
    "            backpointers.append(bptrs_t)\n",
    "\n",
    "        # Transition to STOP_TAG\n",
    "        terminal_var = forward_var + self.transitions[self.tag_to_ix[STOP_TAG]]\n",
    "        best_tag_id = argmax(terminal_var)\n",
    "        path_score = terminal_var[0][best_tag_id]\n",
    "\n",
    "        # Follow the back pointers to decode the best path.\n",
    "        best_path = [best_tag_id]\n",
    "        for bptrs_t in reversed(backpointers):\n",
    "            best_tag_id = bptrs_t[best_tag_id]\n",
    "            best_path.append(best_tag_id)\n",
    "        # Pop off the start tag (we dont want to return that to the caller)\n",
    "        start = best_path.pop()\n",
    "        assert start == self.tag_to_ix[START_TAG]  # Sanity check\n",
    "        best_path.reverse()\n",
    "        return path_score, best_path\n",
    "\n",
    "    def neg_log_likelihood(self, batch_sentence, batch_tags):\n",
    "        \n",
    "        # Avoid breaking if the last batch has a different size\n",
    "        if batch_sentence.size(0) != self.batch_size:\n",
    "            self.batch_size = batch_sentence.size(0)\n",
    "        \n",
    "        batch_feats = self._get_lstm_features(batch_sentence)\n",
    "        batch_score = torch.zeros(1).to(device)\n",
    "        for i in range(self.batch_size):\n",
    "            feats, tags = batch_feats[i,:,:], batch_tags[i,:]\n",
    "            forward_score = self._forward_alg(feats)\n",
    "            gold_score = self._score_sentence(feats, tags)\n",
    "            batch_score += forward_score - gold_score\n",
    "        return batch_score / self.batch_size\n",
    "    \n",
    "    def neg_log_likelihood_v2(self, batch_sentence, batch_tags):\n",
    "        \n",
    "        # Avoid breaking if the last batch has a different size\n",
    "        if batch_sentence.size(0) != self.batch_size:\n",
    "            self.batch_size = batch_sentence.size(0)\n",
    "        \n",
    "        batch_feats = self._get_lstm_features(batch_sentence)\n",
    "        forward_score = self._forward_alg_batch(batch_feats)\n",
    "        gold_score = self._score_sentence_batch(batch_feats, batch_tags)\n",
    "        \n",
    "        return torch.mean(forward_score - gold_score)\n",
    "\n",
    "    def forward(self, batch_sentence):  # dont confuse this with _forward_alg above.\n",
    "        # Get the emission scores from the BiLSTM\n",
    "        batch_lstm_feats = self._get_lstm_features(batch_sentence)\n",
    "        \n",
    "        batch_tag_seq = []\n",
    "        # Find the best path, given the features.\n",
    "        for i in range(self.batch_size):\n",
    "            lstm_feats = batch_lstm_feats[i,:,:]\n",
    "            score, tag_seq = self._viterbi_decode(lstm_feats)\n",
    "            batch_tag_seq.append(tag_seq)\n",
    "        return np.array(batch_tag_seq)"
   ]
  },
  {
   "cell_type": "code",
   "execution_count": 20,
   "metadata": {
    "colab": {
     "base_uri": "https://localhost:8080/",
     "height": 105
    },
    "colab_type": "code",
    "id": "CoZGwBDMfZFn",
    "outputId": "5d5a5fe8-3b18-4e12-9824-1f20b50589a6",
    "scrolled": true
   },
   "outputs": [
    {
     "name": "stdout",
     "output_type": "stream",
     "text": [
      "torch.Size([64, 200]) torch.Size([64, 200])\n",
      "['一', '些', '单', '位', '还', '将', '检', '查', '结', '果', '、', '领', '导', '干', '部', '持', '机', '情', '况', '张', '榜', '公', '布', '，', '接', '受', '群', '众', '监', '督', '。', '<PAD>', '<PAD>', '<PAD>', '<PAD>', '<PAD>', '<PAD>', '<PAD>', '<PAD>', '<PAD>', '<PAD>', '<PAD>', '<PAD>', '<PAD>', '<PAD>', '<PAD>', '<PAD>', '<PAD>', '<PAD>', '<PAD>', '<PAD>', '<PAD>', '<PAD>', '<PAD>', '<PAD>', '<PAD>', '<PAD>', '<PAD>', '<PAD>', '<PAD>', '<PAD>', '<PAD>', '<PAD>', '<PAD>', '<PAD>', '<PAD>', '<PAD>', '<PAD>', '<PAD>', '<PAD>', '<PAD>', '<PAD>', '<PAD>', '<PAD>', '<PAD>', '<PAD>', '<PAD>', '<PAD>', '<PAD>', '<PAD>', '<PAD>', '<PAD>', '<PAD>', '<PAD>', '<PAD>', '<PAD>', '<PAD>', '<PAD>', '<PAD>', '<PAD>', '<PAD>', '<PAD>', '<PAD>', '<PAD>', '<PAD>', '<PAD>', '<PAD>', '<PAD>', '<PAD>', '<PAD>', '<PAD>', '<PAD>', '<PAD>', '<PAD>', '<PAD>', '<PAD>', '<PAD>', '<PAD>', '<PAD>', '<PAD>', '<PAD>', '<PAD>', '<PAD>', '<PAD>', '<PAD>', '<PAD>', '<PAD>', '<PAD>', '<PAD>', '<PAD>', '<PAD>', '<PAD>', '<PAD>', '<PAD>', '<PAD>', '<PAD>', '<PAD>', '<PAD>', '<PAD>', '<PAD>', '<PAD>', '<PAD>', '<PAD>', '<PAD>', '<PAD>', '<PAD>', '<PAD>', '<PAD>', '<PAD>', '<PAD>', '<PAD>', '<PAD>', '<PAD>', '<PAD>', '<PAD>', '<PAD>', '<PAD>', '<PAD>', '<PAD>', '<PAD>', '<PAD>', '<PAD>', '<PAD>', '<PAD>', '<PAD>', '<PAD>', '<PAD>', '<PAD>', '<PAD>', '<PAD>', '<PAD>', '<PAD>', '<PAD>', '<PAD>', '<PAD>', '<PAD>', '<PAD>', '<PAD>', '<PAD>', '<PAD>', '<PAD>', '<PAD>', '<PAD>', '<PAD>', '<PAD>', '<PAD>', '<PAD>', '<PAD>', '<PAD>', '<PAD>', '<PAD>', '<PAD>', '<PAD>', '<PAD>', '<PAD>', '<PAD>', '<PAD>', '<PAD>', '<PAD>', '<PAD>', '<PAD>', '<PAD>', '<PAD>', '<PAD>', '<PAD>', '<PAD>', '<PAD>', '<PAD>', '<PAD>', '<PAD>']\n",
      "[0 0 0 0 0 0 0 0 0 0 0 0 0 0 0 0 0 0 0 0 0 0 0 0 0 0 0 0 0 0 0 0 0 0 0 0 0\n",
      " 0 0 0 0 0 0 0 0 0 0 0 0 0 0 0 0 0 0 0 0 0 0 0 0 0 0 0 0 0 0 0 0 0 0 0 0 0\n",
      " 0 0 0 0 0 0 0 0 0 0 0 0 0 0 0 0 0 0 0 0 0 0 0 0 0 0 0 0 0 0 0 0 0 0 0 0 0\n",
      " 0 0 0 0 0 0 0 0 0 0 0 0 0 0 0 0 0 0 0 0 0 0 0 0 0 0 0 0 0 0 0 0 0 0 0 0 0\n",
      " 0 0 0 0 0 0 0 0 0 0 0 0 0 0 0 0 0 0 0 0 0 0 0 0 0 0 0 0 0 0 0 0 0 0 0 0 0\n",
      " 0 0 0 0 0 0 0 0 0 0 0 0 0 0 0]\n"
     ]
    }
   ],
   "source": [
    "# get tokens from bert vocab\n",
    "token_idx = {}\n",
    "with open(MAIN_PATH+'vocab.txt','r') as f:\n",
    "    for line in f:\n",
    "        token_idx[line.strip()] = len(token_idx)+2\n",
    "#print(token_idx)\n",
    "\n",
    "# add special token\n",
    "token_idx['<PAD>'] = data_config['padding_idx']\n",
    "token_idx['<UNK>'] = data_config['unknown_idx']\n",
    "\n",
    "# tags map\n",
    "tag_idx = {'O':0, \n",
    "           'B-ORG':1, 'I-ORG':2, \n",
    "           'B-LOC':3, 'I-LOC':4, \n",
    "           'B-PER':5, 'I-PER':6,}\n",
    "tag_idx[START_TAG] = len(tag_idx)\n",
    "tag_idx[STOP_TAG] = len(tag_idx)\n",
    "\n",
    "def sentence_padding(x):\n",
    "    x = [[token_idx.get(token,data_config['unknown_idx']) for token in sent.split()] for sent in x]\n",
    "    x = [sent[:data_config['seq_len']]+[data_config['padding_idx']]*(max(0,data_config['seq_len']-len(sent))) for sent in x]\n",
    "    return x\n",
    "\n",
    "def target_padding(y):\n",
    "    y = [[tag_idx[target] for target in targets.split()] for targets in y]\n",
    "    y = [targets[:data_config['seq_len']]+[0]*(max(0,data_config['seq_len']-len(targets))) for targets in y] # 0 stands for 'O'\n",
    "    return y\n",
    "\n",
    "# prepare data \n",
    "def train_data_iter(path_x=MAIN_PATH+'msra/train/sentences.txt',path_y=MAIN_PATH+'msra/train/tags.txt',data_config=data_config,shuffle=True):\n",
    "    \n",
    "    # read x and y\n",
    "    x = open(path_x,'r').read().split('\\n')\n",
    "    y = open(path_y,'r').read().split('\\n')\n",
    "    assert len(x) == len(y),print('data error!')\n",
    "    n = len(x)\n",
    "    \n",
    "    # transform sentence to array\n",
    "    x = sentence_padding(x)\n",
    "    \n",
    "    # transform target to array\n",
    "    y = target_padding(y)\n",
    "    \n",
    "    # shuffle x and y\n",
    "    if shuffle:\n",
    "        x, y = np.array(x), np.array(y)\n",
    "        state = np.random.get_state()\n",
    "        np.random.shuffle(x)\n",
    "        np.random.set_state(state)\n",
    "        np.random.shuffle(y)\n",
    "    \n",
    "    # get batch data\n",
    "    for i in range(math.ceil(n/data_config['batch_size'])-1):\n",
    "        start = i*data_config['batch_size']\n",
    "        end = (i+1)*data_config['batch_size']\n",
    "        yield torch.tensor(x[start:end]).to(device), torch.tensor(y[start:end]).to(device)\n",
    "\n",
    "model_config['vocab_size'] = len(token_idx)+2\n",
    "token_idx_r = {v:k for k,v in token_idx.items()}\n",
    "tag_idx_r = {v:k for k,v in tag_idx.items()}\n",
    "I = train_data_iter()\n",
    "for x,y in I:\n",
    "    x,y = x.cpu(),y.cpu()\n",
    "    print(x.size(), y.size())\n",
    "    for idx in range(1):\n",
    "      print([token_idx_r.get(i,'') for i in x[idx].numpy()])\n",
    "      print(y[idx].numpy())\n",
    "    break"
   ]
  },
  {
   "cell_type": "code",
   "execution_count": 21,
   "metadata": {
    "colab": {
     "base_uri": "https://localhost:8080/",
     "height": 221
    },
    "colab_type": "code",
    "id": "-omtDVXMfZFq",
    "outputId": "761a35fb-c847-4209-dbde-40cba95b3349",
    "scrolled": true
   },
   "outputs": [
    {
     "name": "stdout",
     "output_type": "stream",
     "text": [
      "training start...\n",
      "[params]:\n",
      "\tmodel params: {'embedding_dim': 32, 'hidden_dim': 64, 'vocab_size': 21132, 'target_size': 7}\n",
      "\tdata params: {'seq_len': 200, 'batch_size': 64, 'padding_idx': 0, 'unknown_idx': 1}\n",
      "\ttrain parmas: {'epochs': 10, 'lr': 0.001, 'loss_type': 'softmax'}\n",
      "[build model]:\n",
      "lstm_crf_ner(\n",
      "  (word_embeds): Embedding(21132, 32)\n",
      "  (lstm): GRU(32, 32, batch_first=True, bidirectional=True)\n",
      "  (hidden2tag): Linear(in_features=64, out_features=9, bias=True)\n",
      ")\n"
     ]
    },
    {
     "data": {
      "application/vnd.jupyter.widget-view+json": {
       "model_id": "6b9fbc2a002142b38aaff5b197428691",
       "version_major": 2,
       "version_minor": 0
      },
      "text/plain": [
       "HBox(children=(IntProgress(value=0, max=656), HTML(value='')))"
      ]
     },
     "metadata": {},
     "output_type": "display_data"
    },
    {
     "name": "stdout",
     "output_type": "stream",
     "text": [
      "\n",
      "[epoch 0]\tloss=31.478970710824175\n",
      "[evaluation]:\n",
      "\t ['近:O', '日:O', '在:O', '江:B-LOC', '苏:I-LOC', '如:O', '皋:O', '市:O', '城:O', '西:I-LOC', '乡:O', '，:O', '１:O', '０:O', '０:O', '０:O', '多:O', '个:O', '品:O', '种:O', '的:O', '花:O', '木:O', '盆:O', '景:O', '，:O', '千:O', '姿:O', '百:O', '态:O', '，:O', '新:O', '颖:O', '别:O', '致:O', '，:O', '吸:O', '引:O', '了:O', '成:O', '千:O', '上:O', '万:O', '的:O', '游:O', '客:O', '、:O', '顾:O', '客:O', '驻:O', '足:O', '观:O', '赏:O', '、:O', '选:O', '购:O', '。:O', '<PAD>:O', '<PAD>:O', '<PAD>:O', '<PAD>:O', '<PAD>:O', '<PAD>:O', '<PAD>:O', '<PAD>:O', '<PAD>:O', '<PAD>:O', '<PAD>:O', '<PAD>:O', '<PAD>:O', '<PAD>:O', '<PAD>:O', '<PAD>:O', '<PAD>:O', '<PAD>:O', '<PAD>:O', '<PAD>:O', '<PAD>:O', '<PAD>:O', '<PAD>:O', '<PAD>:O', '<PAD>:O', '<PAD>:O', '<PAD>:O', '<PAD>:O', '<PAD>:O', '<PAD>:O', '<PAD>:O', '<PAD>:O', '<PAD>:O', '<PAD>:O', '<PAD>:O', '<PAD>:O', '<PAD>:O', '<PAD>:O', '<PAD>:O', '<PAD>:O', '<PAD>:O', '<PAD>:O', '<PAD>:O', '<PAD>:O', '<PAD>:O', '<PAD>:O', '<PAD>:O', '<PAD>:O', '<PAD>:O', '<PAD>:O', '<PAD>:O', '<PAD>:O', '<PAD>:O', '<PAD>:O', '<PAD>:O', '<PAD>:O', '<PAD>:O', '<PAD>:O', '<PAD>:O', '<PAD>:O', '<PAD>:O', '<PAD>:O', '<PAD>:O', '<PAD>:O', '<PAD>:O', '<PAD>:O', '<PAD>:O', '<PAD>:O', '<PAD>:O', '<PAD>:O', '<PAD>:O', '<PAD>:O', '<PAD>:O', '<PAD>:O', '<PAD>:O', '<PAD>:O', '<PAD>:O', '<PAD>:O', '<PAD>:O', '<PAD>:O', '<PAD>:O', '<PAD>:O', '<PAD>:O', '<PAD>:O', '<PAD>:O', '<PAD>:O', '<PAD>:O', '<PAD>:O', '<PAD>:O', '<PAD>:O', '<PAD>:O', '<PAD>:O', '<PAD>:O', '<PAD>:O', '<PAD>:O', '<PAD>:O', '<PAD>:O', '<PAD>:O', '<PAD>:O', '<PAD>:O', '<PAD>:O', '<PAD>:O', '<PAD>:O', '<PAD>:O', '<PAD>:O', '<PAD>:O', '<PAD>:O', '<PAD>:O', '<PAD>:O', '<PAD>:O', '<PAD>:O', '<PAD>:O', '<PAD>:O', '<PAD>:O', '<PAD>:O', '<PAD>:O', '<PAD>:O', '<PAD>:O', '<PAD>:O', '<PAD>:O', '<PAD>:O', '<PAD>:O', '<PAD>:O', '<PAD>:O', '<PAD>:O', '<PAD>:O', '<PAD>:O', '<PAD>:O', '<PAD>:O', '<PAD>:O', '<PAD>:O', '<PAD>:O', '<PAD>:O', '<PAD>:O', '<PAD>:O', '<PAD>:O', '<PAD>:O', '<PAD>:O', '<PAD>:O', '<PAD>:O', '<PAD>:O', '<PAD>:O', '<PAD>:O']\n",
      "\t ['大:O', '家:O', '认:O', '为:O', '，:O', '该:O', '片:O', '较:O', '全:O', '面:O', '、:O', '系:O', '统:O', '、:O', '形:O', '象:O', '地:O', '反:O', '映:O', '了:O', '新:O', '四:O', '军:O', '的:O', '战:O', '斗:O', '历:O', '史:O', '，:O', '揭:O', '示:O', '了:O', '中:O', '国:O', '共:O', '产:O', '党:O', '在:O', '抗:O', '日:O', '战:O', '争:O', '中:O', '的:O', '历:O', '史:O', '地:O', '位:O', '和:O', '作:O', '用:O', '，:O', '是:O', '一:O', '部:O', '进:O', '行:O', '爱:O', '国:O', '主:O', '义:O', '和:O', '革:O', '命:O', '传:O', '统:O', '教:O', '育:O', '的:O', '好:O', '教:O', '材:O', '。:O', '<PAD>:O', '<PAD>:O', '<PAD>:O', '<PAD>:O', '<PAD>:O', '<PAD>:O', '<PAD>:O', '<PAD>:O', '<PAD>:O', '<PAD>:O', '<PAD>:O', '<PAD>:O', '<PAD>:O', '<PAD>:O', '<PAD>:O', '<PAD>:O', '<PAD>:O', '<PAD>:O', '<PAD>:O', '<PAD>:O', '<PAD>:O', '<PAD>:O', '<PAD>:O', '<PAD>:O', '<PAD>:O', '<PAD>:O', '<PAD>:O', '<PAD>:O', '<PAD>:O', '<PAD>:O', '<PAD>:O', '<PAD>:O', '<PAD>:O', '<PAD>:O', '<PAD>:O', '<PAD>:O', '<PAD>:O', '<PAD>:O', '<PAD>:O', '<PAD>:O', '<PAD>:O', '<PAD>:O', '<PAD>:O', '<PAD>:O', '<PAD>:O', '<PAD>:O', '<PAD>:O', '<PAD>:O', '<PAD>:O', '<PAD>:O', '<PAD>:O', '<PAD>:O', '<PAD>:O', '<PAD>:O', '<PAD>:O', '<PAD>:O', '<PAD>:O', '<PAD>:O', '<PAD>:O', '<PAD>:O', '<PAD>:O', '<PAD>:O', '<PAD>:O', '<PAD>:O', '<PAD>:O', '<PAD>:O', '<PAD>:O', '<PAD>:O', '<PAD>:O', '<PAD>:O', '<PAD>:O', '<PAD>:O', '<PAD>:O', '<PAD>:O', '<PAD>:O', '<PAD>:O', '<PAD>:O', '<PAD>:O', '<PAD>:O', '<PAD>:O', '<PAD>:O', '<PAD>:O', '<PAD>:O', '<PAD>:O', '<PAD>:O', '<PAD>:O', '<PAD>:O', '<PAD>:O', '<PAD>:O', '<PAD>:O', '<PAD>:O', '<PAD>:O', '<PAD>:O', '<PAD>:O', '<PAD>:O', '<PAD>:O', '<PAD>:O', '<PAD>:O', '<PAD>:O', '<PAD>:O', '<PAD>:O', '<PAD>:O', '<PAD>:O', '<PAD>:O', '<PAD>:O', '<PAD>:O', '<PAD>:O', '<PAD>:O', '<PAD>:O', '<PAD>:O', '<PAD>:O', '<PAD>:O', '<PAD>:O', '<PAD>:O', '<PAD>:O', '<PAD>:O', '<PAD>:O', '<PAD>:O', '<PAD>:O', '<PAD>:O', '<PAD>:O', '<PAD>:O', '<PAD>:O', '<PAD>:O', '<PAD>:O', '<PAD>:O', '<PAD>:O']\n"
     ]
    },
    {
     "data": {
      "application/vnd.jupyter.widget-view+json": {
       "model_id": "f482f4e729b04621a285628786117522",
       "version_major": 2,
       "version_minor": 0
      },
      "text/plain": [
       "HBox(children=(IntProgress(value=0, max=656), HTML(value='')))"
      ]
     },
     "metadata": {},
     "output_type": "display_data"
    },
    {
     "name": "stdout",
     "output_type": "stream",
     "text": [
      "\n",
      "[epoch 1]\tloss=13.078829448397567\n",
      "[evaluation]:\n",
      "\t ['近:O', '日:O', '在:O', '江:B-LOC', '苏:I-LOC', '如:O', '皋:B-LOC', '市:I-LOC', '城:I-ORG', '西:O', '乡:O', '，:O', '１:O', '０:O', '０:O', '０:O', '多:O', '个:O', '品:O', '种:O', '的:O', '花:O', '木:O', '盆:O', '景:O', '，:O', '千:O', '姿:O', '百:O', '态:O', '，:O', '新:O', '颖:O', '别:O', '致:O', '，:O', '吸:O', '引:O', '了:O', '成:O', '千:O', '上:O', '万:O', '的:O', '游:O', '客:O', '、:O', '顾:O', '客:O', '驻:O', '足:O', '观:O', '赏:O', '、:O', '选:O', '购:O', '。:O', '<PAD>:O', '<PAD>:O', '<PAD>:O', '<PAD>:O', '<PAD>:O', '<PAD>:O', '<PAD>:O', '<PAD>:O', '<PAD>:O', '<PAD>:O', '<PAD>:O', '<PAD>:O', '<PAD>:O', '<PAD>:O', '<PAD>:O', '<PAD>:O', '<PAD>:O', '<PAD>:O', '<PAD>:O', '<PAD>:O', '<PAD>:O', '<PAD>:O', '<PAD>:O', '<PAD>:O', '<PAD>:O', '<PAD>:O', '<PAD>:O', '<PAD>:O', '<PAD>:O', '<PAD>:O', '<PAD>:O', '<PAD>:O', '<PAD>:O', '<PAD>:O', '<PAD>:O', '<PAD>:O', '<PAD>:O', '<PAD>:O', '<PAD>:O', '<PAD>:O', '<PAD>:O', '<PAD>:O', '<PAD>:O', '<PAD>:O', '<PAD>:O', '<PAD>:O', '<PAD>:O', '<PAD>:O', '<PAD>:O', '<PAD>:O', '<PAD>:O', '<PAD>:O', '<PAD>:O', '<PAD>:O', '<PAD>:O', '<PAD>:O', '<PAD>:O', '<PAD>:O', '<PAD>:O', '<PAD>:O', '<PAD>:O', '<PAD>:O', '<PAD>:O', '<PAD>:O', '<PAD>:O', '<PAD>:O', '<PAD>:O', '<PAD>:O', '<PAD>:O', '<PAD>:O', '<PAD>:O', '<PAD>:O', '<PAD>:O', '<PAD>:O', '<PAD>:O', '<PAD>:O', '<PAD>:O', '<PAD>:O', '<PAD>:O', '<PAD>:O', '<PAD>:O', '<PAD>:O', '<PAD>:O', '<PAD>:O', '<PAD>:O', '<PAD>:O', '<PAD>:O', '<PAD>:O', '<PAD>:O', '<PAD>:O', '<PAD>:O', '<PAD>:O', '<PAD>:O', '<PAD>:O', '<PAD>:O', '<PAD>:O', '<PAD>:O', '<PAD>:O', '<PAD>:O', '<PAD>:O', '<PAD>:O', '<PAD>:O', '<PAD>:O', '<PAD>:O', '<PAD>:O', '<PAD>:O', '<PAD>:O', '<PAD>:O', '<PAD>:O', '<PAD>:O', '<PAD>:O', '<PAD>:O', '<PAD>:O', '<PAD>:O', '<PAD>:O', '<PAD>:O', '<PAD>:O', '<PAD>:O', '<PAD>:O', '<PAD>:O', '<PAD>:O', '<PAD>:O', '<PAD>:O', '<PAD>:O', '<PAD>:O', '<PAD>:O', '<PAD>:O', '<PAD>:O', '<PAD>:O', '<PAD>:O', '<PAD>:O', '<PAD>:O', '<PAD>:O', '<PAD>:O', '<PAD>:O', '<PAD>:O', '<PAD>:O', '<PAD>:O', '<PAD>:O', '<PAD>:O', '<PAD>:O', '<PAD>:O', '<PAD>:O']\n",
      "\t ['大:O', '家:O', '认:O', '为:O', '，:O', '该:O', '片:O', '较:O', '全:O', '面:O', '、:O', '系:O', '统:O', '、:O', '形:O', '象:O', '地:O', '反:O', '映:O', '了:O', '新:O', '四:O', '军:O', '的:O', '战:O', '斗:O', '历:O', '史:O', '，:O', '揭:O', '示:O', '了:O', '中:B-LOC', '国:I-LOC', '共:I-ORG', '产:O', '党:O', '在:O', '抗:O', '日:O', '战:O', '争:O', '中:O', '的:O', '历:O', '史:O', '地:O', '位:O', '和:O', '作:O', '用:O', '，:O', '是:O', '一:O', '部:O', '进:O', '行:O', '爱:O', '国:O', '主:O', '义:O', '和:O', '革:O', '命:O', '传:O', '统:O', '教:O', '育:O', '的:O', '好:O', '教:O', '材:O', '。:O', '<PAD>:O', '<PAD>:O', '<PAD>:O', '<PAD>:O', '<PAD>:O', '<PAD>:O', '<PAD>:O', '<PAD>:O', '<PAD>:O', '<PAD>:O', '<PAD>:O', '<PAD>:O', '<PAD>:O', '<PAD>:O', '<PAD>:O', '<PAD>:O', '<PAD>:O', '<PAD>:O', '<PAD>:O', '<PAD>:O', '<PAD>:O', '<PAD>:O', '<PAD>:O', '<PAD>:O', '<PAD>:O', '<PAD>:O', '<PAD>:O', '<PAD>:O', '<PAD>:O', '<PAD>:O', '<PAD>:O', '<PAD>:O', '<PAD>:O', '<PAD>:O', '<PAD>:O', '<PAD>:O', '<PAD>:O', '<PAD>:O', '<PAD>:O', '<PAD>:O', '<PAD>:O', '<PAD>:O', '<PAD>:O', '<PAD>:O', '<PAD>:O', '<PAD>:O', '<PAD>:O', '<PAD>:O', '<PAD>:O', '<PAD>:O', '<PAD>:O', '<PAD>:O', '<PAD>:O', '<PAD>:O', '<PAD>:O', '<PAD>:O', '<PAD>:O', '<PAD>:O', '<PAD>:O', '<PAD>:O', '<PAD>:O', '<PAD>:O', '<PAD>:O', '<PAD>:O', '<PAD>:O', '<PAD>:O', '<PAD>:O', '<PAD>:O', '<PAD>:O', '<PAD>:O', '<PAD>:O', '<PAD>:O', '<PAD>:O', '<PAD>:O', '<PAD>:O', '<PAD>:O', '<PAD>:O', '<PAD>:O', '<PAD>:O', '<PAD>:O', '<PAD>:O', '<PAD>:O', '<PAD>:O', '<PAD>:O', '<PAD>:O', '<PAD>:O', '<PAD>:O', '<PAD>:O', '<PAD>:O', '<PAD>:O', '<PAD>:O', '<PAD>:O', '<PAD>:O', '<PAD>:O', '<PAD>:O', '<PAD>:O', '<PAD>:O', '<PAD>:O', '<PAD>:O', '<PAD>:O', '<PAD>:O', '<PAD>:O', '<PAD>:O', '<PAD>:O', '<PAD>:O', '<PAD>:O', '<PAD>:O', '<PAD>:O', '<PAD>:O', '<PAD>:O', '<PAD>:O', '<PAD>:O', '<PAD>:O', '<PAD>:O', '<PAD>:O', '<PAD>:O', '<PAD>:O', '<PAD>:O', '<PAD>:O', '<PAD>:O', '<PAD>:O', '<PAD>:O', '<PAD>:O', '<PAD>:O', '<PAD>:O', '<PAD>:O', '<PAD>:O']\n"
     ]
    },
    {
     "data": {
      "application/vnd.jupyter.widget-view+json": {
       "model_id": "4fa3ecdfe8804cf3b9e278142ad3d04e",
       "version_major": 2,
       "version_minor": 0
      },
      "text/plain": [
       "HBox(children=(IntProgress(value=0, max=656), HTML(value='')))"
      ]
     },
     "metadata": {},
     "output_type": "display_data"
    },
    {
     "name": "stdout",
     "output_type": "stream",
     "text": [
      "\n",
      "[epoch 2]\tloss=7.800156210980764\n",
      "[evaluation]:\n",
      "\t ['近:O', '日:O', '在:O', '江:B-LOC', '苏:I-LOC', '如:O', '皋:B-LOC', '市:I-LOC', '城:O', '西:O', '乡:O', '，:O', '１:O', '０:O', '０:O', '０:O', '多:O', '个:O', '品:O', '种:O', '的:O', '花:O', '木:O', '盆:O', '景:O', '，:O', '千:O', '姿:O', '百:O', '态:O', '，:O', '新:O', '颖:O', '别:O', '致:O', '，:O', '吸:O', '引:O', '了:O', '成:O', '千:O', '上:O', '万:O', '的:O', '游:O', '客:O', '、:O', '顾:O', '客:O', '驻:O', '足:O', '观:O', '赏:O', '、:O', '选:O', '购:O', '。:O', '<PAD>:O', '<PAD>:O', '<PAD>:O', '<PAD>:O', '<PAD>:O', '<PAD>:O', '<PAD>:O', '<PAD>:O', '<PAD>:O', '<PAD>:O', '<PAD>:O', '<PAD>:O', '<PAD>:O', '<PAD>:O', '<PAD>:O', '<PAD>:O', '<PAD>:O', '<PAD>:O', '<PAD>:O', '<PAD>:O', '<PAD>:O', '<PAD>:O', '<PAD>:O', '<PAD>:O', '<PAD>:O', '<PAD>:O', '<PAD>:O', '<PAD>:O', '<PAD>:O', '<PAD>:O', '<PAD>:O', '<PAD>:O', '<PAD>:O', '<PAD>:O', '<PAD>:O', '<PAD>:O', '<PAD>:O', '<PAD>:O', '<PAD>:O', '<PAD>:O', '<PAD>:O', '<PAD>:O', '<PAD>:O', '<PAD>:O', '<PAD>:O', '<PAD>:O', '<PAD>:O', '<PAD>:O', '<PAD>:O', '<PAD>:O', '<PAD>:O', '<PAD>:O', '<PAD>:O', '<PAD>:O', '<PAD>:O', '<PAD>:O', '<PAD>:O', '<PAD>:O', '<PAD>:O', '<PAD>:O', '<PAD>:O', '<PAD>:O', '<PAD>:O', '<PAD>:O', '<PAD>:O', '<PAD>:O', '<PAD>:O', '<PAD>:O', '<PAD>:O', '<PAD>:O', '<PAD>:O', '<PAD>:O', '<PAD>:O', '<PAD>:O', '<PAD>:O', '<PAD>:O', '<PAD>:O', '<PAD>:O', '<PAD>:O', '<PAD>:O', '<PAD>:O', '<PAD>:O', '<PAD>:O', '<PAD>:O', '<PAD>:O', '<PAD>:O', '<PAD>:O', '<PAD>:O', '<PAD>:O', '<PAD>:O', '<PAD>:O', '<PAD>:O', '<PAD>:O', '<PAD>:O', '<PAD>:O', '<PAD>:O', '<PAD>:O', '<PAD>:O', '<PAD>:O', '<PAD>:O', '<PAD>:O', '<PAD>:O', '<PAD>:O', '<PAD>:O', '<PAD>:O', '<PAD>:O', '<PAD>:O', '<PAD>:O', '<PAD>:O', '<PAD>:O', '<PAD>:O', '<PAD>:O', '<PAD>:O', '<PAD>:O', '<PAD>:O', '<PAD>:O', '<PAD>:O', '<PAD>:O', '<PAD>:O', '<PAD>:O', '<PAD>:O', '<PAD>:O', '<PAD>:O', '<PAD>:O', '<PAD>:O', '<PAD>:O', '<PAD>:O', '<PAD>:O', '<PAD>:O', '<PAD>:O', '<PAD>:O', '<PAD>:O', '<PAD>:O', '<PAD>:O', '<PAD>:O', '<PAD>:O', '<PAD>:O', '<PAD>:O', '<PAD>:O', '<PAD>:O', '<PAD>:O', '<PAD>:O', '<PAD>:O']\n",
      "\t ['大:O', '家:O', '认:O', '为:O', '，:O', '该:O', '片:O', '较:O', '全:O', '面:O', '、:O', '系:O', '统:O', '、:O', '形:O', '象:O', '地:O', '反:O', '映:O', '了:O', '新:O', '四:O', '军:O', '的:O', '战:O', '斗:O', '历:O', '史:O', '，:O', '揭:O', '示:O', '了:O', '中:B-ORG', '国:I-ORG', '共:I-ORG', '产:I-ORG', '党:I-ORG', '在:O', '抗:O', '日:O', '战:O', '争:O', '中:O', '的:O', '历:O', '史:O', '地:O', '位:O', '和:O', '作:O', '用:O', '，:O', '是:O', '一:O', '部:O', '进:O', '行:O', '爱:O', '国:O', '主:O', '义:O', '和:O', '革:O', '命:O', '传:O', '统:O', '教:O', '育:O', '的:O', '好:O', '教:O', '材:O', '。:O', '<PAD>:O', '<PAD>:O', '<PAD>:O', '<PAD>:O', '<PAD>:O', '<PAD>:O', '<PAD>:O', '<PAD>:O', '<PAD>:O', '<PAD>:O', '<PAD>:O', '<PAD>:O', '<PAD>:O', '<PAD>:O', '<PAD>:O', '<PAD>:O', '<PAD>:O', '<PAD>:O', '<PAD>:O', '<PAD>:O', '<PAD>:O', '<PAD>:O', '<PAD>:O', '<PAD>:O', '<PAD>:O', '<PAD>:O', '<PAD>:O', '<PAD>:O', '<PAD>:O', '<PAD>:O', '<PAD>:O', '<PAD>:O', '<PAD>:O', '<PAD>:O', '<PAD>:O', '<PAD>:O', '<PAD>:O', '<PAD>:O', '<PAD>:O', '<PAD>:O', '<PAD>:O', '<PAD>:O', '<PAD>:O', '<PAD>:O', '<PAD>:O', '<PAD>:O', '<PAD>:O', '<PAD>:O', '<PAD>:O', '<PAD>:O', '<PAD>:O', '<PAD>:O', '<PAD>:O', '<PAD>:O', '<PAD>:O', '<PAD>:O', '<PAD>:O', '<PAD>:O', '<PAD>:O', '<PAD>:O', '<PAD>:O', '<PAD>:O', '<PAD>:O', '<PAD>:O', '<PAD>:O', '<PAD>:O', '<PAD>:O', '<PAD>:O', '<PAD>:O', '<PAD>:O', '<PAD>:O', '<PAD>:O', '<PAD>:O', '<PAD>:O', '<PAD>:O', '<PAD>:O', '<PAD>:O', '<PAD>:O', '<PAD>:O', '<PAD>:O', '<PAD>:O', '<PAD>:O', '<PAD>:O', '<PAD>:O', '<PAD>:O', '<PAD>:O', '<PAD>:O', '<PAD>:O', '<PAD>:O', '<PAD>:O', '<PAD>:O', '<PAD>:O', '<PAD>:O', '<PAD>:O', '<PAD>:O', '<PAD>:O', '<PAD>:O', '<PAD>:O', '<PAD>:O', '<PAD>:O', '<PAD>:O', '<PAD>:O', '<PAD>:O', '<PAD>:O', '<PAD>:O', '<PAD>:O', '<PAD>:O', '<PAD>:O', '<PAD>:O', '<PAD>:O', '<PAD>:O', '<PAD>:O', '<PAD>:O', '<PAD>:O', '<PAD>:O', '<PAD>:O', '<PAD>:O', '<PAD>:O', '<PAD>:O', '<PAD>:O', '<PAD>:O', '<PAD>:O', '<PAD>:O', '<PAD>:O', '<PAD>:O', '<PAD>:O', '<PAD>:O']\n"
     ]
    },
    {
     "data": {
      "application/vnd.jupyter.widget-view+json": {
       "model_id": "3d6b3703c69b40d5a3205cb3b17aeadf",
       "version_major": 2,
       "version_minor": 0
      },
      "text/plain": [
       "HBox(children=(IntProgress(value=0, max=656), HTML(value='')))"
      ]
     },
     "metadata": {},
     "output_type": "display_data"
    },
    {
     "name": "stdout",
     "output_type": "stream",
     "text": [
      "\n",
      "[epoch 3]\tloss=5.498839211173173\n",
      "[evaluation]:\n",
      "\t ['近:O', '日:O', '在:O', '江:B-LOC', '苏:I-LOC', '如:O', '皋:B-LOC', '市:I-LOC', '城:O', '西:O', '乡:O', '，:O', '１:O', '０:O', '０:O', '０:O', '多:O', '个:O', '品:O', '种:O', '的:O', '花:O', '木:O', '盆:O', '景:O', '，:O', '千:O', '姿:O', '百:O', '态:O', '，:O', '新:O', '颖:O', '别:O', '致:O', '，:O', '吸:O', '引:O', '了:O', '成:O', '千:O', '上:O', '万:O', '的:O', '游:O', '客:O', '、:O', '顾:O', '客:O', '驻:O', '足:O', '观:O', '赏:O', '、:O', '选:O', '购:O', '。:O', '<PAD>:O', '<PAD>:O', '<PAD>:O', '<PAD>:O', '<PAD>:O', '<PAD>:O', '<PAD>:O', '<PAD>:O', '<PAD>:O', '<PAD>:O', '<PAD>:O', '<PAD>:O', '<PAD>:O', '<PAD>:O', '<PAD>:O', '<PAD>:O', '<PAD>:O', '<PAD>:O', '<PAD>:O', '<PAD>:O', '<PAD>:O', '<PAD>:O', '<PAD>:O', '<PAD>:O', '<PAD>:O', '<PAD>:O', '<PAD>:O', '<PAD>:O', '<PAD>:O', '<PAD>:O', '<PAD>:O', '<PAD>:O', '<PAD>:O', '<PAD>:O', '<PAD>:O', '<PAD>:O', '<PAD>:O', '<PAD>:O', '<PAD>:O', '<PAD>:O', '<PAD>:O', '<PAD>:O', '<PAD>:O', '<PAD>:O', '<PAD>:O', '<PAD>:O', '<PAD>:O', '<PAD>:O', '<PAD>:O', '<PAD>:O', '<PAD>:O', '<PAD>:O', '<PAD>:O', '<PAD>:O', '<PAD>:O', '<PAD>:O', '<PAD>:O', '<PAD>:O', '<PAD>:O', '<PAD>:O', '<PAD>:O', '<PAD>:O', '<PAD>:O', '<PAD>:O', '<PAD>:O', '<PAD>:O', '<PAD>:O', '<PAD>:O', '<PAD>:O', '<PAD>:O', '<PAD>:O', '<PAD>:O', '<PAD>:O', '<PAD>:O', '<PAD>:O', '<PAD>:O', '<PAD>:O', '<PAD>:O', '<PAD>:O', '<PAD>:O', '<PAD>:O', '<PAD>:O', '<PAD>:O', '<PAD>:O', '<PAD>:O', '<PAD>:O', '<PAD>:O', '<PAD>:O', '<PAD>:O', '<PAD>:O', '<PAD>:O', '<PAD>:O', '<PAD>:O', '<PAD>:O', '<PAD>:O', '<PAD>:O', '<PAD>:O', '<PAD>:O', '<PAD>:O', '<PAD>:O', '<PAD>:O', '<PAD>:O', '<PAD>:O', '<PAD>:O', '<PAD>:O', '<PAD>:O', '<PAD>:O', '<PAD>:O', '<PAD>:O', '<PAD>:O', '<PAD>:O', '<PAD>:O', '<PAD>:O', '<PAD>:O', '<PAD>:O', '<PAD>:O', '<PAD>:O', '<PAD>:O', '<PAD>:O', '<PAD>:O', '<PAD>:O', '<PAD>:O', '<PAD>:O', '<PAD>:O', '<PAD>:O', '<PAD>:O', '<PAD>:O', '<PAD>:O', '<PAD>:O', '<PAD>:O', '<PAD>:O', '<PAD>:O', '<PAD>:O', '<PAD>:O', '<PAD>:O', '<PAD>:O', '<PAD>:O', '<PAD>:O', '<PAD>:O', '<PAD>:O', '<PAD>:O', '<PAD>:O', '<PAD>:O']\n",
      "\t ['大:O', '家:O', '认:O', '为:O', '，:O', '该:O', '片:O', '较:O', '全:O', '面:O', '、:O', '系:O', '统:O', '、:O', '形:O', '象:O', '地:O', '反:O', '映:O', '了:O', '新:O', '四:O', '军:O', '的:O', '战:O', '斗:O', '历:O', '史:O', '，:O', '揭:O', '示:O', '了:O', '中:B-ORG', '国:I-ORG', '共:I-ORG', '产:I-ORG', '党:I-ORG', '在:O', '抗:O', '日:O', '战:O', '争:O', '中:O', '的:O', '历:O', '史:O', '地:O', '位:O', '和:O', '作:O', '用:O', '，:O', '是:O', '一:O', '部:O', '进:O', '行:O', '爱:O', '国:O', '主:O', '义:O', '和:O', '革:O', '命:O', '传:O', '统:O', '教:O', '育:O', '的:O', '好:O', '教:O', '材:O', '。:O', '<PAD>:O', '<PAD>:O', '<PAD>:O', '<PAD>:O', '<PAD>:O', '<PAD>:O', '<PAD>:O', '<PAD>:O', '<PAD>:O', '<PAD>:O', '<PAD>:O', '<PAD>:O', '<PAD>:O', '<PAD>:O', '<PAD>:O', '<PAD>:O', '<PAD>:O', '<PAD>:O', '<PAD>:O', '<PAD>:O', '<PAD>:O', '<PAD>:O', '<PAD>:O', '<PAD>:O', '<PAD>:O', '<PAD>:O', '<PAD>:O', '<PAD>:O', '<PAD>:O', '<PAD>:O', '<PAD>:O', '<PAD>:O', '<PAD>:O', '<PAD>:O', '<PAD>:O', '<PAD>:O', '<PAD>:O', '<PAD>:O', '<PAD>:O', '<PAD>:O', '<PAD>:O', '<PAD>:O', '<PAD>:O', '<PAD>:O', '<PAD>:O', '<PAD>:O', '<PAD>:O', '<PAD>:O', '<PAD>:O', '<PAD>:O', '<PAD>:O', '<PAD>:O', '<PAD>:O', '<PAD>:O', '<PAD>:O', '<PAD>:O', '<PAD>:O', '<PAD>:O', '<PAD>:O', '<PAD>:O', '<PAD>:O', '<PAD>:O', '<PAD>:O', '<PAD>:O', '<PAD>:O', '<PAD>:O', '<PAD>:O', '<PAD>:O', '<PAD>:O', '<PAD>:O', '<PAD>:O', '<PAD>:O', '<PAD>:O', '<PAD>:O', '<PAD>:O', '<PAD>:O', '<PAD>:O', '<PAD>:O', '<PAD>:O', '<PAD>:O', '<PAD>:O', '<PAD>:O', '<PAD>:O', '<PAD>:O', '<PAD>:O', '<PAD>:O', '<PAD>:O', '<PAD>:O', '<PAD>:O', '<PAD>:O', '<PAD>:O', '<PAD>:O', '<PAD>:O', '<PAD>:O', '<PAD>:O', '<PAD>:O', '<PAD>:O', '<PAD>:O', '<PAD>:O', '<PAD>:O', '<PAD>:O', '<PAD>:O', '<PAD>:O', '<PAD>:O', '<PAD>:O', '<PAD>:O', '<PAD>:O', '<PAD>:O', '<PAD>:O', '<PAD>:O', '<PAD>:O', '<PAD>:O', '<PAD>:O', '<PAD>:O', '<PAD>:O', '<PAD>:O', '<PAD>:O', '<PAD>:O', '<PAD>:O', '<PAD>:O', '<PAD>:O', '<PAD>:O', '<PAD>:O', '<PAD>:O', '<PAD>:O', '<PAD>:O', '<PAD>:O']\n"
     ]
    },
    {
     "data": {
      "application/vnd.jupyter.widget-view+json": {
       "model_id": "f5ea674ea50f4900a946d7b856332f1a",
       "version_major": 2,
       "version_minor": 0
      },
      "text/plain": [
       "HBox(children=(IntProgress(value=0, max=656), HTML(value='')))"
      ]
     },
     "metadata": {},
     "output_type": "display_data"
    },
    {
     "name": "stdout",
     "output_type": "stream",
     "text": [
      "\n",
      "[epoch 4]\tloss=4.295759706962399\n",
      "[evaluation]:\n",
      "\t ['近:O', '日:O', '在:O', '江:B-LOC', '苏:I-LOC', '如:O', '皋:B-LOC', '市:I-LOC', '城:O', '西:O', '乡:O', '，:O', '１:O', '０:O', '０:O', '０:O', '多:O', '个:O', '品:O', '种:O', '的:O', '花:O', '木:O', '盆:O', '景:O', '，:O', '千:O', '姿:O', '百:O', '态:O', '，:O', '新:O', '颖:O', '别:O', '致:O', '，:O', '吸:O', '引:O', '了:O', '成:O', '千:O', '上:O', '万:O', '的:O', '游:O', '客:O', '、:O', '顾:O', '客:O', '驻:O', '足:O', '观:O', '赏:O', '、:O', '选:O', '购:O', '。:O', '<PAD>:O', '<PAD>:O', '<PAD>:O', '<PAD>:O', '<PAD>:O', '<PAD>:O', '<PAD>:O', '<PAD>:O', '<PAD>:O', '<PAD>:O', '<PAD>:O', '<PAD>:O', '<PAD>:O', '<PAD>:O', '<PAD>:O', '<PAD>:O', '<PAD>:O', '<PAD>:O', '<PAD>:O', '<PAD>:O', '<PAD>:O', '<PAD>:O', '<PAD>:O', '<PAD>:O', '<PAD>:O', '<PAD>:O', '<PAD>:O', '<PAD>:O', '<PAD>:O', '<PAD>:O', '<PAD>:O', '<PAD>:O', '<PAD>:O', '<PAD>:O', '<PAD>:O', '<PAD>:O', '<PAD>:O', '<PAD>:O', '<PAD>:O', '<PAD>:O', '<PAD>:O', '<PAD>:O', '<PAD>:O', '<PAD>:O', '<PAD>:O', '<PAD>:O', '<PAD>:O', '<PAD>:O', '<PAD>:O', '<PAD>:O', '<PAD>:O', '<PAD>:O', '<PAD>:O', '<PAD>:O', '<PAD>:O', '<PAD>:O', '<PAD>:O', '<PAD>:O', '<PAD>:O', '<PAD>:O', '<PAD>:O', '<PAD>:O', '<PAD>:O', '<PAD>:O', '<PAD>:O', '<PAD>:O', '<PAD>:O', '<PAD>:O', '<PAD>:O', '<PAD>:O', '<PAD>:O', '<PAD>:O', '<PAD>:O', '<PAD>:O', '<PAD>:O', '<PAD>:O', '<PAD>:O', '<PAD>:O', '<PAD>:O', '<PAD>:O', '<PAD>:O', '<PAD>:O', '<PAD>:O', '<PAD>:O', '<PAD>:O', '<PAD>:O', '<PAD>:O', '<PAD>:O', '<PAD>:O', '<PAD>:O', '<PAD>:O', '<PAD>:O', '<PAD>:O', '<PAD>:O', '<PAD>:O', '<PAD>:O', '<PAD>:O', '<PAD>:O', '<PAD>:O', '<PAD>:O', '<PAD>:O', '<PAD>:O', '<PAD>:O', '<PAD>:O', '<PAD>:O', '<PAD>:O', '<PAD>:O', '<PAD>:O', '<PAD>:O', '<PAD>:O', '<PAD>:O', '<PAD>:O', '<PAD>:O', '<PAD>:O', '<PAD>:O', '<PAD>:O', '<PAD>:O', '<PAD>:O', '<PAD>:O', '<PAD>:O', '<PAD>:O', '<PAD>:O', '<PAD>:O', '<PAD>:O', '<PAD>:O', '<PAD>:O', '<PAD>:O', '<PAD>:O', '<PAD>:O', '<PAD>:O', '<PAD>:O', '<PAD>:O', '<PAD>:O', '<PAD>:O', '<PAD>:O', '<PAD>:O', '<PAD>:O', '<PAD>:O', '<PAD>:O', '<PAD>:O', '<PAD>:O', '<PAD>:O', '<PAD>:O']\n",
      "\t ['大:O', '家:O', '认:O', '为:O', '，:O', '该:O', '片:O', '较:O', '全:O', '面:O', '、:O', '系:O', '统:O', '、:O', '形:O', '象:O', '地:O', '反:O', '映:O', '了:O', '新:O', '四:O', '军:O', '的:O', '战:O', '斗:O', '历:O', '史:O', '，:O', '揭:O', '示:O', '了:O', '中:B-ORG', '国:I-ORG', '共:I-ORG', '产:I-ORG', '党:I-ORG', '在:O', '抗:O', '日:O', '战:O', '争:O', '中:O', '的:O', '历:O', '史:O', '地:O', '位:O', '和:O', '作:O', '用:O', '，:O', '是:O', '一:O', '部:O', '进:O', '行:O', '爱:O', '国:O', '主:O', '义:O', '和:O', '革:O', '命:O', '传:O', '统:O', '教:O', '育:O', '的:O', '好:O', '教:O', '材:O', '。:O', '<PAD>:O', '<PAD>:O', '<PAD>:O', '<PAD>:O', '<PAD>:O', '<PAD>:O', '<PAD>:O', '<PAD>:O', '<PAD>:O', '<PAD>:O', '<PAD>:O', '<PAD>:O', '<PAD>:O', '<PAD>:O', '<PAD>:O', '<PAD>:O', '<PAD>:O', '<PAD>:O', '<PAD>:O', '<PAD>:O', '<PAD>:O', '<PAD>:O', '<PAD>:O', '<PAD>:O', '<PAD>:O', '<PAD>:O', '<PAD>:O', '<PAD>:O', '<PAD>:O', '<PAD>:O', '<PAD>:O', '<PAD>:O', '<PAD>:O', '<PAD>:O', '<PAD>:O', '<PAD>:O', '<PAD>:O', '<PAD>:O', '<PAD>:O', '<PAD>:O', '<PAD>:O', '<PAD>:O', '<PAD>:O', '<PAD>:O', '<PAD>:O', '<PAD>:O', '<PAD>:O', '<PAD>:O', '<PAD>:O', '<PAD>:O', '<PAD>:O', '<PAD>:O', '<PAD>:O', '<PAD>:O', '<PAD>:O', '<PAD>:O', '<PAD>:O', '<PAD>:O', '<PAD>:O', '<PAD>:O', '<PAD>:O', '<PAD>:O', '<PAD>:O', '<PAD>:O', '<PAD>:O', '<PAD>:O', '<PAD>:O', '<PAD>:O', '<PAD>:O', '<PAD>:O', '<PAD>:O', '<PAD>:O', '<PAD>:O', '<PAD>:O', '<PAD>:O', '<PAD>:O', '<PAD>:O', '<PAD>:O', '<PAD>:O', '<PAD>:O', '<PAD>:O', '<PAD>:O', '<PAD>:O', '<PAD>:O', '<PAD>:O', '<PAD>:O', '<PAD>:O', '<PAD>:O', '<PAD>:O', '<PAD>:O', '<PAD>:O', '<PAD>:O', '<PAD>:O', '<PAD>:O', '<PAD>:O', '<PAD>:O', '<PAD>:O', '<PAD>:O', '<PAD>:O', '<PAD>:O', '<PAD>:O', '<PAD>:O', '<PAD>:O', '<PAD>:O', '<PAD>:O', '<PAD>:O', '<PAD>:O', '<PAD>:O', '<PAD>:O', '<PAD>:O', '<PAD>:O', '<PAD>:O', '<PAD>:O', '<PAD>:O', '<PAD>:O', '<PAD>:O', '<PAD>:O', '<PAD>:O', '<PAD>:O', '<PAD>:O', '<PAD>:O', '<PAD>:O', '<PAD>:O', '<PAD>:O', '<PAD>:O', '<PAD>:O', '<PAD>:O']\n"
     ]
    },
    {
     "data": {
      "application/vnd.jupyter.widget-view+json": {
       "model_id": "e55ff819afca42a79b42524234cd613b",
       "version_major": 2,
       "version_minor": 0
      },
      "text/plain": [
       "HBox(children=(IntProgress(value=0, max=656), HTML(value='')))"
      ]
     },
     "metadata": {},
     "output_type": "display_data"
    },
    {
     "name": "stdout",
     "output_type": "stream",
     "text": [
      "\n",
      "[epoch 5]\tloss=3.5371727085695035\n",
      "[evaluation]:\n",
      "\t ['近:O', '日:O', '在:O', '江:B-LOC', '苏:I-LOC', '如:O', '皋:B-LOC', '市:I-LOC', '城:O', '西:O', '乡:O', '，:O', '１:O', '０:O', '０:O', '０:O', '多:O', '个:O', '品:O', '种:O', '的:O', '花:O', '木:O', '盆:O', '景:O', '，:O', '千:O', '姿:O', '百:O', '态:O', '，:O', '新:O', '颖:O', '别:O', '致:O', '，:O', '吸:O', '引:O', '了:O', '成:O', '千:O', '上:O', '万:O', '的:O', '游:O', '客:O', '、:O', '顾:O', '客:O', '驻:O', '足:O', '观:O', '赏:O', '、:O', '选:O', '购:O', '。:O', '<PAD>:O', '<PAD>:O', '<PAD>:O', '<PAD>:O', '<PAD>:O', '<PAD>:O', '<PAD>:O', '<PAD>:O', '<PAD>:O', '<PAD>:O', '<PAD>:O', '<PAD>:O', '<PAD>:O', '<PAD>:O', '<PAD>:O', '<PAD>:O', '<PAD>:O', '<PAD>:O', '<PAD>:O', '<PAD>:O', '<PAD>:O', '<PAD>:O', '<PAD>:O', '<PAD>:O', '<PAD>:O', '<PAD>:O', '<PAD>:O', '<PAD>:O', '<PAD>:O', '<PAD>:O', '<PAD>:O', '<PAD>:O', '<PAD>:O', '<PAD>:O', '<PAD>:O', '<PAD>:O', '<PAD>:O', '<PAD>:O', '<PAD>:O', '<PAD>:O', '<PAD>:O', '<PAD>:O', '<PAD>:O', '<PAD>:O', '<PAD>:O', '<PAD>:O', '<PAD>:O', '<PAD>:O', '<PAD>:O', '<PAD>:O', '<PAD>:O', '<PAD>:O', '<PAD>:O', '<PAD>:O', '<PAD>:O', '<PAD>:O', '<PAD>:O', '<PAD>:O', '<PAD>:O', '<PAD>:O', '<PAD>:O', '<PAD>:O', '<PAD>:O', '<PAD>:O', '<PAD>:O', '<PAD>:O', '<PAD>:O', '<PAD>:O', '<PAD>:O', '<PAD>:O', '<PAD>:O', '<PAD>:O', '<PAD>:O', '<PAD>:O', '<PAD>:O', '<PAD>:O', '<PAD>:O', '<PAD>:O', '<PAD>:O', '<PAD>:O', '<PAD>:O', '<PAD>:O', '<PAD>:O', '<PAD>:O', '<PAD>:O', '<PAD>:O', '<PAD>:O', '<PAD>:O', '<PAD>:O', '<PAD>:O', '<PAD>:O', '<PAD>:O', '<PAD>:O', '<PAD>:O', '<PAD>:O', '<PAD>:O', '<PAD>:O', '<PAD>:O', '<PAD>:O', '<PAD>:O', '<PAD>:O', '<PAD>:O', '<PAD>:O', '<PAD>:O', '<PAD>:O', '<PAD>:O', '<PAD>:O', '<PAD>:O', '<PAD>:O', '<PAD>:O', '<PAD>:O', '<PAD>:O', '<PAD>:O', '<PAD>:O', '<PAD>:O', '<PAD>:O', '<PAD>:O', '<PAD>:O', '<PAD>:O', '<PAD>:O', '<PAD>:O', '<PAD>:O', '<PAD>:O', '<PAD>:O', '<PAD>:O', '<PAD>:O', '<PAD>:O', '<PAD>:O', '<PAD>:O', '<PAD>:O', '<PAD>:O', '<PAD>:O', '<PAD>:O', '<PAD>:O', '<PAD>:O', '<PAD>:O', '<PAD>:O', '<PAD>:O', '<PAD>:O', '<PAD>:O', '<PAD>:O', '<PAD>:O', '<PAD>:O']\n",
      "\t ['大:O', '家:O', '认:O', '为:O', '，:O', '该:O', '片:O', '较:O', '全:O', '面:O', '、:O', '系:O', '统:O', '、:O', '形:O', '象:O', '地:O', '反:O', '映:O', '了:O', '新:O', '四:O', '军:O', '的:O', '战:O', '斗:O', '历:O', '史:O', '，:O', '揭:O', '示:O', '了:O', '中:B-ORG', '国:I-ORG', '共:I-ORG', '产:I-ORG', '党:I-ORG', '在:O', '抗:O', '日:O', '战:O', '争:O', '中:O', '的:O', '历:O', '史:O', '地:O', '位:O', '和:O', '作:O', '用:O', '，:O', '是:O', '一:O', '部:O', '进:O', '行:O', '爱:O', '国:O', '主:O', '义:O', '和:O', '革:O', '命:O', '传:O', '统:O', '教:O', '育:O', '的:O', '好:O', '教:O', '材:O', '。:O', '<PAD>:O', '<PAD>:O', '<PAD>:O', '<PAD>:O', '<PAD>:O', '<PAD>:O', '<PAD>:O', '<PAD>:O', '<PAD>:O', '<PAD>:O', '<PAD>:O', '<PAD>:O', '<PAD>:O', '<PAD>:O', '<PAD>:O', '<PAD>:O', '<PAD>:O', '<PAD>:O', '<PAD>:O', '<PAD>:O', '<PAD>:O', '<PAD>:O', '<PAD>:O', '<PAD>:O', '<PAD>:O', '<PAD>:O', '<PAD>:O', '<PAD>:O', '<PAD>:O', '<PAD>:O', '<PAD>:O', '<PAD>:O', '<PAD>:O', '<PAD>:O', '<PAD>:O', '<PAD>:O', '<PAD>:O', '<PAD>:O', '<PAD>:O', '<PAD>:O', '<PAD>:O', '<PAD>:O', '<PAD>:O', '<PAD>:O', '<PAD>:O', '<PAD>:O', '<PAD>:O', '<PAD>:O', '<PAD>:O', '<PAD>:O', '<PAD>:O', '<PAD>:O', '<PAD>:O', '<PAD>:O', '<PAD>:O', '<PAD>:O', '<PAD>:O', '<PAD>:O', '<PAD>:O', '<PAD>:O', '<PAD>:O', '<PAD>:O', '<PAD>:O', '<PAD>:O', '<PAD>:O', '<PAD>:O', '<PAD>:O', '<PAD>:O', '<PAD>:O', '<PAD>:O', '<PAD>:O', '<PAD>:O', '<PAD>:O', '<PAD>:O', '<PAD>:O', '<PAD>:O', '<PAD>:O', '<PAD>:O', '<PAD>:O', '<PAD>:O', '<PAD>:O', '<PAD>:O', '<PAD>:O', '<PAD>:O', '<PAD>:O', '<PAD>:O', '<PAD>:O', '<PAD>:O', '<PAD>:O', '<PAD>:O', '<PAD>:O', '<PAD>:O', '<PAD>:O', '<PAD>:O', '<PAD>:O', '<PAD>:O', '<PAD>:O', '<PAD>:O', '<PAD>:O', '<PAD>:O', '<PAD>:O', '<PAD>:O', '<PAD>:O', '<PAD>:O', '<PAD>:O', '<PAD>:O', '<PAD>:O', '<PAD>:O', '<PAD>:O', '<PAD>:O', '<PAD>:O', '<PAD>:O', '<PAD>:O', '<PAD>:O', '<PAD>:O', '<PAD>:O', '<PAD>:O', '<PAD>:O', '<PAD>:O', '<PAD>:O', '<PAD>:O', '<PAD>:O', '<PAD>:O', '<PAD>:O', '<PAD>:O', '<PAD>:O', '<PAD>:O']\n"
     ]
    },
    {
     "data": {
      "application/vnd.jupyter.widget-view+json": {
       "model_id": "6259237bd0954a05ba4e84ce04bb2128",
       "version_major": 2,
       "version_minor": 0
      },
      "text/plain": [
       "HBox(children=(IntProgress(value=0, max=656), HTML(value='')))"
      ]
     },
     "metadata": {},
     "output_type": "display_data"
    },
    {
     "name": "stdout",
     "output_type": "stream",
     "text": [
      "\n",
      "[epoch 6]\tloss=2.9889826483842805\n",
      "[evaluation]:\n",
      "\t ['近:O', '日:O', '在:O', '江:B-LOC', '苏:I-LOC', '如:O', '皋:B-LOC', '市:I-LOC', '城:O', '西:O', '乡:O', '，:O', '１:O', '０:O', '０:O', '０:O', '多:O', '个:O', '品:O', '种:O', '的:O', '花:O', '木:O', '盆:O', '景:O', '，:O', '千:O', '姿:O', '百:O', '态:O', '，:O', '新:O', '颖:O', '别:O', '致:O', '，:O', '吸:O', '引:O', '了:O', '成:O', '千:O', '上:O', '万:O', '的:O', '游:O', '客:O', '、:O', '顾:O', '客:O', '驻:O', '足:O', '观:O', '赏:O', '、:O', '选:O', '购:O', '。:O', '<PAD>:O', '<PAD>:O', '<PAD>:O', '<PAD>:O', '<PAD>:O', '<PAD>:O', '<PAD>:O', '<PAD>:O', '<PAD>:O', '<PAD>:O', '<PAD>:O', '<PAD>:O', '<PAD>:O', '<PAD>:O', '<PAD>:O', '<PAD>:O', '<PAD>:O', '<PAD>:O', '<PAD>:O', '<PAD>:O', '<PAD>:O', '<PAD>:O', '<PAD>:O', '<PAD>:O', '<PAD>:O', '<PAD>:O', '<PAD>:O', '<PAD>:O', '<PAD>:O', '<PAD>:O', '<PAD>:O', '<PAD>:O', '<PAD>:O', '<PAD>:O', '<PAD>:O', '<PAD>:O', '<PAD>:O', '<PAD>:O', '<PAD>:O', '<PAD>:O', '<PAD>:O', '<PAD>:O', '<PAD>:O', '<PAD>:O', '<PAD>:O', '<PAD>:O', '<PAD>:O', '<PAD>:O', '<PAD>:O', '<PAD>:O', '<PAD>:O', '<PAD>:O', '<PAD>:O', '<PAD>:O', '<PAD>:O', '<PAD>:O', '<PAD>:O', '<PAD>:O', '<PAD>:O', '<PAD>:O', '<PAD>:O', '<PAD>:O', '<PAD>:O', '<PAD>:O', '<PAD>:O', '<PAD>:O', '<PAD>:O', '<PAD>:O', '<PAD>:O', '<PAD>:O', '<PAD>:O', '<PAD>:O', '<PAD>:O', '<PAD>:O', '<PAD>:O', '<PAD>:O', '<PAD>:O', '<PAD>:O', '<PAD>:O', '<PAD>:O', '<PAD>:O', '<PAD>:O', '<PAD>:O', '<PAD>:O', '<PAD>:O', '<PAD>:O', '<PAD>:O', '<PAD>:O', '<PAD>:O', '<PAD>:O', '<PAD>:O', '<PAD>:O', '<PAD>:O', '<PAD>:O', '<PAD>:O', '<PAD>:O', '<PAD>:O', '<PAD>:O', '<PAD>:O', '<PAD>:O', '<PAD>:O', '<PAD>:O', '<PAD>:O', '<PAD>:O', '<PAD>:O', '<PAD>:O', '<PAD>:O', '<PAD>:O', '<PAD>:O', '<PAD>:O', '<PAD>:O', '<PAD>:O', '<PAD>:O', '<PAD>:O', '<PAD>:O', '<PAD>:O', '<PAD>:O', '<PAD>:O', '<PAD>:O', '<PAD>:O', '<PAD>:O', '<PAD>:O', '<PAD>:O', '<PAD>:O', '<PAD>:O', '<PAD>:O', '<PAD>:O', '<PAD>:O', '<PAD>:O', '<PAD>:O', '<PAD>:O', '<PAD>:O', '<PAD>:O', '<PAD>:O', '<PAD>:O', '<PAD>:O', '<PAD>:O', '<PAD>:O', '<PAD>:O', '<PAD>:O', '<PAD>:O', '<PAD>:O', '<PAD>:O']\n",
      "\t ['大:O', '家:O', '认:O', '为:O', '，:O', '该:O', '片:O', '较:O', '全:O', '面:O', '、:O', '系:O', '统:O', '、:O', '形:O', '象:O', '地:O', '反:O', '映:O', '了:O', '新:O', '四:O', '军:O', '的:O', '战:O', '斗:O', '历:O', '史:O', '，:O', '揭:O', '示:O', '了:O', '中:B-ORG', '国:I-ORG', '共:I-ORG', '产:I-ORG', '党:I-ORG', '在:O', '抗:O', '日:O', '战:O', '争:O', '中:O', '的:O', '历:O', '史:O', '地:O', '位:O', '和:O', '作:O', '用:O', '，:O', '是:O', '一:O', '部:O', '进:O', '行:O', '爱:O', '国:O', '主:O', '义:O', '和:O', '革:O', '命:O', '传:O', '统:O', '教:O', '育:O', '的:O', '好:O', '教:O', '材:O', '。:O', '<PAD>:O', '<PAD>:O', '<PAD>:O', '<PAD>:O', '<PAD>:O', '<PAD>:O', '<PAD>:O', '<PAD>:O', '<PAD>:O', '<PAD>:O', '<PAD>:O', '<PAD>:O', '<PAD>:O', '<PAD>:O', '<PAD>:O', '<PAD>:O', '<PAD>:O', '<PAD>:O', '<PAD>:O', '<PAD>:O', '<PAD>:O', '<PAD>:O', '<PAD>:O', '<PAD>:O', '<PAD>:O', '<PAD>:O', '<PAD>:O', '<PAD>:O', '<PAD>:O', '<PAD>:O', '<PAD>:O', '<PAD>:O', '<PAD>:O', '<PAD>:O', '<PAD>:O', '<PAD>:O', '<PAD>:O', '<PAD>:O', '<PAD>:O', '<PAD>:O', '<PAD>:O', '<PAD>:O', '<PAD>:O', '<PAD>:O', '<PAD>:O', '<PAD>:O', '<PAD>:O', '<PAD>:O', '<PAD>:O', '<PAD>:O', '<PAD>:O', '<PAD>:O', '<PAD>:O', '<PAD>:O', '<PAD>:O', '<PAD>:O', '<PAD>:O', '<PAD>:O', '<PAD>:O', '<PAD>:O', '<PAD>:O', '<PAD>:O', '<PAD>:O', '<PAD>:O', '<PAD>:O', '<PAD>:O', '<PAD>:O', '<PAD>:O', '<PAD>:O', '<PAD>:O', '<PAD>:O', '<PAD>:O', '<PAD>:O', '<PAD>:O', '<PAD>:O', '<PAD>:O', '<PAD>:O', '<PAD>:O', '<PAD>:O', '<PAD>:O', '<PAD>:O', '<PAD>:O', '<PAD>:O', '<PAD>:O', '<PAD>:O', '<PAD>:O', '<PAD>:O', '<PAD>:O', '<PAD>:O', '<PAD>:O', '<PAD>:O', '<PAD>:O', '<PAD>:O', '<PAD>:O', '<PAD>:O', '<PAD>:O', '<PAD>:O', '<PAD>:O', '<PAD>:O', '<PAD>:O', '<PAD>:O', '<PAD>:O', '<PAD>:O', '<PAD>:O', '<PAD>:O', '<PAD>:O', '<PAD>:O', '<PAD>:O', '<PAD>:O', '<PAD>:O', '<PAD>:O', '<PAD>:O', '<PAD>:O', '<PAD>:O', '<PAD>:O', '<PAD>:O', '<PAD>:O', '<PAD>:O', '<PAD>:O', '<PAD>:O', '<PAD>:O', '<PAD>:O', '<PAD>:O', '<PAD>:O', '<PAD>:O', '<PAD>:O', '<PAD>:O']\n"
     ]
    },
    {
     "data": {
      "application/vnd.jupyter.widget-view+json": {
       "model_id": "a990db3dc738407fad5cf8be322eeaf0",
       "version_major": 2,
       "version_minor": 0
      },
      "text/plain": [
       "HBox(children=(IntProgress(value=0, max=656), HTML(value='')))"
      ]
     },
     "metadata": {},
     "output_type": "display_data"
    },
    {
     "name": "stdout",
     "output_type": "stream",
     "text": [
      "\n",
      "[epoch 7]\tloss=2.5681906211666945\n",
      "[evaluation]:\n",
      "\t ['近:O', '日:O', '在:O', '江:B-LOC', '苏:I-LOC', '如:O', '皋:B-LOC', '市:I-LOC', '城:O', '西:O', '乡:O', '，:O', '１:O', '０:O', '０:O', '０:O', '多:O', '个:O', '品:O', '种:O', '的:O', '花:O', '木:O', '盆:O', '景:O', '，:O', '千:O', '姿:O', '百:O', '态:O', '，:O', '新:O', '颖:O', '别:O', '致:O', '，:O', '吸:O', '引:O', '了:O', '成:O', '千:O', '上:O', '万:O', '的:O', '游:O', '客:O', '、:O', '顾:O', '客:O', '驻:O', '足:O', '观:O', '赏:O', '、:O', '选:O', '购:O', '。:O', '<PAD>:O', '<PAD>:O', '<PAD>:O', '<PAD>:O', '<PAD>:O', '<PAD>:O', '<PAD>:O', '<PAD>:O', '<PAD>:O', '<PAD>:O', '<PAD>:O', '<PAD>:O', '<PAD>:O', '<PAD>:O', '<PAD>:O', '<PAD>:O', '<PAD>:O', '<PAD>:O', '<PAD>:O', '<PAD>:O', '<PAD>:O', '<PAD>:O', '<PAD>:O', '<PAD>:O', '<PAD>:O', '<PAD>:O', '<PAD>:O', '<PAD>:O', '<PAD>:O', '<PAD>:O', '<PAD>:O', '<PAD>:O', '<PAD>:O', '<PAD>:O', '<PAD>:O', '<PAD>:O', '<PAD>:O', '<PAD>:O', '<PAD>:O', '<PAD>:O', '<PAD>:O', '<PAD>:O', '<PAD>:O', '<PAD>:O', '<PAD>:O', '<PAD>:O', '<PAD>:O', '<PAD>:O', '<PAD>:O', '<PAD>:O', '<PAD>:O', '<PAD>:O', '<PAD>:O', '<PAD>:O', '<PAD>:O', '<PAD>:O', '<PAD>:O', '<PAD>:O', '<PAD>:O', '<PAD>:O', '<PAD>:O', '<PAD>:O', '<PAD>:O', '<PAD>:O', '<PAD>:O', '<PAD>:O', '<PAD>:O', '<PAD>:O', '<PAD>:O', '<PAD>:O', '<PAD>:O', '<PAD>:O', '<PAD>:O', '<PAD>:O', '<PAD>:O', '<PAD>:O', '<PAD>:O', '<PAD>:O', '<PAD>:O', '<PAD>:O', '<PAD>:O', '<PAD>:O', '<PAD>:O', '<PAD>:O', '<PAD>:O', '<PAD>:O', '<PAD>:O', '<PAD>:O', '<PAD>:O', '<PAD>:O', '<PAD>:O', '<PAD>:O', '<PAD>:O', '<PAD>:O', '<PAD>:O', '<PAD>:O', '<PAD>:O', '<PAD>:O', '<PAD>:O', '<PAD>:O', '<PAD>:O', '<PAD>:O', '<PAD>:O', '<PAD>:O', '<PAD>:O', '<PAD>:O', '<PAD>:O', '<PAD>:O', '<PAD>:O', '<PAD>:O', '<PAD>:O', '<PAD>:O', '<PAD>:O', '<PAD>:O', '<PAD>:O', '<PAD>:O', '<PAD>:O', '<PAD>:O', '<PAD>:O', '<PAD>:O', '<PAD>:O', '<PAD>:O', '<PAD>:O', '<PAD>:O', '<PAD>:O', '<PAD>:O', '<PAD>:O', '<PAD>:O', '<PAD>:O', '<PAD>:O', '<PAD>:O', '<PAD>:O', '<PAD>:O', '<PAD>:O', '<PAD>:O', '<PAD>:O', '<PAD>:O', '<PAD>:O', '<PAD>:O', '<PAD>:O', '<PAD>:O', '<PAD>:O', '<PAD>:O']\n",
      "\t ['大:O', '家:O', '认:O', '为:O', '，:O', '该:O', '片:O', '较:O', '全:O', '面:O', '、:O', '系:O', '统:O', '、:O', '形:O', '象:O', '地:O', '反:O', '映:O', '了:O', '新:O', '四:O', '军:O', '的:O', '战:O', '斗:O', '历:O', '史:O', '，:O', '揭:O', '示:O', '了:O', '中:B-ORG', '国:I-ORG', '共:I-ORG', '产:I-ORG', '党:I-ORG', '在:O', '抗:O', '日:O', '战:O', '争:O', '中:O', '的:O', '历:O', '史:O', '地:O', '位:O', '和:O', '作:O', '用:O', '，:O', '是:O', '一:O', '部:O', '进:O', '行:O', '爱:O', '国:O', '主:O', '义:O', '和:O', '革:O', '命:O', '传:O', '统:O', '教:O', '育:O', '的:O', '好:O', '教:O', '材:O', '。:O', '<PAD>:O', '<PAD>:O', '<PAD>:O', '<PAD>:O', '<PAD>:O', '<PAD>:O', '<PAD>:O', '<PAD>:O', '<PAD>:O', '<PAD>:O', '<PAD>:O', '<PAD>:O', '<PAD>:O', '<PAD>:O', '<PAD>:O', '<PAD>:O', '<PAD>:O', '<PAD>:O', '<PAD>:O', '<PAD>:O', '<PAD>:O', '<PAD>:O', '<PAD>:O', '<PAD>:O', '<PAD>:O', '<PAD>:O', '<PAD>:O', '<PAD>:O', '<PAD>:O', '<PAD>:O', '<PAD>:O', '<PAD>:O', '<PAD>:O', '<PAD>:O', '<PAD>:O', '<PAD>:O', '<PAD>:O', '<PAD>:O', '<PAD>:O', '<PAD>:O', '<PAD>:O', '<PAD>:O', '<PAD>:O', '<PAD>:O', '<PAD>:O', '<PAD>:O', '<PAD>:O', '<PAD>:O', '<PAD>:O', '<PAD>:O', '<PAD>:O', '<PAD>:O', '<PAD>:O', '<PAD>:O', '<PAD>:O', '<PAD>:O', '<PAD>:O', '<PAD>:O', '<PAD>:O', '<PAD>:O', '<PAD>:O', '<PAD>:O', '<PAD>:O', '<PAD>:O', '<PAD>:O', '<PAD>:O', '<PAD>:O', '<PAD>:O', '<PAD>:O', '<PAD>:O', '<PAD>:O', '<PAD>:O', '<PAD>:O', '<PAD>:O', '<PAD>:O', '<PAD>:O', '<PAD>:O', '<PAD>:O', '<PAD>:O', '<PAD>:O', '<PAD>:O', '<PAD>:O', '<PAD>:O', '<PAD>:O', '<PAD>:O', '<PAD>:O', '<PAD>:O', '<PAD>:O', '<PAD>:O', '<PAD>:O', '<PAD>:O', '<PAD>:O', '<PAD>:O', '<PAD>:O', '<PAD>:O', '<PAD>:O', '<PAD>:O', '<PAD>:O', '<PAD>:O', '<PAD>:O', '<PAD>:O', '<PAD>:O', '<PAD>:O', '<PAD>:O', '<PAD>:O', '<PAD>:O', '<PAD>:O', '<PAD>:O', '<PAD>:O', '<PAD>:O', '<PAD>:O', '<PAD>:O', '<PAD>:O', '<PAD>:O', '<PAD>:O', '<PAD>:O', '<PAD>:O', '<PAD>:O', '<PAD>:O', '<PAD>:O', '<PAD>:O', '<PAD>:O', '<PAD>:O', '<PAD>:O', '<PAD>:O', '<PAD>:O', '<PAD>:O']\n"
     ]
    },
    {
     "data": {
      "application/vnd.jupyter.widget-view+json": {
       "model_id": "c9724c69d65f4065b51d8747ed3ca1d2",
       "version_major": 2,
       "version_minor": 0
      },
      "text/plain": [
       "HBox(children=(IntProgress(value=0, max=656), HTML(value='')))"
      ]
     },
     "metadata": {},
     "output_type": "display_data"
    },
    {
     "name": "stdout",
     "output_type": "stream",
     "text": [
      "\n",
      "[epoch 8]\tloss=2.249734251964383\n",
      "[evaluation]:\n",
      "\t ['近:O', '日:O', '在:O', '江:B-LOC', '苏:I-LOC', '如:O', '皋:B-LOC', '市:I-LOC', '城:O', '西:O', '乡:O', '，:O', '１:O', '０:O', '０:O', '０:O', '多:O', '个:O', '品:O', '种:O', '的:O', '花:O', '木:O', '盆:O', '景:O', '，:O', '千:O', '姿:O', '百:O', '态:O', '，:O', '新:O', '颖:O', '别:O', '致:O', '，:O', '吸:O', '引:O', '了:O', '成:O', '千:O', '上:O', '万:O', '的:O', '游:O', '客:O', '、:O', '顾:O', '客:O', '驻:O', '足:O', '观:O', '赏:O', '、:O', '选:O', '购:O', '。:O', '<PAD>:O', '<PAD>:O', '<PAD>:O', '<PAD>:O', '<PAD>:O', '<PAD>:O', '<PAD>:O', '<PAD>:O', '<PAD>:O', '<PAD>:O', '<PAD>:O', '<PAD>:O', '<PAD>:O', '<PAD>:O', '<PAD>:O', '<PAD>:O', '<PAD>:O', '<PAD>:O', '<PAD>:O', '<PAD>:O', '<PAD>:O', '<PAD>:O', '<PAD>:O', '<PAD>:O', '<PAD>:O', '<PAD>:O', '<PAD>:O', '<PAD>:O', '<PAD>:O', '<PAD>:O', '<PAD>:O', '<PAD>:O', '<PAD>:O', '<PAD>:O', '<PAD>:O', '<PAD>:O', '<PAD>:O', '<PAD>:O', '<PAD>:O', '<PAD>:O', '<PAD>:O', '<PAD>:O', '<PAD>:O', '<PAD>:O', '<PAD>:O', '<PAD>:O', '<PAD>:O', '<PAD>:O', '<PAD>:O', '<PAD>:O', '<PAD>:O', '<PAD>:O', '<PAD>:O', '<PAD>:O', '<PAD>:O', '<PAD>:O', '<PAD>:O', '<PAD>:O', '<PAD>:O', '<PAD>:O', '<PAD>:O', '<PAD>:O', '<PAD>:O', '<PAD>:O', '<PAD>:O', '<PAD>:O', '<PAD>:O', '<PAD>:O', '<PAD>:O', '<PAD>:O', '<PAD>:O', '<PAD>:O', '<PAD>:O', '<PAD>:O', '<PAD>:O', '<PAD>:O', '<PAD>:O', '<PAD>:O', '<PAD>:O', '<PAD>:O', '<PAD>:O', '<PAD>:O', '<PAD>:O', '<PAD>:O', '<PAD>:O', '<PAD>:O', '<PAD>:O', '<PAD>:O', '<PAD>:O', '<PAD>:O', '<PAD>:O', '<PAD>:O', '<PAD>:O', '<PAD>:O', '<PAD>:O', '<PAD>:O', '<PAD>:O', '<PAD>:O', '<PAD>:O', '<PAD>:O', '<PAD>:O', '<PAD>:O', '<PAD>:O', '<PAD>:O', '<PAD>:O', '<PAD>:O', '<PAD>:O', '<PAD>:O', '<PAD>:O', '<PAD>:O', '<PAD>:O', '<PAD>:O', '<PAD>:O', '<PAD>:O', '<PAD>:O', '<PAD>:O', '<PAD>:O', '<PAD>:O', '<PAD>:O', '<PAD>:O', '<PAD>:O', '<PAD>:O', '<PAD>:O', '<PAD>:O', '<PAD>:O', '<PAD>:O', '<PAD>:O', '<PAD>:O', '<PAD>:O', '<PAD>:O', '<PAD>:O', '<PAD>:O', '<PAD>:O', '<PAD>:O', '<PAD>:O', '<PAD>:O', '<PAD>:O', '<PAD>:O', '<PAD>:O', '<PAD>:O', '<PAD>:O', '<PAD>:O', '<PAD>:O']\n",
      "\t ['大:O', '家:O', '认:O', '为:O', '，:O', '该:O', '片:O', '较:O', '全:O', '面:O', '、:O', '系:O', '统:O', '、:O', '形:O', '象:O', '地:O', '反:O', '映:O', '了:O', '新:O', '四:O', '军:O', '的:O', '战:O', '斗:O', '历:O', '史:O', '，:O', '揭:O', '示:O', '了:O', '中:B-ORG', '国:I-ORG', '共:I-ORG', '产:I-ORG', '党:I-ORG', '在:O', '抗:O', '日:O', '战:O', '争:O', '中:O', '的:O', '历:O', '史:O', '地:O', '位:O', '和:O', '作:O', '用:O', '，:O', '是:O', '一:O', '部:O', '进:O', '行:O', '爱:O', '国:O', '主:O', '义:O', '和:O', '革:O', '命:O', '传:O', '统:O', '教:O', '育:O', '的:O', '好:O', '教:O', '材:O', '。:O', '<PAD>:O', '<PAD>:O', '<PAD>:O', '<PAD>:O', '<PAD>:O', '<PAD>:O', '<PAD>:O', '<PAD>:O', '<PAD>:O', '<PAD>:O', '<PAD>:O', '<PAD>:O', '<PAD>:O', '<PAD>:O', '<PAD>:O', '<PAD>:O', '<PAD>:O', '<PAD>:O', '<PAD>:O', '<PAD>:O', '<PAD>:O', '<PAD>:O', '<PAD>:O', '<PAD>:O', '<PAD>:O', '<PAD>:O', '<PAD>:O', '<PAD>:O', '<PAD>:O', '<PAD>:O', '<PAD>:O', '<PAD>:O', '<PAD>:O', '<PAD>:O', '<PAD>:O', '<PAD>:O', '<PAD>:O', '<PAD>:O', '<PAD>:O', '<PAD>:O', '<PAD>:O', '<PAD>:O', '<PAD>:O', '<PAD>:O', '<PAD>:O', '<PAD>:O', '<PAD>:O', '<PAD>:O', '<PAD>:O', '<PAD>:O', '<PAD>:O', '<PAD>:O', '<PAD>:O', '<PAD>:O', '<PAD>:O', '<PAD>:O', '<PAD>:O', '<PAD>:O', '<PAD>:O', '<PAD>:O', '<PAD>:O', '<PAD>:O', '<PAD>:O', '<PAD>:O', '<PAD>:O', '<PAD>:O', '<PAD>:O', '<PAD>:O', '<PAD>:O', '<PAD>:O', '<PAD>:O', '<PAD>:O', '<PAD>:O', '<PAD>:O', '<PAD>:O', '<PAD>:O', '<PAD>:O', '<PAD>:O', '<PAD>:O', '<PAD>:O', '<PAD>:O', '<PAD>:O', '<PAD>:O', '<PAD>:O', '<PAD>:O', '<PAD>:O', '<PAD>:O', '<PAD>:O', '<PAD>:O', '<PAD>:O', '<PAD>:O', '<PAD>:O', '<PAD>:O', '<PAD>:O', '<PAD>:O', '<PAD>:O', '<PAD>:O', '<PAD>:O', '<PAD>:O', '<PAD>:O', '<PAD>:O', '<PAD>:O', '<PAD>:O', '<PAD>:O', '<PAD>:O', '<PAD>:O', '<PAD>:O', '<PAD>:O', '<PAD>:O', '<PAD>:O', '<PAD>:O', '<PAD>:O', '<PAD>:O', '<PAD>:O', '<PAD>:O', '<PAD>:O', '<PAD>:O', '<PAD>:O', '<PAD>:O', '<PAD>:O', '<PAD>:O', '<PAD>:O', '<PAD>:O', '<PAD>:O', '<PAD>:O', '<PAD>:O', '<PAD>:O']\n"
     ]
    },
    {
     "data": {
      "application/vnd.jupyter.widget-view+json": {
       "model_id": "cc35234464074a6ea52daef45c0e0edd",
       "version_major": 2,
       "version_minor": 0
      },
      "text/plain": [
       "HBox(children=(IntProgress(value=0, max=656), HTML(value='')))"
      ]
     },
     "metadata": {},
     "output_type": "display_data"
    },
    {
     "name": "stdout",
     "output_type": "stream",
     "text": [
      "\n",
      "[epoch 9]\tloss=1.9895463266023776\n",
      "[evaluation]:\n",
      "\t ['近:O', '日:O', '在:O', '江:B-LOC', '苏:I-LOC', '如:O', '皋:O', '市:O', '城:O', '西:O', '乡:O', '，:O', '１:O', '０:O', '０:O', '０:O', '多:O', '个:O', '品:O', '种:O', '的:O', '花:O', '木:O', '盆:O', '景:O', '，:O', '千:O', '姿:O', '百:O', '态:O', '，:O', '新:O', '颖:O', '别:O', '致:O', '，:O', '吸:O', '引:O', '了:O', '成:O', '千:O', '上:O', '万:O', '的:O', '游:O', '客:O', '、:O', '顾:O', '客:O', '驻:O', '足:O', '观:O', '赏:O', '、:O', '选:O', '购:O', '。:O', '<PAD>:O', '<PAD>:O', '<PAD>:O', '<PAD>:O', '<PAD>:O', '<PAD>:O', '<PAD>:O', '<PAD>:O', '<PAD>:O', '<PAD>:O', '<PAD>:O', '<PAD>:O', '<PAD>:O', '<PAD>:O', '<PAD>:O', '<PAD>:O', '<PAD>:O', '<PAD>:O', '<PAD>:O', '<PAD>:O', '<PAD>:O', '<PAD>:O', '<PAD>:O', '<PAD>:O', '<PAD>:O', '<PAD>:O', '<PAD>:O', '<PAD>:O', '<PAD>:O', '<PAD>:O', '<PAD>:O', '<PAD>:O', '<PAD>:O', '<PAD>:O', '<PAD>:O', '<PAD>:O', '<PAD>:O', '<PAD>:O', '<PAD>:O', '<PAD>:O', '<PAD>:O', '<PAD>:O', '<PAD>:O', '<PAD>:O', '<PAD>:O', '<PAD>:O', '<PAD>:O', '<PAD>:O', '<PAD>:O', '<PAD>:O', '<PAD>:O', '<PAD>:O', '<PAD>:O', '<PAD>:O', '<PAD>:O', '<PAD>:O', '<PAD>:O', '<PAD>:O', '<PAD>:O', '<PAD>:O', '<PAD>:O', '<PAD>:O', '<PAD>:O', '<PAD>:O', '<PAD>:O', '<PAD>:O', '<PAD>:O', '<PAD>:O', '<PAD>:O', '<PAD>:O', '<PAD>:O', '<PAD>:O', '<PAD>:O', '<PAD>:O', '<PAD>:O', '<PAD>:O', '<PAD>:O', '<PAD>:O', '<PAD>:O', '<PAD>:O', '<PAD>:O', '<PAD>:O', '<PAD>:O', '<PAD>:O', '<PAD>:O', '<PAD>:O', '<PAD>:O', '<PAD>:O', '<PAD>:O', '<PAD>:O', '<PAD>:O', '<PAD>:O', '<PAD>:O', '<PAD>:O', '<PAD>:O', '<PAD>:O', '<PAD>:O', '<PAD>:O', '<PAD>:O', '<PAD>:O', '<PAD>:O', '<PAD>:O', '<PAD>:O', '<PAD>:O', '<PAD>:O', '<PAD>:O', '<PAD>:O', '<PAD>:O', '<PAD>:O', '<PAD>:O', '<PAD>:O', '<PAD>:O', '<PAD>:O', '<PAD>:O', '<PAD>:O', '<PAD>:O', '<PAD>:O', '<PAD>:O', '<PAD>:O', '<PAD>:O', '<PAD>:O', '<PAD>:O', '<PAD>:O', '<PAD>:O', '<PAD>:O', '<PAD>:O', '<PAD>:O', '<PAD>:O', '<PAD>:O', '<PAD>:O', '<PAD>:O', '<PAD>:O', '<PAD>:O', '<PAD>:O', '<PAD>:O', '<PAD>:O', '<PAD>:O', '<PAD>:O', '<PAD>:O', '<PAD>:O', '<PAD>:O', '<PAD>:O', '<PAD>:O']\n",
      "\t ['大:O', '家:O', '认:O', '为:O', '，:O', '该:O', '片:O', '较:O', '全:O', '面:O', '、:O', '系:O', '统:O', '、:O', '形:O', '象:O', '地:O', '反:O', '映:O', '了:O', '新:O', '四:O', '军:O', '的:O', '战:O', '斗:O', '历:O', '史:O', '，:O', '揭:O', '示:O', '了:O', '中:B-ORG', '国:I-ORG', '共:I-ORG', '产:I-ORG', '党:I-ORG', '在:O', '抗:O', '日:O', '战:O', '争:O', '中:O', '的:O', '历:O', '史:O', '地:O', '位:O', '和:O', '作:O', '用:O', '，:O', '是:O', '一:O', '部:O', '进:O', '行:O', '爱:O', '国:O', '主:O', '义:O', '和:O', '革:O', '命:O', '传:O', '统:O', '教:O', '育:O', '的:O', '好:O', '教:O', '材:O', '。:O', '<PAD>:O', '<PAD>:O', '<PAD>:O', '<PAD>:O', '<PAD>:O', '<PAD>:O', '<PAD>:O', '<PAD>:O', '<PAD>:O', '<PAD>:O', '<PAD>:O', '<PAD>:O', '<PAD>:O', '<PAD>:O', '<PAD>:O', '<PAD>:O', '<PAD>:O', '<PAD>:O', '<PAD>:O', '<PAD>:O', '<PAD>:O', '<PAD>:O', '<PAD>:O', '<PAD>:O', '<PAD>:O', '<PAD>:O', '<PAD>:O', '<PAD>:O', '<PAD>:O', '<PAD>:O', '<PAD>:O', '<PAD>:O', '<PAD>:O', '<PAD>:O', '<PAD>:O', '<PAD>:O', '<PAD>:O', '<PAD>:O', '<PAD>:O', '<PAD>:O', '<PAD>:O', '<PAD>:O', '<PAD>:O', '<PAD>:O', '<PAD>:O', '<PAD>:O', '<PAD>:O', '<PAD>:O', '<PAD>:O', '<PAD>:O', '<PAD>:O', '<PAD>:O', '<PAD>:O', '<PAD>:O', '<PAD>:O', '<PAD>:O', '<PAD>:O', '<PAD>:O', '<PAD>:O', '<PAD>:O', '<PAD>:O', '<PAD>:O', '<PAD>:O', '<PAD>:O', '<PAD>:O', '<PAD>:O', '<PAD>:O', '<PAD>:O', '<PAD>:O', '<PAD>:O', '<PAD>:O', '<PAD>:O', '<PAD>:O', '<PAD>:O', '<PAD>:O', '<PAD>:O', '<PAD>:O', '<PAD>:O', '<PAD>:O', '<PAD>:O', '<PAD>:O', '<PAD>:O', '<PAD>:O', '<PAD>:O', '<PAD>:O', '<PAD>:O', '<PAD>:O', '<PAD>:O', '<PAD>:O', '<PAD>:O', '<PAD>:O', '<PAD>:O', '<PAD>:O', '<PAD>:O', '<PAD>:O', '<PAD>:O', '<PAD>:O', '<PAD>:O', '<PAD>:O', '<PAD>:O', '<PAD>:O', '<PAD>:O', '<PAD>:O', '<PAD>:O', '<PAD>:O', '<PAD>:O', '<PAD>:O', '<PAD>:O', '<PAD>:O', '<PAD>:O', '<PAD>:O', '<PAD>:O', '<PAD>:O', '<PAD>:O', '<PAD>:O', '<PAD>:O', '<PAD>:O', '<PAD>:O', '<PAD>:O', '<PAD>:O', '<PAD>:O', '<PAD>:O', '<PAD>:O', '<PAD>:O', '<PAD>:O', '<PAD>:O', '<PAD>:O']\n"
     ]
    },
    {
     "name": "stderr",
     "output_type": "stream",
     "text": [
      "/Users/luyiming/anaconda3/lib/python3.7/site-packages/torch/serialization.py:360: UserWarning: Couldn't retrieve source code for container of type lstm_crf_ner. It won't be checked for correctness upon loading.\n",
      "  \"type \" + obj.__name__ + \". It won't be checked \"\n"
     ]
    }
   ],
   "source": [
    "# evaluate trained model on some cases\n",
    "def evaluation_case(model, path_x=MAIN_PATH+'msra/val/sentences.txt', path_y=MAIN_PATH+'msra/val/tags.txt', n=1):\n",
    "    Iter_val = train_data_iter(path_x, path_y, data_config, shuffle=False)\n",
    "    x,y = next(Iter_val)\n",
    "    tag_pred = model(x)\n",
    "    for sent, tag in zip(x[:n].numpy(), tag_pred[:n]):\n",
    "        print('\\t',[token_idx_r.get(i,'')+':'+tag_idx_r[j] for i,j in zip(sent, tag)])\n",
    "\n",
    "# train model and evaluation\n",
    "def train(model_config, data_config, train_config):\n",
    "    \n",
    "    print('training start...')\n",
    "    print('[params]:')\n",
    "    print('\\tmodel params:', model_config)\n",
    "    print('\\tdata params:', data_config)\n",
    "    print('\\ttrain parmas:', train_config)\n",
    "    \n",
    "    #\n",
    "    train_data_num = len(open(MAIN_PATH+'msra/train/sentences.txt', 'r').read().split('\\n'))\n",
    "    step_per_epochs = train_data_num // data_config['batch_size']\n",
    "\n",
    "    # build model\n",
    "    model = lstm_crf_ner(embedding_dim=model_config['embedding_dim'],\n",
    "                     hidden_dim=model_config['hidden_dim'],\n",
    "                     vocab_size=model_config['vocab_size'], \n",
    "                     tag_to_ix=tag_idx,\n",
    "                     batch_size=data_config['batch_size']).to(device)\n",
    "    print('[build model]:')\n",
    "    print(model)\n",
    "    \n",
    "    # opt\n",
    "    optimizer = optim.Adam(model.parameters(), lr=train_config['lr'])\n",
    "    \n",
    "    # train\n",
    "    for epoch in range(train_config['epochs']):\n",
    "        \n",
    "        # record loss every epoch\n",
    "        loss_value = []\n",
    "        \n",
    "        # get data flow\n",
    "        Iter = train_data_iter(data_config=data_config)\n",
    "        \n",
    "        for i in tqdm_notebook(range(step_per_epochs)):\n",
    "        #for x,y in Iter:\n",
    "            x,y = next(Iter)\n",
    "\n",
    "            # model init\n",
    "            model.zero_grad()\n",
    "            #model._init_lstm_state()\n",
    "            \n",
    "            \n",
    "            loss = model.neg_log_likelihood_v2(x, y)\n",
    "            \n",
    "            # record\n",
    "            loss_value.append(loss.item())\n",
    "            \n",
    "            # weight update\n",
    "            loss.backward()\n",
    "            optimizer.step()\n",
    "            \n",
    "        print('[epoch %d]\\tloss=%s' % (epoch, np.mean(loss_value)))\n",
    "        #print('all loss:', loss_value)\n",
    "        print('[evaluation]:')\n",
    "        evaluation_case(model, n=2)\n",
    "        \n",
    "    return model\n",
    "\n",
    "def save(model, path):\n",
    "    torch.save(model, path)\n",
    "    \n",
    "def load(path):\n",
    "    model = torch.load(path)\n",
    "    return model\n",
    "\n",
    "model = train(model_config, data_config, train_config)\n",
    "save(model, 'model/lstm_crf.model')"
   ]
  },
  {
   "cell_type": "code",
   "execution_count": 22,
   "metadata": {
    "colab": {},
    "colab_type": "code",
    "id": "fyXs5EiUfZFu"
   },
   "outputs": [
    {
     "name": "stdout",
     "output_type": "stream",
     "text": [
      "lstm_crf.model\r\n"
     ]
    }
   ],
   "source": [
    "! ls model"
   ]
  },
  {
   "cell_type": "code",
   "execution_count": 23,
   "metadata": {},
   "outputs": [
    {
     "data": {
      "application/vnd.jupyter.widget-view+json": {
       "model_id": "1ca5360f70684362a40d7d648fb3f0f3",
       "version_major": 2,
       "version_minor": 0
      },
      "text/plain": [
       "HBox(children=(IntProgress(value=1, bar_style='info', max=1), HTML(value='')))"
      ]
     },
     "metadata": {},
     "output_type": "display_data"
    },
    {
     "name": "stdout",
     "output_type": "stream",
     "text": [
      "\n"
     ]
    }
   ],
   "source": [
    "#test\n",
    "\n",
    "def test(model, out_pathx, out_pathy, path_x=MAIN_PATH+'msra/test/sentences.txt', path_y=MAIN_PATH+'msra/test/tags.txt'):\n",
    "    Iter_val = train_data_iter(path_x, path_y, data_config, shuffle=False)\n",
    "    ox = open(out_pathx, 'w')\n",
    "    oy = open(out_pathy, 'w')\n",
    "    \n",
    "    model.eval()\n",
    "    for x,y in tqdm_notebook(Iter_val):\n",
    "        with torch.no_grad():\n",
    "            tag_pred = model(x)\n",
    "            for sent, tag in zip(x.numpy(), tag_pred):\n",
    "                sent_decode = ' '.join([token_idx_r[i] for i in sent])\n",
    "                tag_decode = ' '.join([tag_idx_r[i] for i in tag])\n",
    "                ox.write(sent_decode + '\\n')\n",
    "                oy.write(tag_decode + '\\n')\n",
    "    ox.close()\n",
    "    oy.close()\n",
    "    \n",
    "test(model, out_pathx='result/lstm_crf_sentences.txt', out_pathy='result/lstm_crf_tags.txt')"
   ]
  },
  {
   "cell_type": "code",
   "execution_count": 24,
   "metadata": {},
   "outputs": [
    {
     "name": "stdout",
     "output_type": "stream",
     "text": [
      "lstm_crf_sentences.txt lstm_crf_tags.txt\n",
      "中 共 中 央 致 中 国 致 公 党 十 一 大 的 贺 词 各 位 代 表 、 各 位 同 志 ： 在 中 国 致 公 党 第 十 一 次 全 国 代 表 大 会 隆 重 召 开 之 际 ， 中 国 共 产 党 中 央 委 员 会 谨 向 大 会 表 示 热 烈 的 祝 贺 ， 向 致 公 党 的 同 志 们 致 以 亲 切 的 问 候 ！ <PAD> <PAD> <PAD> <PAD> <PAD> <PAD> <PAD> <PAD> <PAD> <PAD> <PAD> <PAD> <PAD> <PAD> <PAD> <PAD> <PAD> <PAD> <PAD> <PAD> <PAD> <PAD> <PAD> <PAD> <PAD> <PAD> <PAD> <PAD> <PAD> <PAD> <PAD> <PAD> <PAD> <PAD> <PAD> <PAD> <PAD> <PAD> <PAD> <PAD> <PAD> <PAD> <PAD> <PAD> <PAD> <PAD> <PAD> <PAD> <PAD> <PAD> <PAD> <PAD> <PAD> <PAD> <PAD> <PAD> <PAD> <PAD> <PAD> <PAD> <PAD> <PAD> <PAD> <PAD> <PAD> <PAD> <PAD> <PAD> <PAD> <PAD> <PAD> <PAD> <PAD> <PAD> <PAD> <PAD> <PAD> <PAD> <PAD> <PAD> <PAD> <PAD> <PAD> <PAD> <PAD> <PAD> <PAD> <PAD> <PAD> <PAD> <PAD> <PAD> <PAD> <PAD> <PAD> <PAD> <PAD> <PAD> <PAD> <PAD> <PAD> <PAD> <PAD> <PAD> <PAD> <PAD> <PAD> <PAD> <PAD> <PAD> <PAD> <PAD> <PAD>\n",
      "在 过 去 的 五 年 中 ， 致 公 党 在 邓 小 平 理 论 指 引 下 ， 遵 循 社 会 主 义 初 级 阶 段 的 基 本 路 线 ， 努 力 实 践 致 公 党 十 大 提 出 的 发 挥 参 政 党 职 能 、 加 强 自 身 建 设 的 基 本 任 务 。 <PAD> <PAD> <PAD> <PAD> <PAD> <PAD> <PAD> <PAD> <PAD> <PAD> <PAD> <PAD> <PAD> <PAD> <PAD> <PAD> <PAD> <PAD> <PAD> <PAD> <PAD> <PAD> <PAD> <PAD> <PAD> <PAD> <PAD> <PAD> <PAD> <PAD> <PAD> <PAD> <PAD> <PAD> <PAD> <PAD> <PAD> <PAD> <PAD> <PAD> <PAD> <PAD> <PAD> <PAD> <PAD> <PAD> <PAD> <PAD> <PAD> <PAD> <PAD> <PAD> <PAD> <PAD> <PAD> <PAD> <PAD> <PAD> <PAD> <PAD> <PAD> <PAD> <PAD> <PAD> <PAD> <PAD> <PAD> <PAD> <PAD> <PAD> <PAD> <PAD> <PAD> <PAD> <PAD> <PAD> <PAD> <PAD> <PAD> <PAD> <PAD> <PAD> <PAD> <PAD> <PAD> <PAD> <PAD> <PAD> <PAD> <PAD> <PAD> <PAD> <PAD> <PAD> <PAD> <PAD> <PAD> <PAD> <PAD> <PAD> <PAD> <PAD> <PAD> <PAD> <PAD> <PAD> <PAD> <PAD> <PAD> <PAD> <PAD> <PAD> <PAD> <PAD> <PAD> <PAD> <PAD> <PAD> <PAD> <PAD> <PAD> <PAD> <PAD> <PAD> <PAD> <PAD> <PAD> <PAD> <PAD> <PAD> <PAD>\n",
      "高 举 爱 国 主 义 和 社 会 主 义 两 面 旗 帜 ， 团 结 全 体 成 员 以 及 所 联 系 的 归 侨 、 侨 眷 ， 发 扬 爱 国 革 命 的 光 荣 传 统 ， 为 统 一 祖 国 、 振 兴 中 华 而 努 力 奋 斗 ； 紧 紧 围 绕 国 家 的 中 心 工 作 ， 联 系 改 革 和 建 设 中 的 重 大 问 题 以 及 人 民 群 众 普 遍 关 心 的 社 会 问 题 ， 深 入 开 展 调 查 研 究 ， 就 经 济 建 设 、 侨 务 政 策 、 文 教 卫 生 、 对 外 开 放 、 精 神 文 明 建 设 等 问 题 ， 提 出 了 许 多 宝 贵 的 意 见 和 建 议 ， 受 到 有 关 方 面 高 度 重 视 ； 致 公 党 中 央 领 导 人 多 次 参 加 中 共 中 央 和 国 务 院 举 行 的 民 主 党 派 人 士 座 谈 会\n",
      "在 此 ， 中 共 中 央 谨 向 致 公 党 中 央 以 及 全 体 成 员 致 以 崇 高 的 敬 意 ！ <PAD> <PAD> <PAD> <PAD> <PAD> <PAD> <PAD> <PAD> <PAD> <PAD> <PAD> <PAD> <PAD> <PAD> <PAD> <PAD> <PAD> <PAD> <PAD> <PAD> <PAD> <PAD> <PAD> <PAD> <PAD> <PAD> <PAD> <PAD> <PAD> <PAD> <PAD> <PAD> <PAD> <PAD> <PAD> <PAD> <PAD> <PAD> <PAD> <PAD> <PAD> <PAD> <PAD> <PAD> <PAD> <PAD> <PAD> <PAD> <PAD> <PAD> <PAD> <PAD> <PAD> <PAD> <PAD> <PAD> <PAD> <PAD> <PAD> <PAD> <PAD> <PAD> <PAD> <PAD> <PAD> <PAD> <PAD> <PAD> <PAD> <PAD> <PAD> <PAD> <PAD> <PAD> <PAD> <PAD> <PAD> <PAD> <PAD> <PAD> <PAD> <PAD> <PAD> <PAD> <PAD> <PAD> <PAD> <PAD> <PAD> <PAD> <PAD> <PAD> <PAD> <PAD> <PAD> <PAD> <PAD> <PAD> <PAD> <PAD> <PAD> <PAD> <PAD> <PAD> <PAD> <PAD> <PAD> <PAD> <PAD> <PAD> <PAD> <PAD> <PAD> <PAD> <PAD> <PAD> <PAD> <PAD> <PAD> <PAD> <PAD> <PAD> <PAD> <PAD> <PAD> <PAD> <PAD> <PAD> <PAD> <PAD> <PAD> <PAD> <PAD> <PAD> <PAD> <PAD> <PAD> <PAD> <PAD> <PAD> <PAD> <PAD> <PAD> <PAD> <PAD> <PAD> <PAD> <PAD> <PAD> <PAD> <PAD> <PAD> <PAD> <PAD> <PAD> <PAD> <PAD> <PAD> <PAD> <PAD> <PAD> <PAD> <PAD> <PAD> <PAD> <PAD> <PAD> <PAD> <PAD> <PAD> <PAD> <PAD>\n",
      "不 久 前 ， 中 国 共 产 党 召 开 了 举 世 瞩 目 的 第 十 五 次 全 国 代 表 大 会 。 <PAD> <PAD> <PAD> <PAD> <PAD> <PAD> <PAD> <PAD> <PAD> <PAD> <PAD> <PAD> <PAD> <PAD> <PAD> <PAD> <PAD> <PAD> <PAD> <PAD> <PAD> <PAD> <PAD> <PAD> <PAD> <PAD> <PAD> <PAD> <PAD> <PAD> <PAD> <PAD> <PAD> <PAD> <PAD> <PAD> <PAD> <PAD> <PAD> <PAD> <PAD> <PAD> <PAD> <PAD> <PAD> <PAD> <PAD> <PAD> <PAD> <PAD> <PAD> <PAD> <PAD> <PAD> <PAD> <PAD> <PAD> <PAD> <PAD> <PAD> <PAD> <PAD> <PAD> <PAD> <PAD> <PAD> <PAD> <PAD> <PAD> <PAD> <PAD> <PAD> <PAD> <PAD> <PAD> <PAD> <PAD> <PAD> <PAD> <PAD> <PAD> <PAD> <PAD> <PAD> <PAD> <PAD> <PAD> <PAD> <PAD> <PAD> <PAD> <PAD> <PAD> <PAD> <PAD> <PAD> <PAD> <PAD> <PAD> <PAD> <PAD> <PAD> <PAD> <PAD> <PAD> <PAD> <PAD> <PAD> <PAD> <PAD> <PAD> <PAD> <PAD> <PAD> <PAD> <PAD> <PAD> <PAD> <PAD> <PAD> <PAD> <PAD> <PAD> <PAD> <PAD> <PAD> <PAD> <PAD> <PAD> <PAD> <PAD> <PAD> <PAD> <PAD> <PAD> <PAD> <PAD> <PAD> <PAD> <PAD> <PAD> <PAD> <PAD> <PAD> <PAD> <PAD> <PAD> <PAD> <PAD> <PAD> <PAD> <PAD> <PAD> <PAD> <PAD> <PAD> <PAD> <PAD> <PAD> <PAD> <PAD> <PAD> <PAD> <PAD> <PAD> <PAD> <PAD> <PAD> <PAD> <PAD> <PAD> <PAD>\n",
      "这 次 代 表 大 会 是 在 中 国 改 革 开 放 和 社 会 主 义 现 代 化 建 设 发 展 的 关 键 时 刻 召 开 的 历 史 性 会 议 。 <PAD> <PAD> <PAD> <PAD> <PAD> <PAD> <PAD> <PAD> <PAD> <PAD> <PAD> <PAD> <PAD> <PAD> <PAD> <PAD> <PAD> <PAD> <PAD> <PAD> <PAD> <PAD> <PAD> <PAD> <PAD> <PAD> <PAD> <PAD> <PAD> <PAD> <PAD> <PAD> <PAD> <PAD> <PAD> <PAD> <PAD> <PAD> <PAD> <PAD> <PAD> <PAD> <PAD> <PAD> <PAD> <PAD> <PAD> <PAD> <PAD> <PAD> <PAD> <PAD> <PAD> <PAD> <PAD> <PAD> <PAD> <PAD> <PAD> <PAD> <PAD> <PAD> <PAD> <PAD> <PAD> <PAD> <PAD> <PAD> <PAD> <PAD> <PAD> <PAD> <PAD> <PAD> <PAD> <PAD> <PAD> <PAD> <PAD> <PAD> <PAD> <PAD> <PAD> <PAD> <PAD> <PAD> <PAD> <PAD> <PAD> <PAD> <PAD> <PAD> <PAD> <PAD> <PAD> <PAD> <PAD> <PAD> <PAD> <PAD> <PAD> <PAD> <PAD> <PAD> <PAD> <PAD> <PAD> <PAD> <PAD> <PAD> <PAD> <PAD> <PAD> <PAD> <PAD> <PAD> <PAD> <PAD> <PAD> <PAD> <PAD> <PAD> <PAD> <PAD> <PAD> <PAD> <PAD> <PAD> <PAD> <PAD> <PAD> <PAD> <PAD> <PAD> <PAD> <PAD> <PAD> <PAD> <PAD> <PAD> <PAD> <PAD> <PAD> <PAD> <PAD> <PAD> <PAD> <PAD> <PAD> <PAD> <PAD> <PAD> <PAD> <PAD> <PAD> <PAD> <PAD> <PAD> <PAD> <PAD>\n",
      "大 会 高 举 邓 小 平 理 论 伟 大 旗 帜 ， 回 顾 一 个 世 纪 以 来 中 国 人 民 的 奋 斗 历 史 ， 展 望 下 个 世 纪 ５ ０ 年 的 发 展 前 景 ， 认 真 总 结 了 中 共 十 一 届 三 中 全 会 以 来 特 别 是 十 四 大 以 来 的 实 践 经 验 ， 对 中 国 改 革 开 放 和 社 会 主 义 现 代 化 建 设 跨 世 纪 的 发 展 作 出 了 全 面 部 署 。 <PAD> <PAD> <PAD> <PAD> <PAD> <PAD> <PAD> <PAD> <PAD> <PAD> <PAD> <PAD> <PAD> <PAD> <PAD> <PAD> <PAD> <PAD> <PAD> <PAD> <PAD> <PAD> <PAD> <PAD> <PAD> <PAD> <PAD> <PAD> <PAD> <PAD> <PAD> <PAD> <PAD> <PAD> <PAD> <PAD> <PAD> <PAD> <PAD> <PAD> <PAD> <PAD> <PAD> <PAD> <PAD> <PAD> <PAD> <PAD> <PAD> <PAD> <PAD> <PAD> <PAD> <PAD> <PAD> <PAD> <PAD> <PAD> <PAD> <PAD> <PAD> <PAD> <PAD> <PAD> <PAD> <PAD> <PAD> <PAD> <PAD> <PAD> <PAD> <PAD> <PAD> <PAD> <PAD> <PAD> <PAD> <PAD> <PAD> <PAD> <PAD> <PAD> <PAD> <PAD> <PAD> <PAD> <PAD> <PAD> <PAD> <PAD> <PAD> <PAD>\n",
      "这 次 大 会 对 于 动 员 全 党 和 全 国 各 族 人 民 ， 解 放 思 想 ， 实 事 求 是 ， 抓 住 有 利 时 机 ， 继 续 开 拓 前 进 ， 把 建 设 有 中 国 特 色 社 会 主 义 伟 大 事 业 全 面 推 向 ２ １ 世 纪 ， 具 有 极 其 重 大 和 深 远 的 意 义 。 <PAD> <PAD> <PAD> <PAD> <PAD> <PAD> <PAD> <PAD> <PAD> <PAD> <PAD> <PAD> <PAD> <PAD> <PAD> <PAD> <PAD> <PAD> <PAD> <PAD> <PAD> <PAD> <PAD> <PAD> <PAD> <PAD> <PAD> <PAD> <PAD> <PAD> <PAD> <PAD> <PAD> <PAD> <PAD> <PAD> <PAD> <PAD> <PAD> <PAD> <PAD> <PAD> <PAD> <PAD> <PAD> <PAD> <PAD> <PAD> <PAD> <PAD> <PAD> <PAD> <PAD> <PAD> <PAD> <PAD> <PAD> <PAD> <PAD> <PAD> <PAD> <PAD> <PAD> <PAD> <PAD> <PAD> <PAD> <PAD> <PAD> <PAD> <PAD> <PAD> <PAD> <PAD> <PAD> <PAD> <PAD> <PAD> <PAD> <PAD> <PAD> <PAD> <PAD> <PAD> <PAD> <PAD> <PAD> <PAD> <PAD> <PAD> <PAD> <PAD> <PAD> <PAD> <PAD> <PAD> <PAD> <PAD> <PAD> <PAD> <PAD> <PAD> <PAD> <PAD> <PAD> <PAD> <PAD> <PAD> <PAD> <PAD> <PAD> <PAD> <PAD> <PAD> <PAD> <PAD> <PAD> <PAD> <PAD> <PAD>\n",
      "当 前 ， 在 中 共 十 五 大 精 神 的 指 引 下 ， 在 以 江 泽 民 同 志 为 核 心 的 中 共 中 央 领 导 下 ， 全 党 和 全 国 各 族 人 民 正 高 举 邓 小 平 理 论 伟 大 旗 帜 ， 同 心 同 德 ， 团 结 奋 斗 ， 沿 着 建 设 有 中 国 特 色 的 社 会 主 义 道 路 阔 步 前 进 。 <PAD> <PAD> <PAD> <PAD> <PAD> <PAD> <PAD> <PAD> <PAD> <PAD> <PAD> <PAD> <PAD> <PAD> <PAD> <PAD> <PAD> <PAD> <PAD> <PAD> <PAD> <PAD> <PAD> <PAD> <PAD> <PAD> <PAD> <PAD> <PAD> <PAD> <PAD> <PAD> <PAD> <PAD> <PAD> <PAD> <PAD> <PAD> <PAD> <PAD> <PAD> <PAD> <PAD> <PAD> <PAD> <PAD> <PAD> <PAD> <PAD> <PAD> <PAD> <PAD> <PAD> <PAD> <PAD> <PAD> <PAD> <PAD> <PAD> <PAD> <PAD> <PAD> <PAD> <PAD> <PAD> <PAD> <PAD> <PAD> <PAD> <PAD> <PAD> <PAD> <PAD> <PAD> <PAD> <PAD> <PAD> <PAD> <PAD> <PAD> <PAD> <PAD> <PAD> <PAD> <PAD> <PAD> <PAD> <PAD> <PAD> <PAD> <PAD> <PAD> <PAD> <PAD> <PAD> <PAD> <PAD> <PAD> <PAD> <PAD> <PAD> <PAD> <PAD> <PAD> <PAD> <PAD> <PAD> <PAD> <PAD> <PAD> <PAD> <PAD>\n",
      "实 现 建 设 有 中 国 特 色 社 会 主 义 的 宏 伟 目 标 ， 是 中 国 共 产 党 和 作 为 参 政 党 的 各 民 主 党 派 共 同 肩 负 的 历 史 使 命 。 <PAD> <PAD> <PAD> <PAD> <PAD> <PAD> <PAD> <PAD> <PAD> <PAD> <PAD> <PAD> <PAD> <PAD> <PAD> <PAD> <PAD> <PAD> <PAD> <PAD> <PAD> <PAD> <PAD> <PAD> <PAD> <PAD> <PAD> <PAD> <PAD> <PAD> <PAD> <PAD> <PAD> <PAD> <PAD> <PAD> <PAD> <PAD> <PAD> <PAD> <PAD> <PAD> <PAD> <PAD> <PAD> <PAD> <PAD> <PAD> <PAD> <PAD> <PAD> <PAD> <PAD> <PAD> <PAD> <PAD> <PAD> <PAD> <PAD> <PAD> <PAD> <PAD> <PAD> <PAD> <PAD> <PAD> <PAD> <PAD> <PAD> <PAD> <PAD> <PAD> <PAD> <PAD> <PAD> <PAD> <PAD> <PAD> <PAD> <PAD> <PAD> <PAD> <PAD> <PAD> <PAD> <PAD> <PAD> <PAD> <PAD> <PAD> <PAD> <PAD> <PAD> <PAD> <PAD> <PAD> <PAD> <PAD> <PAD> <PAD> <PAD> <PAD> <PAD> <PAD> <PAD> <PAD> <PAD> <PAD> <PAD> <PAD> <PAD> <PAD> <PAD> <PAD> <PAD> <PAD> <PAD> <PAD> <PAD> <PAD> <PAD> <PAD> <PAD> <PAD> <PAD> <PAD> <PAD> <PAD> <PAD> <PAD> <PAD> <PAD> <PAD> <PAD> <PAD> <PAD> <PAD> <PAD> <PAD> <PAD> <PAD> <PAD> <PAD> <PAD> <PAD> <PAD> <PAD> <PAD> <PAD> <PAD> <PAD> <PAD> <PAD>\n"
     ]
    },
    {
     "name": "stdout",
     "output_type": "stream",
     "text": [
      "B-ORG I-ORG I-ORG I-ORG O B-ORG I-ORG I-ORG I-ORG I-ORG O O O O O O O O O O O O O O O O O B-LOC I-LOC O O O O O O O O O O O O O O O O O O O O B-ORG I-ORG I-ORG I-ORG I-ORG I-ORG I-ORG I-ORG I-ORG I-ORG O O O O O O O O O O O O O O O O O O O O O O O O O O O O O O O O O O O O O O O O O O O O O O O O O O O O O O O O O O O O O O O O O O O O O O O O O O O O O O O O O O O O O O O O O O O O O O O O O O O O O O O O O O O O O O O O O O O O O O O O O O O O O O O O O O O O O O O O O O O O O\r\n",
      "O O O O O O O O O O O O B-PER I-PER I-PER O O O O O O O O O O O O O O O O O O O O O O O O O O O O O O O O O O O O O O O O O O O O O O O O O O O O O O O O O O O O O O O O O O O O O O O O O O O O O O O O O O O O O O O O O O O O O O O O O O O O O O O O O O O O O O O O O O O O O O O O O O O O O O O O O O O O O O O O O O O O O O O O O O O O O O O O O O O O O O O O O O O O O O O O O O O O O O O O O O O O O O O O O\r\n",
      "O O O O O O O O O O O O O O O O O O O O O O O O O O O O O O O O O O O O O O O O O O O O O O O O O O O O O O B-LOC I-LOC O O O O O O O O O O O O O O O O O O O O O O O O O O O O O O O O O O O O O O O O O O O O O O O O O O O O O O O O O O O O O O O O O O O O O O O O O O O O O O O O O O O O O O O O O O O O O O O O O O O O O O O O O O O O O O O O O O O O O O O O O O O O B-ORG I-ORG I-ORG I-ORG O B-ORG I-ORG I-ORG O O O O O O O O O O O O\r\n",
      "O O O B-ORG I-ORG I-ORG I-ORG O O O O O O O O O O O O O O O O O O O O O O O O O O O O O O O O O O O O O O O O O O O O O O O O O O O O O O O O O O O O O O O O O O O O O O O O O O O O O O O O O O O O O O O O O O O O O O O O O O O O O O O O O O O O O O O O O O O O O O O O O O O O O O O O O O O O O O O O O O O O O O O O O O O O O O O O O O O O O O O O O O O O O O O O O O O O O O O O O O O O O O O O O O O O O O O O O\r\n",
      "O O O O B-ORG I-ORG I-ORG I-ORG I-ORG O O O O O O O O O O O O O O O O O O O O O O O O O O O O O O O O O O O O O O O O O O O O O O O O O O O O O O O O O O O O O O O O O O O O O O O O O O O O O O O O O O O O O O O O O O O O O O O O O O O O O O O O O O O O O O O O O O O O O O O O O O O O O O O O O O O O O O O O O O O O O O O O O O O O O O O O O O O O O O O O O O O O O O O O O O O O O O O O O O O O O O O O O O O O O O O\r\n",
      "O O O O O O O O B-LOC I-LOC O O O O O O O O O O O O O O O O O O O O O O O O O O O O O O O O O O O O O O O O O O O O O O O O O O O O O O O O O O O O O O O O O O O O O O O O O O O O O O O O O O O O O O O O O O O O O O O O O O O O O O O O O O O O O O O O O O O O O O O O O O O O O O O O O O O O O O O O O O O O O O O O O O O O O O O O O O O O O O O O O O O O O O O O O O O O O O O O O O O O O O O O O O O O O O\r\n",
      "O O O O B-PER I-PER I-PER O O O O O O O O O O O O O O O B-LOC I-LOC O O O O O O O O O O O O O O O O O O O O O O O O O O O O O O O O O O O O O O O O O O O O O O O O O O O O O O B-LOC I-LOC O O O O O O O O O O O O O O O O O O O O O O O O O O O O O O O O O O O O O O O O O O O O O O O O O O O O O O O O O O O O O O O O O O O O O O O O O O O O O O O O O O O O O O O O O O O O O O O O O O O O O O O O O O O O O O O O O O O O O O O O\r\n",
      "O O O O O O O O O O O O O O O O O O O O O O O O O O O O O O O O O O O O O O O O O O O O O O B-LOC I-LOC O O O O O O O O O O O O O O O O O O O O O O O O O O O O O O O O O O O O O O O O O O O O O O O O O O O O O O O O O O O O O O O O O O O O O O O O O O O O O O O O O O O O O O O O O O O O O O O O O O O O O O O O O O O O O O O O O O O O O O O O O O O O O O O O O O O O O O O O O O O O O O O O O O O O O O O O\r\n",
      "O O O O B-ORG I-ORG I-ORG I-ORG I-ORG O O O O O O O O O B-PER I-PER I-PER O O O O O O B-ORG I-ORG I-ORG I-ORG O O O O O O O O O O O O O O O O B-PER I-PER I-PER O O O O O O O O O O O O O O O O O O O O O O B-LOC I-LOC O O O O O O O O O O O O O O O O O O O O O O O O O O O O O O O O O O O O O O O O O O O O O O O O O O O O O O O O O O O O O O O O O O O O O O O O O O O O O O O O O O O O O O O O O O O O O O O O O O O O O O O O O O O O O O O O O O O O O O O O O O O O O O\r\n",
      "O O O O O B-LOC I-LOC O O O O O O O O O O O O O B-ORG I-ORG I-ORG I-ORG I-ORG O O O O O O O O O O O O O O O O O O O O O O O O O O O O O O O O O O O O O O O O O O O O O O O O O O O O O O O O O O O O O O O O O O O O O O O O O O O O O O O O O O O O O O O O O O O O O O O O O O O O O O O O O O O O O O O O O O O O O O O O O O O O O O O O O O O O O O O O O O O O O O O O O O O O O O O O O O O O O O O O O O O O O O O O O O O O O O O\r\n"
     ]
    }
   ],
   "source": [
    "!ls result/\n",
    "!head result/lstm_crf_sentences.txt\n",
    "!head result/lstm_crf_tags.txt"
   ]
  },
  {
   "cell_type": "code",
   "execution_count": 25,
   "metadata": {},
   "outputs": [
    {
     "name": "stdout",
     "output_type": "stream",
     "text": [
      "micro : 0.8097027292120667 \t macro : 0.8097027292120667\n"
     ]
    }
   ],
   "source": [
    "# evaluation\n",
    "from utils.evaluation import f1_score_from_path\n",
    "\n",
    "test_x = 'msra/test/sentences.txt'\n",
    "test_y = 'msra/test/tags.txt'\n",
    "pred_y = 'result/lstm_crf_tags.txt'\n",
    "pred_x = 'result/lstm_crf_sentences.txt' # Because of padding, the length of prediction may be shorter than true label\n",
    "\n",
    "micro_score = f1_score_from_path(test_x, test_y, pred_y, pred_x, f1_type='mirco')\n",
    "macro_score = f1_score_from_path(test_x, test_y, pred_y, pred_x, f1_type='marco')\n",
    "print('micro : %s \\t macro : %s' % (micro_score, macro_score))"
   ]
  },
  {
   "cell_type": "code",
   "execution_count": null,
   "metadata": {},
   "outputs": [],
   "source": []
  }
 ],
 "metadata": {
  "colab": {
   "name": "lstm_crf_baseline.ipynb",
   "provenance": []
  },
  "kernelspec": {
   "display_name": "Python 3",
   "language": "python",
   "name": "python3"
  },
  "language_info": {
   "codemirror_mode": {
    "name": "ipython",
    "version": 3
   },
   "file_extension": ".py",
   "mimetype": "text/x-python",
   "name": "python",
   "nbconvert_exporter": "python",
   "pygments_lexer": "ipython3",
   "version": "3.7.1"
  }
 },
 "nbformat": 4,
 "nbformat_minor": 1
}
